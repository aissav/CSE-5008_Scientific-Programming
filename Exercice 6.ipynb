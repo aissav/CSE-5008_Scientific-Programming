{
 "cells": [
  {
   "cell_type": "markdown",
   "id": "d3230767",
   "metadata": {},
   "source": [
    "## Exercise 6.1: Printing a dictionary"
   ]
  },
  {
   "cell_type": "code",
   "execution_count": 4,
   "id": "1fb30001",
   "metadata": {},
   "outputs": [
    {
     "name": "stdout",
     "output_type": "stream",
     "text": [
      "Key:  Name Value:  Aissa\n",
      "Key:  Surname Value:  HOUDJEDJ\n"
     ]
    }
   ],
   "source": [
    "'''\n",
    "Exercise 6.1: Printing a dictionary\n",
    "Write a function that prints key-value pairs of a dictionary\n",
    "'''\n",
    "def Ex6_1(dictionary):\n",
    "    #for each key\n",
    "    for key in dictionary:\n",
    "        #print the key and its value\n",
    "        print(\"Key: \",key,\"Value: \",dictionary[key])\n",
    "dictionary={\"Name\": 'Aissa', \"Surname\": 'HOUDJEDJ'}\n",
    "Ex6_1(dictionary)"
   ]
  },
  {
   "cell_type": "markdown",
   "id": "1dae421f",
   "metadata": {},
   "source": [
    "## Exercise 6.2: Histogram"
   ]
  },
  {
   "cell_type": "code",
   "execution_count": 5,
   "id": "8530d467",
   "metadata": {},
   "outputs": [
    {
     "data": {
      "text/plain": [
       "{8: 5, 6: 1, 10: 2, 20: 1}"
      ]
     },
     "execution_count": 5,
     "metadata": {},
     "output_type": "execute_result"
    }
   ],
   "source": [
    "'''\n",
    "Write a function that takes a list, and returns a dictionary with keys the elements of the list and as\n",
    "value the number of occurances of that element in the list.\n",
    "After you are done, look up ‘python collections counter’ in Google. Could you use a counter instead?\n",
    "'''\n",
    "def Ex6_2(listH):\n",
    "    dictionary={}\n",
    "    # for each value as a key\n",
    "    for value in listH:\n",
    "        #assign it as a value, and assign it occurences as a value\n",
    "        dictionary[value]=listH.count(value)\n",
    "    return dictionary\n",
    "\n",
    "Ex6_2([8, 6, 8, 10, 8, 20, 10, 8, 8])   "
   ]
  },
  {
   "cell_type": "markdown",
   "id": "57f4b60a",
   "metadata": {},
   "source": [
    "## Exercise 6.3: Get method\n"
   ]
  },
  {
   "cell_type": "code",
   "execution_count": 6,
   "id": "406ddd44",
   "metadata": {},
   "outputs": [
    {
     "data": {
      "text/plain": [
       "{8: 5, 6: 1, 10: 2, 20: 1}"
      ]
     },
     "execution_count": 6,
     "metadata": {},
     "output_type": "execute_result"
    }
   ],
   "source": [
    "'''\n",
    "Dictionaries have a get method, which takes a key and a default value. If the key is in the dictionary,\n",
    "it returns the value, otherwise, it returns the default value.\n",
    "Rewrite your code from the previous problem to make use of this get method.\n",
    "'''\n",
    "def Ex6_3(listH):\n",
    "    dictionary={}\n",
    "    # for each value as a key\n",
    "    for value in listH:\n",
    "        #if the return value is None, means the key does not exist\n",
    "        if dictionary.get(value,None)==None:\n",
    "            #assign the value as a key with value 1\n",
    "            dictionary[value]=1\n",
    "        #means the key eist, and we need just to increment its occurences\n",
    "        else:\n",
    "            dictionary[value]+=1\n",
    "        \n",
    "    return dictionary\n",
    "\n",
    "Ex6_3([8, 6, 8, 10, 8, 20, 10, 8, 8])"
   ]
  },
  {
   "cell_type": "markdown",
   "id": "314d83cc",
   "metadata": {},
   "source": [
    "## Exercise 6.4: Random text generator "
   ]
  },
  {
   "cell_type": "code",
   "execution_count": 7,
   "id": "db313a4f",
   "metadata": {},
   "outputs": [],
   "source": [
    "def process_line(line):\n",
    "    #if empty line, return NONE\n",
    "    if len(line.strip().split()[:-1])==0:\n",
    "        return\n",
    "    line_processed=[]\n",
    "    #st stands for first wordm to add BEGIN as well\n",
    "    st=True\n",
    "    #for each word in the line\n",
    "    for word in line.strip().split()[:-1]:\n",
    "        if st:\n",
    "            #add BEGIN to the first word\n",
    "            line_processed.append((\"BEGIN\",word.lower()))\n",
    "            st=False\n",
    "            #save temp. to be used in the next itteration\n",
    "            prev=word.lower()\n",
    "            continue\n",
    "        #process next words\n",
    "        line_processed.append((prev,word.lower()))\n",
    "        prev=word.lower()\n",
    "    #now, append the last word\n",
    "    line_processed.append((prev,line.strip().split()[-1].lower()))\n",
    "    line_processed.append((line.strip().split()[-1].lower(),\"END\"))\n",
    "    # YOUR CODE HERE #\n",
    "\n",
    "    return line_processed\n",
    "\n",
    "def process_textfile(filename):\n",
    "    d = {}\n",
    "\n",
    "    # Placeholder until we add File I/O in part two\n",
    "    # Overwrite the following lines with your code:\n",
    "    f = '''In winter I get up at night\n",
    "        And dress by yellow candle-light.\n",
    "        In summer quite the other way,\n",
    "        I have to go to bed by day.\n",
    "\n",
    "        I have to go to bed and see\n",
    "        The birds still hopping on the tree,\n",
    "        Or hear the grown-up people's feet\n",
    "        Still going past me in the street.\n",
    "\n",
    "        And does it not seem hard to you,\n",
    "        When all the sky is clear and blue,\n",
    "        And I should like so much to play,\n",
    "        To have to go to bed by day?\n",
    "        '''.split('\\n')\n",
    "\n",
    "    #for each line in f\n",
    "    for line in f:\n",
    "        #process the line and retieve the list of tuples\n",
    "        line_=process_line(line)\n",
    "        #if NONE, means the line is empty\n",
    "        if line_==None:\n",
    "            continue\n",
    "        #for each tuple in the in the line\n",
    "        for tup in line_:\n",
    "            #if END occcured, then process it differently\n",
    "            if \"END\" in tup:\n",
    "                if tup[0] not in d:\n",
    "                    d[tup[0]]=['END']\n",
    "            else:\n",
    "                #if the word does not exist, add it to the dictionary, and the next word as\n",
    "                #first element of its list\n",
    "                if tup[0] not in d:\n",
    "                    d[tup[0]]=[tup[1]]\n",
    "                else:\n",
    "                    #append new words\n",
    "                    if tup[1] not in d[tup[0]]:\n",
    "                        d[tup[0]].append(tup[1])\n",
    "\n",
    "    return d\n",
    "\n",
    "def generate_line(d):\n",
    "    # YOUR CODE HERE #\n",
    "    #first random word\n",
    "    v=random.choice(d[\"BEGIN\"]) # select random word from BEGIN\n",
    "    #initialize the sentence with the first word\n",
    "    sentence=v\n",
    "    #while END did not appear in the dictionary\n",
    "    while d[v]!=[\"END\"]:\n",
    "        #choose another word (randomly) from the list of the previously slected word\n",
    "        v=random.choice(d[v])\n",
    "        #append it to the sentence\n",
    "        sentence+=\" \"+v\n",
    "    return sentence\n"
   ]
  },
  {
   "cell_type": "markdown",
   "id": "c8067390",
   "metadata": {},
   "source": [
    "## Exercise 6.5: Vector functions "
   ]
  },
  {
   "cell_type": "code",
   "execution_count": 8,
   "id": "561baa5c",
   "metadata": {},
   "outputs": [
    {
     "name": "stdout",
     "output_type": "stream",
     "text": [
      "a)\tSum of two vecors:  {0: 1, 1: 7, 2: 5, 4: 1}\n",
      "b)\tMultiplication of two vecors:  14.0\n",
      "c)\tAdd two sparse vectors:  [1, 2, 6, 7, 2, 15, 0, 0, 0, 12]\n",
      "d)\tMultiplication of two sparse vectors:  14.0\n",
      "e)\tSum of a dense and a sparse vectors:  [1, 7, 5, 0, 1]\n",
      "f)\tMultiplication of a dense and a sparse vectors:  14.0\n"
     ]
    }
   ],
   "source": [
    "'''\n",
    "Let’s implement some vector functions. There are two types of vectors, normal or dense vectors, which\n",
    "we can represent using lists. For sparse vectors, where many of the elements are zero, this is inefficient.\n",
    "Instead, we use a dictionary with keys the indices of non-zero values, and then the value corresponding\n",
    "to the key is the value of the vector at that index. Hence, the vector [1, 2, 4] can be stored as a list: [1,\n",
    "2, 4] or as a dictionary {0:1, 1: 2, 2: 4}.\n",
    "(a) Write a function that adds two (dense) vectors\n",
    "(b) Write a function that multiplies (i.e. inner product) two (dense) vectors\n",
    "(c) Write a function that adds two sparse vectors\n",
    "(d) Write a function that multiplies two sparse vectors\n",
    "(e) Write a function that adds a sparse vector and a dense vector\n",
    "(f) Write a function that multiplies a sparse vector and a dense vector\n",
    "'''\n",
    "\n",
    "#a)\n",
    "def Ex6_5_a(dictA,dictB):\n",
    "    #dictionary to store the summation\n",
    "    output={}\n",
    "    #for each indices in both vectors\n",
    "    for i in set(set(dictA).union(set(dictB))):\n",
    "        #i used the default value 0 for missing index in the vector\n",
    "        if (dictA.get(i,0)+dictB.get(i,0))!=0:\n",
    "            output[i]=dictA.get(i,0)+dictB.get(i,0)\n",
    "    return output\n",
    "vector1={0:1, 1: 2, 2: 4}\n",
    "vector2={4:1, 1: 5, 2: 1}\n",
    "print(\"a)\\tSum of two vecors: \",Ex6_5_a(vector1,vector2))\n",
    "\n",
    "\n",
    "\n",
    "#b)\n",
    "def Ex6_5_b(dictA,dictB):\n",
    "    #dictionary to store the summation\n",
    "    output=0.0\n",
    "    #for each indices in both vectors\n",
    "    for i in set(set(dictA).union(set(dictB))):\n",
    "        #i used the default value 0 for missing index in the vector\n",
    "        if (dictA.get(i,0)+dictB.get(i,0))!=0:\n",
    "            output+=dictA.get(i,0)*dictB.get(i,0)\n",
    "    return output\n",
    "vector1={0:1, 1: 2, 2: 4}\n",
    "vector2={4:1, 1: 5, 2: 1}\n",
    "print(\"b)\\tMultiplication of two vecors: \",Ex6_5_b(vector1,vector2))\n",
    "\n",
    "\n",
    "\n",
    "#(c) Write a function that adds two sparse vectors\n",
    "#b)\n",
    "def Ex6_5_c(vectorA,vectorB):\n",
    "    #dictionary to store the summation\n",
    "    output=[]\n",
    "    if len(vectorA)!=len(vectorB):\n",
    "        print(\"Error, vectore of differnt shapes.\")\n",
    "        return\n",
    "    \n",
    "    #for each indices in both vectors\n",
    "    for i in range(len(vectorA)):\n",
    "        output.append(vectorA[i]+vectorB[i])\n",
    "    return output\n",
    "vector1=[0,2,3,6,1,3,0,0,0,1]\n",
    "vector2=[1,0,3,1,1,12,0,0,0,11]\n",
    "print(\"c)\\tAdd two sparse vectors: \",Ex6_5_c(vector1,vector2))\n",
    "\n",
    "\n",
    "#(d) Write a function that multiplies two sparse vectors\n",
    "def Ex6_5_d(vectorA,vectorB):\n",
    "    #dictionary to store the summation\n",
    "    output=0.0\n",
    "    if len(vectorA)!=len(vectorB):\n",
    "        print(\"Error, vectore of differnt shapes.\")\n",
    "        return\n",
    "    \n",
    "    #for each indices in both vectors\n",
    "    for i in range(len(vectorA)):\n",
    "        output+=vectorA[i]*vectorB[i]\n",
    "    return output\n",
    "vector1=[1,2,4,0,0] #{0:1, 1: 2, 2: 4}\n",
    "vector2=[0,5,1,0,1] #{4:1, 1: 5, 2: 1}\n",
    "print(\"d)\\tMultiplication of two sparse vectors: \",Ex6_5_d(vector1,vector2))\n",
    "    \n",
    "#(e) Write a function that adds a sparse vector and a dense vector\n",
    "def Ex6_5_e(vectorA,vectorB):\n",
    "    #dictionary to store the summation\n",
    "    output=[]\n",
    "    for i in range(len(vectorA)):\n",
    "        output.append(vectorA[i]+vectorB.get(i,0))\n",
    "    return output\n",
    "vector2={0:1, 1: 2, 2: 4}\n",
    "vector1=[0,5,1,0,1]\n",
    "print(\"e)\\tSum of a dense and a sparse vectors: \",Ex6_5_e(vector1,vector2))\n",
    "#(f) Write a function that multiplies a sparse vector and a dense vector\n",
    "def Ex6_5_f(vectorA,vectorB):\n",
    "    #dictionary to store the summation\n",
    "    output=0.0\n",
    "    for i in range(len(vectorA)):\n",
    "        output+=(vectorA[i]*vectorB.get(i,0))\n",
    "    return output\n",
    "vector2={0:1, 1: 2, 2: 4}\n",
    "vector1=[0,5,1,0,1]\n",
    "print(\"f)\\tMultiplication of a dense and a sparse vectors: \",Ex6_5_f(vector1,vector2))\n"
   ]
  },
  {
   "cell_type": "markdown",
   "id": "2b0d810b",
   "metadata": {},
   "source": [
    "## Exercise 6.6: Reverse look-up "
   ]
  },
  {
   "cell_type": "code",
   "execution_count": 9,
   "id": "72ef1161",
   "metadata": {},
   "outputs": [
    {
     "data": {
      "text/plain": [
       "['GeneA', 'GeneC']"
      ]
     },
     "execution_count": 9,
     "metadata": {},
     "output_type": "execute_result"
    }
   ],
   "source": [
    "'''\n",
    "Dictionaries are made to look up values by keys. Suppose however, we want to find the key that is\n",
    "associated with some value. Write a function that takes a dictionary and a value, and returns the key\n",
    "associated with this value.\n",
    "What challenges do you face? How would you deal with those challenges?\n",
    "'''\n",
    "def getKey(Dictionary,Value):\n",
    "    keys=[]\n",
    "    for key in Dictionary:\n",
    "        if Dictionary[key]==Value:\n",
    "            keys.append(key)\n",
    "    return keys\n",
    "#the main challenge here is when having multiple keys with the same value,\n",
    "# i handle that by creating a list, and append all corresponding keys to it.\n",
    "getKey({\"GeneA\":\"TP53\",\"GeneB\":\"PIK3CA\",\"GeneC\":\"TP53\"},\"TP53\")"
   ]
  },
  {
   "cell_type": "code",
   "execution_count": null,
   "id": "5fa2348d",
   "metadata": {},
   "outputs": [],
   "source": []
  }
 ],
 "metadata": {
  "kernelspec": {
   "display_name": "Python 3",
   "language": "python",
   "name": "python3"
  },
  "language_info": {
   "codemirror_mode": {
    "name": "ipython",
    "version": 3
   },
   "file_extension": ".py",
   "mimetype": "text/x-python",
   "name": "python",
   "nbconvert_exporter": "python",
   "pygments_lexer": "ipython3",
   "version": "3.8.8"
  }
 },
 "nbformat": 4,
 "nbformat_minor": 5
}

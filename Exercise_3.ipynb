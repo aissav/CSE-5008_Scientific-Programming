{
 "cells": [
  {
   "cell_type": "markdown",
   "id": "961168cc",
   "metadata": {},
   "source": [
    "# Functions"
   ]
  },
  {
   "cell_type": "markdown",
   "id": "1b5e5bcc",
   "metadata": {},
   "source": [
    "### Exercise 3.1: Hello "
   ]
  },
  {
   "cell_type": "code",
   "execution_count": 3,
   "id": "b6d61820",
   "metadata": {},
   "outputs": [
    {
     "name": "stdout",
     "output_type": "stream",
     "text": [
      "’Hello, world!\n"
     ]
    }
   ],
   "source": [
    "'''\n",
    "(a) Write a function hello_world that prints ’Hello, world!’\n",
    "'''\n",
    "def hello_world():\n",
    "    print(\"’Hello, world!\")\n",
    "hello_world()"
   ]
  },
  {
   "cell_type": "code",
   "execution_count": 5,
   "id": "19f25ce4",
   "metadata": {},
   "outputs": [
    {
     "name": "stdout",
     "output_type": "stream",
     "text": [
      "’Hello, Aissa!\n"
     ]
    }
   ],
   "source": [
    "'''\n",
    "(b) Write a function hello_name(name) that prints ’Hello, name!’ where name is a string.\n",
    "'''\n",
    "def hello_name(name):\n",
    "    print(\"’Hello, {}!\".format(name))\n",
    "hello_name(\"Aissa\")"
   ]
  },
  {
   "cell_type": "raw",
   "id": "ac985b67",
   "metadata": {},
   "source": [
    "'''\n",
    "(c) Explain the difference between the print and return keywords. What would change if instead of\n",
    "print you would use return?\n",
    "'''\n",
    "\n",
    "the main differences is that the function print is defined to jsut display a value in the output screen (cell or console for ex.) and the return function is used to 'transfer' a value from a function to the outside environment fo the function (return and exit the function).\n",
    "if we use return then we need to use a print to diplsay the returned value of a function.\n"
   ]
  },
  {
   "cell_type": "markdown",
   "id": "396cccfb",
   "metadata": {},
   "source": [
    "### Exercise 3.2: Polynomial\n",
    "'''\n",
    "Write a function that evaluates the polynomial 3x\n",
    "2 − x + 2.\n",
    "'''"
   ]
  },
  {
   "cell_type": "code",
   "execution_count": 85,
   "id": "6f6faa4e",
   "metadata": {},
   "outputs": [
    {
     "data": {
      "text/plain": [
       "46.0"
      ]
     },
     "execution_count": 85,
     "metadata": {},
     "output_type": "execute_result"
    }
   ],
   "source": [
    "import math\n",
    "def polynomial(x):\n",
    "    return 3*math.pow(x,2)-x+2\n",
    "polynomial(4)"
   ]
  },
  {
   "cell_type": "markdown",
   "id": "61ba4356",
   "metadata": {},
   "source": [
    "### Exercise 3.3: Maximum"
   ]
  },
  {
   "cell_type": "raw",
   "id": "3c1a6910",
   "metadata": {},
   "source": [
    "Write a function my_max(x,y) that returns the maximum of x and y. Do not use the max function, but\n",
    "use if instead in following two ways:\n",
    "(a) Use both if and else.\n",
    "(b) Use if but not else (nor elif)\n"
   ]
  },
  {
   "cell_type": "code",
   "execution_count": 10,
   "id": "5887cac0",
   "metadata": {},
   "outputs": [
    {
     "data": {
      "text/plain": [
       "14"
      ]
     },
     "execution_count": 10,
     "metadata": {},
     "output_type": "execute_result"
    }
   ],
   "source": [
    "def my_max(x,y):\n",
    "    if x>y:\n",
    "        return x\n",
    "    else:\n",
    "        return y\n",
    "my_max(14,12)"
   ]
  },
  {
   "cell_type": "code",
   "execution_count": 12,
   "id": "e13b4bb2",
   "metadata": {},
   "outputs": [
    {
     "data": {
      "text/plain": [
       "12"
      ]
     },
     "execution_count": 12,
     "metadata": {},
     "output_type": "execute_result"
    }
   ],
   "source": [
    "def my_max(x,y):\n",
    "    if x>y:\n",
    "        return x\n",
    "    return y\n",
    "my_max(11,12)"
   ]
  },
  {
   "cell_type": "markdown",
   "id": "351156a8",
   "metadata": {},
   "source": [
    "### Exercise 3.4: Primes"
   ]
  },
  {
   "cell_type": "code",
   "execution_count": 41,
   "id": "937e2988",
   "metadata": {},
   "outputs": [
    {
     "data": {
      "text/plain": [
       "False"
      ]
     },
     "execution_count": 41,
     "metadata": {},
     "output_type": "execute_result"
    }
   ],
   "source": [
    "'''\n",
    "(a) Write a function is_prime(n) that returns True only if n is prime.\n",
    "'''\n",
    "def is_prime1(n):\n",
    "    #base cases\n",
    "    if n<=1: return False\n",
    "    else:\n",
    "        #the boundaru in the prime numbers is to check all values below n/2+1\n",
    "        boundary=int(n/2)+1\n",
    "        for i in range(2,boundary):\n",
    "             if n%i == 0:\n",
    "                return False\n",
    "        return True\n",
    "is_prime1(21)"
   ]
  },
  {
   "cell_type": "code",
   "execution_count": 49,
   "id": "78df8a6c",
   "metadata": {},
   "outputs": [
    {
     "data": {
      "text/plain": [
       "False"
      ]
     },
     "execution_count": 49,
     "metadata": {},
     "output_type": "execute_result"
    }
   ],
   "source": [
    "'''\n",
    "(b) Note that apart from 2 and 3, all primes are of the form 6k ± 1 (though not all numbers of the\n",
    "form 6k ± 1 are prime of course). Using this, we can improve the computation time by a factor 3.\n",
    "Update your function to use this.\n",
    "'''\n",
    "def is_prime(n):\n",
    "    #base cases\n",
    "    if n<=1: return False\n",
    "    if n==2 or n==3 or n==5: return True\n",
    "    if n%2==0 or n%3==0: return False\n",
    "    boundary=int(n/2)+1\n",
    "    k = 5\n",
    "    while math.pow(k,2)<= n:\n",
    "        if n % k == 0 or n % (k + 2) == 0:\n",
    "            return False\n",
    "        k += 6\n",
    "    return True\n",
    "\n",
    "is_prime(35)\n"
   ]
  },
  {
   "cell_type": "code",
   "execution_count": 40,
   "id": "1de89deb",
   "metadata": {},
   "outputs": [
    {
     "name": "stdout",
     "output_type": "stream",
     "text": [
      "2 3 5 7 11 13 17 19 "
     ]
    }
   ],
   "source": [
    "'''\n",
    "(c) Write a function that returns all primes up to n.\n",
    "\n",
    "'''\n",
    "def primes(n):\n",
    "    #for all values between 0 and n\n",
    "    for i in range (n):\n",
    "        #check if prime.\n",
    "        if is_prime(i):\n",
    "            print(i,end =\" \")\n",
    "primes(20)"
   ]
  },
  {
   "cell_type": "code",
   "execution_count": 43,
   "id": "734a53a5",
   "metadata": {},
   "outputs": [
    {
     "name": "stdout",
     "output_type": "stream",
     "text": [
      "2 3 5 7 11 13 17 19 23 29 31 37 41 43 47 53 59 61 67 71 "
     ]
    }
   ],
   "source": [
    "'''\n",
    "(d) Write a function that returns the first n primes.\n",
    "'''\n",
    "def n_primes(n):\n",
    "    \n",
    "    v=0 # holds the number of found values\n",
    "    i=0\n",
    "    while v<n: # while we did not print n values\n",
    "        if is_prime(i): # check for prime values. \n",
    "            v+=1 #if True, incerement the number of found values\n",
    "            print(i,end =\" \")\n",
    "        i+=1\n",
    "n_primes(20)"
   ]
  },
  {
   "cell_type": "markdown",
   "id": "a615c447",
   "metadata": {},
   "source": [
    "### Exercise 3.5: Root finding"
   ]
  },
  {
   "cell_type": "code",
   "execution_count": 155,
   "id": "54db0db2",
   "metadata": {},
   "outputs": [],
   "source": [
    "'''\n",
    "(a) Write a function root(f, a, b) that takes a function f and two floats a and b and returns the\n",
    "root c. Hint: check the sign at the midpoint of the interval\n",
    "'''\n",
    "\n",
    "#in this implementation i will be using the bisection method\n",
    "def root(f,a,b): \n",
    "    \n",
    "    s=a #starting\n",
    "    b=b #bound\n",
    "    \n",
    "    \n",
    "    #defined threshold\n",
    "    threshold=0.0000001\n",
    "    while abs(s-b)>= threshold:\n",
    "        mid=(s+b)/2.0 #calculate the nmid interval\n",
    "        \n",
    "        #check the function results\n",
    "        res=f(mid)*f(s)\n",
    "        \n",
    "        #if the result is greater than the middle point\n",
    "        if res>threshold:\n",
    "            s=mid\n",
    "        else:\n",
    "            if threshold>res:\n",
    "                b=mid\n",
    "    \n",
    "    return mid\n"
   ]
  },
  {
   "cell_type": "code",
   "execution_count": 156,
   "id": "c8bead6d",
   "metadata": {},
   "outputs": [],
   "source": [
    "'''\n",
    "(b) Remove the assumption that a < b, and that f(a) < 0 and f(b) > 0, if your current code relies on\n",
    "them.\n",
    "'''\n",
    "#in this implementation i will be using the bisection method\n",
    "def root(f,a,b): \n",
    "    \n",
    "    s=min(a,b) #starting\n",
    "    b=max(a,b) #bound\n",
    "    \n",
    "    if f(s)*f(b)>0:\n",
    "        s=-900\n",
    "    #defined threshold\n",
    "    threshold=0.0000001\n",
    "    while abs(s-b)>= threshold:\n",
    "        mid=(s+b)/2.0 #calculate the nmid interval\n",
    "        \n",
    "        #check the function results\n",
    "        res=f(mid)*f(s)\n",
    "        \n",
    "        #if the result is greater than the middle point\n",
    "        if res>threshold:\n",
    "            s=mid\n",
    "        else:\n",
    "            if threshold>res:\n",
    "                b=mid\n",
    "    \n",
    "    return mid\n"
   ]
  },
  {
   "cell_type": "code",
   "execution_count": 157,
   "id": "c06ee756",
   "metadata": {},
   "outputs": [],
   "source": [
    "'''\n",
    "Add a check that prints\n",
    "’function evals have same sign’\n",
    "if f(a) > 0 and f(b) > 0 or if f(a) < 0 and f(b) < 0.\n",
    "'''\n",
    "#in this implementation i will be using the bisection method\n",
    "def root(f,a,b): \n",
    "    \n",
    "    s=min(a,b) #starting\n",
    "    b=max(a,b) #bound\n",
    "    if f(s)>0:\n",
    "        print(\"f(a) > 0\")\n",
    "    else:\n",
    "        print(\"f(a) < 0\")\n",
    "    if f(b)>0:\n",
    "        print(\"f(b) > 0\")\n",
    "    else:\n",
    "        print(\"f(a) < 0\")\n",
    "    if f(s)*f(b)>0:\n",
    "        s=-900\n",
    "    #defined threshold\n",
    "    threshold=0.0000001\n",
    "    while abs(s-b)>= threshold:\n",
    "        mid=(s+b)/2.0 #calculate the nmid interval\n",
    "        \n",
    "        #check the function results\n",
    "        res=f(mid)*f(s)\n",
    "        \n",
    "        #if the result is greater than the middle point\n",
    "        if res>threshold:\n",
    "            s=mid\n",
    "        else:\n",
    "            if threshold>res:\n",
    "                b=mid\n",
    "    \n",
    "    return mid\n"
   ]
  },
  {
   "cell_type": "code",
   "execution_count": null,
   "id": "4bd04a44",
   "metadata": {},
   "outputs": [],
   "source": []
  }
 ],
 "metadata": {
  "kernelspec": {
   "display_name": "Python 3",
   "language": "python",
   "name": "python3"
  },
  "language_info": {
   "codemirror_mode": {
    "name": "ipython",
    "version": 3
   },
   "file_extension": ".py",
   "mimetype": "text/x-python",
   "name": "python",
   "nbconvert_exporter": "python",
   "pygments_lexer": "ipython3",
   "version": "3.8.8"
  }
 },
 "nbformat": 4,
 "nbformat_minor": 5
}

{
 "cells": [
  {
   "cell_type": "markdown",
   "id": "c2f8a9e3",
   "metadata": {},
   "source": [
    "# 9 Numpy"
   ]
  },
  {
   "cell_type": "markdown",
   "id": "e1d3abef",
   "metadata": {},
   "source": [
    "## Exercise 9.5: Singular values\n"
   ]
  },
  {
   "cell_type": "markdown",
   "id": "b08c96ae",
   "metadata": {},
   "source": [
    "Generate an n × n matrix, denoted by C, where each entry is 1 with probability p and 0 otherwise. Use\n",
    "the linear algebra library of Scipy to compute the singular values of C. What can you say about the\n",
    "relationship between n, p and the largest singular value?"
   ]
  },
  {
   "cell_type": "code",
   "execution_count": 24,
   "id": "fdc8a051",
   "metadata": {},
   "outputs": [],
   "source": [
    "import numpy as np\n",
    "from scipy import linalg\n"
   ]
  },
  {
   "cell_type": "code",
   "execution_count": 29,
   "id": "dd662b23",
   "metadata": {},
   "outputs": [
    {
     "data": {
      "text/plain": [
       "array([[0., 1., 1., 0., 0., 0., 1., 0., 1., 0.],\n",
       "       [0., 0., 1., 0., 0., 1., 1., 1., 0., 1.],\n",
       "       [1., 0., 1., 1., 1., 1., 0., 1., 1., 0.],\n",
       "       [1., 0., 0., 0., 0., 1., 0., 0., 0., 1.],\n",
       "       [0., 0., 1., 0., 0., 0., 1., 1., 1., 1.],\n",
       "       [0., 1., 1., 1., 0., 1., 0., 1., 1., 1.],\n",
       "       [1., 1., 0., 0., 1., 0., 1., 1., 0., 0.],\n",
       "       [0., 1., 0., 0., 1., 0., 1., 0., 0., 0.],\n",
       "       [0., 0., 0., 0., 1., 0., 0., 0., 0., 0.],\n",
       "       [1., 0., 0., 1., 0., 1., 0., 0., 1., 1.]])"
      ]
     },
     "execution_count": 29,
     "metadata": {},
     "output_type": "execute_result"
    }
   ],
   "source": [
    "#Generate an n × n matrix, denoted by C, where each entry is 1 with probability p and 0 otherwise.\n",
    "n=10\n",
    "#p-value\n",
    "p_zeroes=0.7\n",
    "#generate C matrix\n",
    "C=np.zeros((n,n))\n",
    "C=np.where(np.random.random(C.shape) <= (1.0-p_zeroes), 1, C)\n",
    "C"
   ]
  },
  {
   "cell_type": "code",
   "execution_count": 27,
   "id": "bc5f3ba2",
   "metadata": {},
   "outputs": [
    {
     "data": {
      "text/plain": [
       "(10, 10)"
      ]
     },
     "execution_count": 27,
     "metadata": {},
     "output_type": "execute_result"
    }
   ],
   "source": [
    "C.shape"
   ]
  },
  {
   "cell_type": "code",
   "execution_count": 31,
   "id": "48343c92",
   "metadata": {},
   "outputs": [
    {
     "data": {
      "text/plain": [
       "array([4.93199007e+00, 2.69707383e+00, 2.23907726e+00, 1.74870432e+00,\n",
       "       1.48543779e+00, 1.15419339e+00, 9.26846123e-01, 8.31497187e-01,\n",
       "       4.90625890e-01, 2.63969596e-16])"
      ]
     },
     "execution_count": 31,
     "metadata": {},
     "output_type": "execute_result"
    }
   ],
   "source": [
    "linalg.svd(C, compute_uv=False)"
   ]
  },
  {
   "cell_type": "markdown",
   "id": "33070e8c",
   "metadata": {},
   "source": [
    "\n",
    "The eigenvalues and singular values of symmetric and Hermitian matrices are visibly linked.\n",
    "A large singular value indicates that the ellipsoid's axis will be much longer than the sphere's corresponding axis, according to the geometric interpretation. The part of a vector's linear transformation from Rn to Rm that corresponds to a big singular value is noteworthy in general.\n",
    "\n",
    "\n"
   ]
  }
 ],
 "metadata": {
  "kernelspec": {
   "display_name": "Python 3",
   "language": "python",
   "name": "python3"
  },
  "language_info": {
   "codemirror_mode": {
    "name": "ipython",
    "version": 3
   },
   "file_extension": ".py",
   "mimetype": "text/x-python",
   "name": "python",
   "nbconvert_exporter": "python",
   "pygments_lexer": "ipython3",
   "version": "3.8.8"
  }
 },
 "nbformat": 4,
 "nbformat_minor": 5
}

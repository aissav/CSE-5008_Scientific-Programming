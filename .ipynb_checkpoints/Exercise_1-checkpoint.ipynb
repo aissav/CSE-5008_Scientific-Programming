{
 "cells": [
  {
   "cell_type": "markdown",
   "id": "1cc8ca69",
   "metadata": {},
   "source": [
    "# 1 - Basics"
   ]
  },
  {
   "cell_type": "markdown",
   "id": "d6cba585",
   "metadata": {},
   "source": [
    "### Exercise 1.1: The interpreter"
   ]
  },
  {
   "cell_type": "markdown",
   "id": "ec0cd733",
   "metadata": {},
   "source": [
    "##### Aissa's Answer: Basic mathematic equation calculation, in which it will output the results as the output of the cell"
   ]
  },
  {
   "cell_type": "code",
   "execution_count": 86,
   "id": "47c25c68",
   "metadata": {},
   "outputs": [
    {
     "data": {
      "text/plain": [
       "4"
      ]
     },
     "execution_count": 86,
     "metadata": {},
     "output_type": "execute_result"
    }
   ],
   "source": [
    "3 + 1"
   ]
  },
  {
   "cell_type": "code",
   "execution_count": 87,
   "id": "f6f1e55a",
   "metadata": {},
   "outputs": [
    {
     "data": {
      "text/plain": [
       "9"
      ]
     },
     "execution_count": 87,
     "metadata": {},
     "output_type": "execute_result"
    }
   ],
   "source": [
    "3 * 3"
   ]
  },
  {
   "cell_type": "code",
   "execution_count": 88,
   "id": "17457da9",
   "metadata": {},
   "outputs": [
    {
     "data": {
      "text/plain": [
       "8"
      ]
     },
     "execution_count": 88,
     "metadata": {},
     "output_type": "execute_result"
    }
   ],
   "source": [
    "# this one is similar to the math equation math.pow(x,2)\n",
    "2 ** 3"
   ]
  },
  {
   "cell_type": "code",
   "execution_count": 89,
   "id": "0042bbcd",
   "metadata": {},
   "outputs": [
    {
     "data": {
      "text/plain": [
       "'Hello, world!'"
      ]
     },
     "execution_count": 89,
     "metadata": {},
     "output_type": "execute_result"
    }
   ],
   "source": [
    "#output the non declared string \n",
    "\"Hello, world!\""
   ]
  },
  {
   "cell_type": "markdown",
   "id": "d1c5702d",
   "metadata": {},
   "source": [
    "### Exercise 1.2: Scripts"
   ]
  },
  {
   "cell_type": "code",
   "execution_count": 90,
   "id": "f958fddc",
   "metadata": {},
   "outputs": [
    {
     "data": {
      "text/plain": [
       "'\\nin order to run that script1,py file,\\nif you want to visualize the output of each syntax\\nyou must use the print function, py is not a console-output app like jupyter\\nso you need to use the print finction to see the result of each syntax\\n'"
      ]
     },
     "execution_count": 90,
     "metadata": {},
     "output_type": "execute_result"
    }
   ],
   "source": [
    "'''\n",
    "in order to run that script1,py file,\n",
    "if you want to visualize the output of each syntax\n",
    "you must use the print function, py is not a console-output app like jupyter\n",
    "so you need to use the print finction to see the result of each syntax\n",
    "'''"
   ]
  },
  {
   "cell_type": "markdown",
   "id": "3939bec4",
   "metadata": {},
   "source": [
    "### Exercise 1.3: More interpreter "
   ]
  },
  {
   "cell_type": "code",
   "execution_count": 91,
   "id": "1296046f",
   "metadata": {},
   "outputs": [
    {
     "name": "stdout",
     "output_type": "stream",
     "text": [
      "python\n"
     ]
    },
    {
     "data": {
      "text/plain": [
       "'python'"
      ]
     },
     "execution_count": 91,
     "metadata": {},
     "output_type": "execute_result"
    }
   ],
   "source": [
    "'''\n",
    "(a) ’py’ + ’thon’\n",
    "concatenates two strings \n",
    "similar to \"{}{}\".format(\"py\",\"thon\")\n",
    "'''\n",
    "print(\"{}{}\".format(\"py\",\"thon\"))\n",
    "\"py\" + \"thon\""
   ]
  },
  {
   "cell_type": "raw",
   "id": "fb9f1f41",
   "metadata": {},
   "source": [
    "'''\n",
    "(b) ’py’ * 3 + ’thon’\n",
    "first term concatenates 3 copies of string py first then append another string (thon)\n",
    "'''"
   ]
  },
  {
   "cell_type": "raw",
   "id": "c4efb00e",
   "metadata": {},
   "source": [
    "'''\n",
    "(c) ’py’ - ’py’\n",
    "as we know that the symbol - stands for the substraction operation\n",
    "so it is acceptabble on only the arithitic operation,\n",
    "so not accepted here, where the operands are strings\n",
    "'''"
   ]
  },
  {
   "cell_type": "raw",
   "id": "fd98be4b",
   "metadata": {},
   "source": [
    "'''\n",
    "(e) ’3’ + 3\n",
    "same problem or exception will be thrown here,\n",
    "having two differnt types of str and int and add an arithmitic operation\n",
    "in between them is forbidden\n",
    "in order to make it correct, \n",
    "- either to have concatenation of two strings than we should convert the second operand to string using str(3) then it resutls in '33'\n",
    "- or we convert the first operand to an int using int(3) then it resutls in 6\n",
    "'''"
   ]
  },
  {
   "cell_type": "code",
   "execution_count": 92,
   "id": "b322ad76",
   "metadata": {},
   "outputs": [
    {
     "data": {
      "text/plain": [
       "'333'"
      ]
     },
     "execution_count": 92,
     "metadata": {},
     "output_type": "execute_result"
    }
   ],
   "source": [
    "'''\n",
    "(e) 3 * ’3’\n",
    "same as b) in which we construct a string that contains the string 3 three time\n",
    "'''\n",
    "3 * \"3\""
   ]
  },
  {
   "cell_type": "raw",
   "id": "4820bcaf",
   "metadata": {},
   "source": [
    "'''\n",
    "(f) a\n",
    "it will throw an error, in which it compiles 'a' as a variable\n",
    "since it is not declared then it will throw a non declared error\n",
    "'''"
   ]
  },
  {
   "cell_type": "code",
   "execution_count": 93,
   "id": "3854a961",
   "metadata": {},
   "outputs": [],
   "source": [
    "'''\n",
    "(g) a = 3\n",
    "defining a variable a and assign a value 3 to it (declare and initialize at once)\n",
    "'''\n",
    "a = 3"
   ]
  },
  {
   "cell_type": "code",
   "execution_count": 94,
   "id": "af40d2f6",
   "metadata": {},
   "outputs": [
    {
     "data": {
      "text/plain": [
       "3"
      ]
     },
     "execution_count": 94,
     "metadata": {},
     "output_type": "execute_result"
    }
   ],
   "source": [
    "'''\n",
    "(f) a\n",
    "since we decalre a in the previosu cell, then it compiles 'a' as a variable\n",
    "so the output will be the assigned value to a which is 3\n",
    "'''\n",
    "a"
   ]
  },
  {
   "cell_type": "markdown",
   "id": "13fad0e2",
   "metadata": {},
   "source": [
    "### Exercise 1.4: Booleans "
   ]
  },
  {
   "cell_type": "code",
   "execution_count": 95,
   "id": "bf18d101",
   "metadata": {},
   "outputs": [
    {
     "data": {
      "text/plain": [
       "True"
      ]
     },
     "execution_count": 95,
     "metadata": {},
     "output_type": "execute_result"
    }
   ],
   "source": [
    "'''\n",
    "(a) 1 == 1\n",
    "Since we compare two values of the same datatype, and the value is equale then it will\n",
    "output a True\n",
    "'''\n",
    "1 == 1"
   ]
  },
  {
   "cell_type": "code",
   "execution_count": 96,
   "id": "52ed8d54",
   "metadata": {},
   "outputs": [
    {
     "data": {
      "text/plain": [
       "True"
      ]
     },
     "execution_count": 96,
     "metadata": {},
     "output_type": "execute_result"
    }
   ],
   "source": [
    "'''\n",
    "(b) 1 == True\n",
    "in python 1 and 0 are interpreted as True and False, respectively.\n",
    "so since 1 is equivalent to True, then it must outputs a True\n",
    "'''\n",
    "1 == True"
   ]
  },
  {
   "cell_type": "code",
   "execution_count": 97,
   "id": "bdc52d1b",
   "metadata": {},
   "outputs": [
    {
     "data": {
      "text/plain": [
       "False"
      ]
     },
     "execution_count": 97,
     "metadata": {},
     "output_type": "execute_result"
    }
   ],
   "source": [
    "'''\n",
    "(c) 0 == True\n",
    "same response as above, since 0 is equivalent to False, then False is not Trure,\n",
    "so the output is False\n",
    "'''\n",
    "0 == True"
   ]
  },
  {
   "cell_type": "code",
   "execution_count": 98,
   "id": "877feac0",
   "metadata": {},
   "outputs": [
    {
     "data": {
      "text/plain": [
       "True"
      ]
     },
     "execution_count": 98,
     "metadata": {},
     "output_type": "execute_result"
    }
   ],
   "source": [
    "'''\n",
    "(d) 0 == False\n",
    "since 0 is equivalent to False, so False is equal to False,\n",
    "then the output is True\n",
    "'''\n",
    "0 == False"
   ]
  },
  {
   "cell_type": "code",
   "execution_count": 99,
   "id": "bf85090a",
   "metadata": {},
   "outputs": [
    {
     "data": {
      "text/plain": [
       "True"
      ]
     },
     "execution_count": 99,
     "metadata": {},
     "output_type": "execute_result"
    }
   ],
   "source": [
    "'''\n",
    "(e) 3 == 1 * 3\n",
    "python will first calculates the value of the basic math arithitic 1*3 which is equal to 3\n",
    "since the ouput is 3 and the values are equal then it must output a True\n",
    "'''\n",
    "3 == 1 * 3"
   ]
  },
  {
   "cell_type": "code",
   "execution_count": 100,
   "id": "daf3793c",
   "metadata": {},
   "outputs": [
    {
     "data": {
      "text/plain": [
       "0"
      ]
     },
     "execution_count": 100,
     "metadata": {},
     "output_type": "execute_result"
    }
   ],
   "source": [
    "'''\n",
    "(f) (3 == 1) * 3\n",
    "since the parthesis's priority is higher, then the boolean operation inside the parenthesis are checked first\n",
    "so False is duplicated three times, here python will interpret it as 0 so 0 * 3 is 0.\n",
    "'''\n",
    "(3 == 1) * 3"
   ]
  },
  {
   "cell_type": "code",
   "execution_count": 101,
   "id": "42a3aca3",
   "metadata": {},
   "outputs": [
    {
     "data": {
      "text/plain": [
       "False"
      ]
     },
     "execution_count": 101,
     "metadata": {},
     "output_type": "execute_result"
    }
   ],
   "source": [
    "'''\n",
    "(g) (3 == 3) * 4 + 3 == 1\n",
    "same as above, the parthenis are checked first, which True, then True (equivalent to 1) \n",
    "is multiplied by 4 and added a value of 1 to it and it results in 7\n",
    "since 7 is not equal to 1m then the final output is False\n",
    "'''\n",
    "(3 == 3) * 4 + 3 == 1"
   ]
  },
  {
   "cell_type": "code",
   "execution_count": 102,
   "id": "009e7af5",
   "metadata": {},
   "outputs": [
    {
     "data": {
      "text/plain": [
       "False"
      ]
     },
     "execution_count": 102,
     "metadata": {},
     "output_type": "execute_result"
    }
   ],
   "source": [
    "'''\n",
    "(h) 3**5 >= 4**4\n",
    "3 to the power of 5 is 243\n",
    "4 to the power of 4 is 256\n",
    "since the values are not equal, then the output must be False\n",
    "'''\n",
    "3**5 >= 4**4"
   ]
  },
  {
   "cell_type": "markdown",
   "id": "a617b76d",
   "metadata": {},
   "source": [
    "### Exercise 1.5: Integers "
   ]
  },
  {
   "cell_type": "code",
   "execution_count": 103,
   "id": "730d5627",
   "metadata": {},
   "outputs": [
    {
     "data": {
      "text/plain": [
       "1.6666666666666667"
      ]
     },
     "execution_count": 103,
     "metadata": {},
     "output_type": "execute_result"
    }
   ],
   "source": [
    "'''\n",
    "(a) 5 / 3\n",
    "float devision, it will output the result of the reglar devision\n",
    "'''\n",
    "5 / 3"
   ]
  },
  {
   "cell_type": "code",
   "execution_count": 104,
   "id": "b436abe0",
   "metadata": {},
   "outputs": [
    {
     "data": {
      "text/plain": [
       "2"
      ]
     },
     "execution_count": 104,
     "metadata": {},
     "output_type": "execute_result"
    }
   ],
   "source": [
    "'''\n",
    "(b) 5 % 3\n",
    "modulo, or the remainde of a the integer division\n",
    "'''\n",
    "5 % 3"
   ]
  },
  {
   "cell_type": "code",
   "execution_count": 105,
   "id": "fd8b388f",
   "metadata": {},
   "outputs": [
    {
     "data": {
      "text/plain": [
       "1.6666666666666667"
      ]
     },
     "execution_count": 105,
     "metadata": {},
     "output_type": "execute_result"
    }
   ],
   "source": [
    "'''\n",
    "(c) 5.0 / 3\n",
    "float devision, first it converts the first divisor to float (to force the result to be as a float type)\n",
    "the ouput must be a float even if we divide 6.0 by 3 the ouput is 2.0 and not 2\n",
    "'''\n",
    "5.0 / 3"
   ]
  },
  {
   "cell_type": "code",
   "execution_count": 106,
   "id": "35c70d59",
   "metadata": {},
   "outputs": [
    {
     "data": {
      "text/plain": [
       "1.6666666666666667"
      ]
     },
     "execution_count": 106,
     "metadata": {},
     "output_type": "execute_result"
    }
   ],
   "source": [
    "'''\n",
    "(d) 5 / 3.0\n",
    "same as (c)\n",
    "'''\n",
    "5 / 3.0"
   ]
  },
  {
   "cell_type": "code",
   "execution_count": 107,
   "id": "60274e10",
   "metadata": {},
   "outputs": [
    {
     "data": {
      "text/plain": [
       "2.2"
      ]
     },
     "execution_count": 107,
     "metadata": {},
     "output_type": "execute_result"
    }
   ],
   "source": [
    "'''\n",
    "(e) 5.2 % 3\n",
    "again, the modulo, or the remainde of a the float division\n",
    "so the remainde will be a float value\n",
    "\n",
    "'''\n",
    "5.2 % 3"
   ]
  },
  {
   "cell_type": "code",
   "execution_count": 108,
   "id": "b4a34250",
   "metadata": {},
   "outputs": [
    {
     "data": {
      "text/plain": [
       "1775896810483121914350934797871501063452843428843794422323202530887281536545210629921129898113201749875234297340507804201761453596034016264189501186924066128377025843892373608427790859511135990682732202975330824797118808624727351608183194154557208730494440110429635650057431833674286462463508755276302896154336475782768613964332764108132533925570342220340698973761380541294970139762186212823359128790706292900765512137078550033912252338262922477518858757114840012576514724742388124595061301502222934806074032688691170880996881967426442947828261057852871032366879179996122216385870273020506079240103910728766397733398071775041745854959302025036249707279600400001"
      ]
     },
     "execution_count": 108,
     "metadata": {},
     "output_type": "execute_result"
    }
   ],
   "source": [
    "'''\n",
    "(f) 2001 ** 200\n",
    "huge value of the mathematic operation of 2001 to the power of 200\n",
    "'''\n",
    "2001 ** 200"
   ]
  },
  {
   "cell_type": "markdown",
   "id": "5c9b6b1e",
   "metadata": {},
   "source": [
    "### Exercise 1.6: Floats"
   ]
  },
  {
   "cell_type": "code",
   "execution_count": 109,
   "id": "fbb5af48",
   "metadata": {},
   "outputs": [
    {
     "data": {
      "text/plain": [
       "'\\n(a) 2000.3 ** 200\\nthe output will be a huge float value of 2000.3 to the power of 200, since\\nthe output of the value will be very huge value, as we know that foloat values\\nallocates too many bits, so i commented the syntax line.\\nbut the output will be a huge float value\\n'"
      ]
     },
     "execution_count": 109,
     "metadata": {},
     "output_type": "execute_result"
    }
   ],
   "source": [
    "'''\n",
    "(a) 2000.3 ** 200\n",
    "the output will be a huge float value of 2000.3 to the power of 200, since\n",
    "the output of the value will be very huge value, as we know that foloat values\n",
    "allocates too many bits, so i commented the syntax line.\n",
    "but the output will be a huge float value\n",
    "'''\n",
    "#2000.3 ** 200"
   ]
  },
  {
   "cell_type": "code",
   "execution_count": 110,
   "id": "0b46c0f9",
   "metadata": {},
   "outputs": [
    {
     "data": {
      "text/plain": [
       "1.0"
      ]
     },
     "execution_count": 110,
     "metadata": {},
     "output_type": "execute_result"
    }
   ],
   "source": [
    "'''\n",
    "(b) 1.0 + 1.0 - 1.0\n",
    "float value of the basic math arithmitic.\n",
    "'''\n",
    "1.0 + 1.0 - 1.0"
   ]
  },
  {
   "cell_type": "code",
   "execution_count": 111,
   "id": "028b08fc",
   "metadata": {},
   "outputs": [
    {
     "data": {
      "text/plain": [
       "0.0"
      ]
     },
     "execution_count": 111,
     "metadata": {},
     "output_type": "execute_result"
    }
   ],
   "source": [
    "'''\n",
    "(c) 1.0 + 1.0e20 - 1.0e20\n",
    "since the value of 1.0 + 1.0e20 and the value of 1.0e20 are so close]\n",
    "so python will output 0.0 (float) as the rsultant value is really really small\n",
    "'''\n",
    "1.0 + 1.0e20 - 1.0e20"
   ]
  },
  {
   "cell_type": "markdown",
   "id": "d3afe858",
   "metadata": {},
   "source": [
    "### Exercise 1.7: Variables "
   ]
  },
  {
   "cell_type": "code",
   "execution_count": 112,
   "id": "2f959296",
   "metadata": {},
   "outputs": [
    {
     "data": {
      "text/plain": [
       "'Hello Aissa HOUDJEDJ!'"
      ]
     },
     "execution_count": 112,
     "metadata": {},
     "output_type": "execute_result"
    }
   ],
   "source": [
    "'''\n",
    "Write a script where the variable name holds a string with your name. Then, assuming for now your\n",
    "name is John Doe, have the script output: Hello, John Doe! (and obviously, do not use print \"Hello,\n",
    "John Doe!\".\n",
    "'''\n",
    "name=\"Aissa HOUDJEDJ\"\n",
    "\"Hello \"+name+'!'\n"
   ]
  },
  {
   "cell_type": "code",
   "execution_count": 113,
   "id": "ba6a7f2f",
   "metadata": {},
   "outputs": [
    {
     "data": {
      "text/plain": [
       "'Hello Aissa HOUDJEDJ!'"
      ]
     },
     "execution_count": 113,
     "metadata": {},
     "output_type": "execute_result"
    }
   ],
   "source": [
    "\"{} {}!\".format(\"Hello\",name)"
   ]
  },
  {
   "cell_type": "markdown",
   "id": "a7365d17",
   "metadata": {},
   "source": [
    "### Exercise 1.8: Type casting "
   ]
  },
  {
   "cell_type": "code",
   "execution_count": null,
   "id": "3a8c183c",
   "metadata": {},
   "outputs": [],
   "source": [
    "'''\n",
    "Very often, one wants to “cast” variables of a certain type into another type. Suppose we have variable\n",
    "x = ’123’, but really we would like x to be an integer.\n",
    "This is easy to do in Python, just use desiredtype(x), e.g. int(x) to obtain an integer.\n",
    "Try the following and explain the output\n",
    "'''"
   ]
  },
  {
   "cell_type": "code",
   "execution_count": null,
   "id": "0f7475db",
   "metadata": {},
   "outputs": [],
   "source": [
    "'''\n",
    "(a) float(123) # outputs 123.0, converting int to float\n",
    "(b) float(’123’) # outputs 123.0, converting string to float\n",
    "(c) float(’123.23’) # outputs 123.23, converting string to float\n",
    "(d) int(123.23) #outputs 123, converting float to integer\n",
    "(e) int(’123.23’) # throw error, can not convert string that contains float to integer\n",
    "(f) int(float(’123.23’)) # in order to prevent the error thrown in e is solveed here, first convert the string to float, then float to int\n",
    "(g) str(12) #converts the integer 12 to string, it results \"12\"\n",
    "(h) str(12.2) #converts the float (12.2) to string, it results \"12.2\"\n",
    "(i) bool(’a’) # it convert all given values rather than the integer 0 to True\n",
    "(j) bool(0) # output False, where 0 is interpreted as 0\n",
    "(k) bool(0.1) # True, as explained in (i)\n",
    "'''"
   ]
  },
  {
   "cell_type": "code",
   "execution_count": null,
   "id": "2554d0fd",
   "metadata": {},
   "outputs": [],
   "source": []
  }
 ],
 "metadata": {
  "kernelspec": {
   "display_name": "Python 3",
   "language": "python",
   "name": "python3"
  },
  "language_info": {
   "codemirror_mode": {
    "name": "ipython",
    "version": 3
   },
   "file_extension": ".py",
   "mimetype": "text/x-python",
   "name": "python",
   "nbconvert_exporter": "python",
   "pygments_lexer": "ipython3",
   "version": "3.8.8"
  }
 },
 "nbformat": 4,
 "nbformat_minor": 5
}

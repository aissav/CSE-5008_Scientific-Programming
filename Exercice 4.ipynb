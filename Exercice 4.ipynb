{
 "cells": [
  {
   "cell_type": "markdown",
   "id": "8b48e7e8",
   "metadata": {},
   "source": [
    "## Exercise 4.1"
   ]
  },
  {
   "cell_type": "raw",
   "id": "ac9cc37f",
   "metadata": {},
   "source": [
    "Exercise 4.1: Short questions\n",
    "(a) Write a function that prints the elements of a list\n",
    "(b) Write a function that prints the elements of a list in reverse\n",
    "(c) Write your own implementation of the len function that returns the number of elements in a list."
   ]
  },
  {
   "cell_type": "code",
   "execution_count": 1,
   "id": "90c82842",
   "metadata": {},
   "outputs": [
    {
     "name": "stdout",
     "output_type": "stream",
     "text": [
      "Ex4.1: Elements of the lsit are: \n",
      "1.6\t4\t9\t12\t22\t"
     ]
    }
   ],
   "source": [
    "#(a) Write a function that prints the elements of a list\n",
    "def printList(list):\n",
    "    print(\"Ex4.1: Elements of the lsit are: \")\n",
    "    #for each elelement in the list\n",
    "    for e in list:\n",
    "        print(e,end=\"\\t\")\n",
    "printList([1.6,4,9,12,22])"
   ]
  },
  {
   "cell_type": "code",
   "execution_count": 2,
   "id": "27100399",
   "metadata": {},
   "outputs": [
    {
     "name": "stdout",
     "output_type": "stream",
     "text": [
      "Ex4.1: Elements of the lsit are (in reverese order): \n",
      "22\t12\t9\t4\t1.6\t"
     ]
    }
   ],
   "source": [
    "# (b) Write a function that prints the elements of a list in reverse\n",
    "def printListReverse(list):\n",
    "    print(\"Ex4.1: Elements of the lsit are (in reverese order): \")\n",
    "    #for each elelement in the list\n",
    "    for e in reversed(list):\n",
    "        print(e,end=\"\\t\")\n",
    "printListReverse([1.6,4,9,12,22])"
   ]
  },
  {
   "cell_type": "code",
   "execution_count": 3,
   "id": "6b09996f",
   "metadata": {},
   "outputs": [
    {
     "data": {
      "text/plain": [
       "5"
      ]
     },
     "execution_count": 3,
     "metadata": {},
     "output_type": "execute_result"
    }
   ],
   "source": [
    "#(c) Write your own implementation of the len function that returns the number of elements in a list.\n",
    "def lenMethod(list):\n",
    "    count=0\n",
    "    i=0\n",
    "    try:\n",
    "        #while no error, means there exist an element\n",
    "        while True:\n",
    "            list[i]\n",
    "            count+=1\n",
    "            i+=1    \n",
    "    except:\n",
    "        #if i element does not exist, output the current counter\n",
    "        return count\n",
    "lenMethod([1.6,4,9,12,22])"
   ]
  },
  {
   "cell_type": "code",
   "execution_count": 4,
   "id": "e81f99c3",
   "metadata": {},
   "outputs": [
    {
     "data": {
      "text/plain": [
       "5"
      ]
     },
     "execution_count": 4,
     "metadata": {},
     "output_type": "execute_result"
    }
   ],
   "source": [
    "#(c) Write your own implementation of the len function that returns the number of elements in a list.\n",
    "#the easiest solution\n",
    "def lenMethod_2(list):\n",
    "    count=0\n",
    "    for e in list:\n",
    "        count+=1\n",
    "    return count\n",
    "lenMethod_2([1.6,4,9,12,22])"
   ]
  },
  {
   "cell_type": "markdown",
   "id": "e68ad568",
   "metadata": {},
   "source": [
    "## Exercise 4.2"
   ]
  },
  {
   "cell_type": "code",
   "execution_count": 5,
   "id": "b0a3d8f8",
   "metadata": {},
   "outputs": [
    {
     "name": "stdout",
     "output_type": "stream",
     "text": [
      "[1.6, 4, 9, 12, 22]\n",
      "[1.6, 100, 9, 12, 22]\n",
      "[1.6, 100, 9, 12, 22]\n",
      "[1.6, 100, 30, 12, 22]\n"
     ]
    }
   ],
   "source": [
    "#Exercise 4.2: Copying lists\n",
    "#(a) Create a list a with some entries.\n",
    "a=[1.6,4,9,12,22]\n",
    "print(a)\n",
    "#(b) Now set b = a\n",
    "b=a\n",
    "#(c) Change b[1]\n",
    "b[1]=100\n",
    "#(d) What happened to a?\n",
    "#       even a will change, because both a and b are pointing to the same list in the memory\n",
    "print(a)\n",
    "#(e) Now set c = a[:]\n",
    "c=a[:]\n",
    "#(f) Change c[2]\n",
    "c[2]=30\n",
    "#(g) What happened to a?\n",
    "#       nothing will happened, it remains the same, because when creating c,\n",
    "#       we copied the elements of a to c.\n",
    "print(a)\n",
    "print(c)"
   ]
  },
  {
   "cell_type": "code",
   "execution_count": 6,
   "id": "c89df65b",
   "metadata": {},
   "outputs": [
    {
     "name": "stdout",
     "output_type": "stream",
     "text": [
      "[1.6, 100, 30, 12, 22]\n",
      "[0, 100, 30, 12, 22]\n",
      "[0, 100, 30, 12, 22]\n"
     ]
    },
    {
     "data": {
      "text/plain": [
       "'\\nthe list is updated, as in the passing of the variable to the function,\\nactually we passing the mermory address, so both will be updated.\\n'"
      ]
     },
     "execution_count": 6,
     "metadata": {},
     "output_type": "execute_result"
    }
   ],
   "source": [
    "'''\n",
    "Now create a function set_first_elem_to_zero(l) that takes a list, sets its first entry to zero, and\n",
    "returns the list.\n",
    "'''\n",
    "def set_first_elem_to_zero(l):\n",
    "    #base case checking\n",
    "    if len(l)>0:\n",
    "        l[0]=0\n",
    "    else:\n",
    "        return l.append(0)\n",
    "    return l\n",
    "original_list=[1.6, 100, 30, 12, 22]\n",
    "print(original_list)\n",
    "print(set_first_elem_to_zero(original_list))\n",
    "print(original_list)\n",
    "'''\n",
    "the list is updated, as in the passing of the variable to the function,\n",
    "actually we passing the mermory address, so both will be updated.\n",
    "'''"
   ]
  },
  {
   "cell_type": "markdown",
   "id": "164f7a21",
   "metadata": {},
   "source": [
    "## Exercise 4.3: Lists of lists "
   ]
  },
  {
   "cell_type": "code",
   "execution_count": 7,
   "id": "8e5d4fca",
   "metadata": {},
   "outputs": [
    {
     "data": {
      "text/plain": [
       "True"
      ]
     },
     "execution_count": 7,
     "metadata": {},
     "output_type": "execute_result"
    }
   ],
   "source": [
    "'''\n",
    "What is the difference between a and b:\n",
    "a = [[]] * 3\n",
    "b = [[] for _ in xrange(3)]\n",
    "'''\n",
    "a = [[]] * 3\n",
    "b = [[] for _ in range(3)]\n",
    "#both a and b will create a doubly list of size 3, 3 empty lists in a on list\n",
    "# a create multiplies or create k copies of elements of the array\n",
    "# and the same thing in b\n",
    "a==b"
   ]
  },
  {
   "cell_type": "markdown",
   "id": "189bd810",
   "metadata": {},
   "source": [
    "## Exercise 4.4: Lists and functions"
   ]
  },
  {
   "cell_type": "code",
   "execution_count": 8,
   "id": "6ab6d1c9",
   "metadata": {},
   "outputs": [
    {
     "name": "stdout",
     "output_type": "stream",
     "text": [
      "Before running the function:  [1.6, 100, 30, 12, 22]\n",
      "After running the function:  [1.6, 100, 30, 12, 0]\n"
     ]
    }
   ],
   "source": [
    "#Write a function that takes a list and an index, and sets the value of the list at the given index to 0.\n",
    "def Ex4_4(listA,index):\n",
    "    #check if the lenght of the array is less then the given index\n",
    "    if len(listA)<index:\n",
    "        #return the original array\n",
    "        return listA\n",
    "    else:\n",
    "        listA[index]=0\n",
    "        return listA\n",
    "original_list=[1.6, 100, 30, 12, 22]\n",
    "print(\"Before running the function: \",original_list)\n",
    "print(\"After running the function: \",Ex4_4(original_list,4))   "
   ]
  },
  {
   "cell_type": "markdown",
   "id": "d5ac3d84",
   "metadata": {},
   "source": [
    "## Exercise 4.5: Primes\n"
   ]
  },
  {
   "cell_type": "code",
   "execution_count": 9,
   "id": "816aca27",
   "metadata": {},
   "outputs": [
    {
     "name": "stdout",
     "output_type": "stream",
     "text": [
      "[1, 2, 3, 5, 7, 11, 13, 17, 19, 23, 29, 31, 37, 41, 43, 47]\n"
     ]
    }
   ],
   "source": [
    "'''\n",
    "In Section 3 you wrote a function that prints all primes up to n, and a function that prints the first n\n",
    "primes. Update these functions such that they return lists instead.\n",
    "'''\n",
    "def nPrimeNumbers(n):\n",
    "    primes=[]\n",
    "    for i in range(1,n):\n",
    "        for j in range(2,i):\n",
    "            if(i%j==0):\n",
    "                break\n",
    "        else:\n",
    "            primes.append(i)\n",
    "    return(primes)\n",
    "print(nPrimeNumbers(50))"
   ]
  },
  {
   "cell_type": "markdown",
   "id": "622d0746",
   "metadata": {},
   "source": [
    "## Exercise 4.6: List comprehensions "
   ]
  },
  {
   "cell_type": "code",
   "execution_count": 10,
   "id": "7db7c0da",
   "metadata": {},
   "outputs": [
    {
     "name": "stdout",
     "output_type": "stream",
     "text": [
      "Answer for a)  [[0, 0], [0, 1], [0, 2], [0, 3], [0, 4], [1, 0], [1, 1], [1, 2], [1, 3], [1, 4], [2, 0], [2, 1], [2, 2], [2, 3], [2, 4], [3, 0], [3, 1], [3, 2], [3, 3], [3, 4], [4, 0], [4, 1], [4, 2], [4, 3], [4, 4]]\n",
      "Answer for b)  [[0, 1], [0, 2], [0, 3], [0, 4], [1, 2], [1, 3], [1, 4], [2, 3], [2, 4], [3, 4]]\n",
      "Answer for c)  [3, 4, 5]\n",
      "Answer for d)  [541]\n"
     ]
    }
   ],
   "source": [
    "'''\n",
    "Let i, j = 1, . . . , n\n",
    "(a) Generate a list with elements [i,j].\n",
    "(b) Generate a list with elements [i,j] with i < j\n",
    "(c) Generate a list with elements i + j with both i and j prime and i > j.\n",
    "(d) Write a function that evaluates an arbitrary polynomial a0 + a1x + a2x\n",
    "2 + . . . + anx\n",
    "n using a list\n",
    "comprehension, where you are given x and a list with coefficients coefs (hint: use enumerate)\n",
    "'''\n",
    "#(b) Generate a list with elements [i,j].\n",
    "n=5\n",
    "listA=[[i,j] for i in range (n) for j in range (n)]\n",
    "print(\"Answer for a) \",listA)\n",
    "#(b) Generate a list with elements [i,j] with i < j\n",
    "listA=[[i,j] for i in range (n) for j in range (n) if i <j]\n",
    "print(\"Answer for b) \",listA)\n",
    "\n",
    "#(c) Generate a list with elements i + j with both i and j prime and i > j.\n",
    "listA=[i+j for i in range (1,n) for j in range (1,n) if i >j and i in nPrimeNumbers(n) and j in  nPrimeNumbers(n)]\n",
    "print(\"Answer for c) \",listA)\n",
    "\n",
    "#(d) Write a function that evaluates an arbitrary polynomial a0 + a1x + a2x\n",
    "coef=[1,10,2,3,15]\n",
    "listA=[sum([count+ele for count,ele in enumerate(coef,100)])]\n",
    "print(\"Answer for d) \",listA)"
   ]
  },
  {
   "cell_type": "markdown",
   "id": "c15f01d9",
   "metadata": {},
   "source": [
    "# Exercise 4.7: Filter"
   ]
  },
  {
   "cell_type": "code",
   "execution_count": 76,
   "id": "c48ec184",
   "metadata": {},
   "outputs": [
    {
     "data": {
      "text/plain": [
       "True"
      ]
     },
     "execution_count": 76,
     "metadata": {},
     "output_type": "execute_result"
    }
   ],
   "source": [
    "'''\n",
    "In lecture we have seen how to implement map using list comprehensions. Implement filter using list\n",
    "comprehensions. Name your functions myfilter so you can compare with Python’s standard filter.\n",
    "'''\n",
    "n=20\n",
    "#Implement filter using list comprehensions \n",
    "lis=[y*2+2 for y in range(n) if y%2==0]\n",
    "\n",
    "def myfilter(lis,n):\n",
    "    #Implement filter using list comprehensions \n",
    "    list1 = list(map(lambda y: y*2+2, filter(lambda y: y%2==0, [i for i in range(n)])))\n",
    "    #check for correctness and equality\n",
    "    return lis==list1\n",
    "myfilter(lis,n)"
   ]
  },
  {
   "cell_type": "markdown",
   "id": "6a5e4f2b",
   "metadata": {},
   "source": [
    "## Exercise 4.8: Flatten a list of lists"
   ]
  },
  {
   "cell_type": "code",
   "execution_count": 49,
   "id": "f3f97746",
   "metadata": {},
   "outputs": [
    {
     "name": "stdout",
     "output_type": "stream",
     "text": [
      "[1, 3, 3, 6]\n"
     ]
    }
   ],
   "source": [
    "'''\n",
    "Consider having a list with lists as elements, e.g. [[1,3], [3,6]].\n",
    "Write a function that takes such a list, and returns a list with as elements the elements of the sublists,\n",
    "e.g. [1, 3, 3, 6].\n",
    "'''\n",
    "def Ex4_8(listQ):\n",
    "    listF=[]\n",
    "    for i in listQ:\n",
    "        for j in i:\n",
    "            listF.append(j)\n",
    "    return listF #[c for c in a for a in listQ]\n",
    "print(Ex4_8([[1,3], [3,6]]))"
   ]
  },
  {
   "cell_type": "markdown",
   "id": "bc9b8289",
   "metadata": {},
   "source": [
    "## Exercise 4.9: Finding the longest word\n",
    " "
   ]
  },
  {
   "cell_type": "code",
   "execution_count": 11,
   "id": "af6b1079",
   "metadata": {},
   "outputs": [
    {
     "name": "stdout",
     "output_type": "stream",
     "text": [
      "The found largest word is:  football\n",
      "No Word is Found\n"
     ]
    }
   ],
   "source": [
    "'''\n",
    "Write a function that returns the longest word in a variable text that contains a sentence. While text\n",
    "may contain punctuation, these should not be taken into account. What happens with ties?\n",
    "As an example, consider: “Hello, how was the football match earlier today???”\n",
    "'''\n",
    "import string\n",
    "def Ex4_9(sentence):\n",
    "    #split the sentece into words\n",
    "    sentence=sentence.split()\n",
    "    max_str=0\n",
    "    word=None\n",
    "    #for each word in the sentnece\n",
    "    for s in sentence:\n",
    "        #remove empty spaces\n",
    "        s=s.strip()\n",
    "        #check for each pnctuation \n",
    "        for c in string.punctuation:\n",
    "            #remove it from the string\n",
    "            s= s.replace(c,\"\")\n",
    "        if len(s)>max_str:\n",
    "            max_str=len(s)\n",
    "            word=s\n",
    "    if word!=None:\n",
    "        print(\"The found largest word is: \",word)\n",
    "    else:\n",
    "        print(\"No Word is Found\")\n",
    "\n",
    "text=\"Hello, how was the football match earlier today???\"\n",
    "Ex4_9(text)\n",
    "Ex4_9(\"?\")"
   ]
  },
  {
   "cell_type": "markdown",
   "id": "fbb00913",
   "metadata": {},
   "source": [
    "## Exercise 4.10: Collatz sequence, part 2 "
   ]
  },
  {
   "cell_type": "code",
   "execution_count": 12,
   "id": "5d5ee469",
   "metadata": {},
   "outputs": [
    {
     "name": "stdout",
     "output_type": "stream",
     "text": [
      "[10, 5.0, 16.0, 8.0, 4.0, 2.0, 1.0]\n",
      "X values is:  18\n"
     ]
    }
   ],
   "source": [
    "'''\n",
    "Recall the Collatz sequence problem from Section 1. Our goal is to find the number n < 1, 000, 000 that\n",
    "leads to the longest Collatz sequence.\n",
    "(a) Write a function that for any n, returns its Collatz sequence as a list\n",
    "(b) Write a function that finds the integer x that leads to the longest Collatz sequence with x < n.\n",
    "'''\n",
    "\n",
    "def Collatz(current_collatz_value):\n",
    "    collatz_seq=[]\n",
    "    #regular way to create the collatz sequence\n",
    "    while current_collatz_value !=1:\n",
    "        if current_collatz_value%2==0:\n",
    "            current_collatz_value/=2\n",
    "        else:\n",
    "            current_collatz_value=current_collatz_value*3+1\n",
    "        collatz_seq.append(current_collatz_value)\n",
    "    return(collatz_seq)\n",
    "print(Collatz(3))\n",
    "\n",
    "def FindX(n):\n",
    "    #collatz sequence with the value n\n",
    "    current_collatz=Collatz(n)\n",
    "    #initially no x is defined\n",
    "    found_x=None\n",
    "    #for each value in range 1 to n-1\n",
    "    for i in range (1,n):\n",
    "        \n",
    "        #calculate the collatz sequence for the value i\n",
    "        i_collatz=Collatz(i)\n",
    "        \n",
    "        #check if the lenght of the sequence greater than the current one,\n",
    "        if len(i_collatz)>len(current_collatz):\n",
    "            #update the sequence and save i\n",
    "            current_collatz=i_collatz\n",
    "            found_x=i\n",
    "    return found_x\n",
    "\n",
    "x=FindX(20)\n",
    "if x==None:\n",
    "    print(\"None x Values is Found\")\n",
    "else:\n",
    "    print(\"X values is: \",x)\n"
   ]
  },
  {
   "cell_type": "markdown",
   "id": "d09da1b8",
   "metadata": {},
   "source": [
    "## Exercise 4.11: Pivots"
   ]
  },
  {
   "cell_type": "code",
   "execution_count": 14,
   "id": "23501399",
   "metadata": {},
   "outputs": [
    {
     "name": "stdout",
     "output_type": "stream",
     "text": [
      "[1, 3, 6, 4, 7]\n"
     ]
    }
   ],
   "source": [
    "'''\n",
    "Write a function that takes a value x and a list ys, and returns a list that contains the value x and all\n",
    "elements of ys such that all values y in ys that are smaller than x come first, then we element x and\n",
    "then the rest of the values in ys\n",
    "For example, the output of f(3, [6, 4, 1, 7]) should be [1, 3, 6, 4, 7]\n",
    "'''\n",
    "def Ex4_11(x,ys):\n",
    "    #store the final output\n",
    "    output=[]\n",
    "    #for each value less then x (reference value)\n",
    "    for v in ys:\n",
    "        if v<=x:\n",
    "            #append it first to the output list\n",
    "            output.append(v)\n",
    "    #append the reference value\n",
    "    output.append(x)\n",
    "    #for the remaining values, append them to the list\n",
    "    for v in ys:\n",
    "        if v>x:\n",
    "            output.append(v)\n",
    "    return output\n",
    "print(Ex4_11(3, [6, 4, 1, 7]))"
   ]
  },
  {
   "cell_type": "markdown",
   "id": "e8f15fdb",
   "metadata": {},
   "source": [
    "## Exercise 4.12: Prime challenge "
   ]
  },
  {
   "cell_type": "code",
   "execution_count": 21,
   "id": "5126c929",
   "metadata": {},
   "outputs": [
    {
     "name": "stdout",
     "output_type": "stream",
     "text": [
      "[2, 3, 4, 5, 6, 7, 9, 10, 11, 13, 14, 15, 17, 18, 19]\n"
     ]
    }
   ],
   "source": [
    "'''\n",
    "Write the function primes(n) that return a list with all prime numbers up to n using three (or less)\n",
    "lines of code.\n",
    "Hint 1: Use lambda functions and list comprehensions.\n",
    "Hint 2: Use the first two lines to define two helper (lambda) functions.\n",
    "'''\n",
    "import math\n",
    "def Ex4_12(n):\n",
    "    for i in range(2, int( round(math.sqrt(n+1)) )):\n",
    "        #using filter, makes it easier\n",
    "        prime_values = filter(lambda number: number == i or number % i, range(2, n+1))\n",
    "    return list(prime_values)\n",
    "print(Ex4_12(20))\n"
   ]
  }
 ],
 "metadata": {
  "kernelspec": {
   "display_name": "Python 3",
   "language": "python",
   "name": "python3"
  },
  "language_info": {
   "codemirror_mode": {
    "name": "ipython",
    "version": 3
   },
   "file_extension": ".py",
   "mimetype": "text/x-python",
   "name": "python",
   "nbconvert_exporter": "python",
   "pygments_lexer": "ipython3",
   "version": "3.8.8"
  }
 },
 "nbformat": 4,
 "nbformat_minor": 5
}

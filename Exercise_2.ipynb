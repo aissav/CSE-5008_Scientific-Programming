{
 "cells": [
  {
   "cell_type": "markdown",
   "id": "b7e0b3c3",
   "metadata": {},
   "source": [
    "# 2 Control flow"
   ]
  },
  {
   "cell_type": "markdown",
   "id": "2f151f5a",
   "metadata": {},
   "source": [
    "### Exercise 2.1: Range "
   ]
  },
  {
   "cell_type": "code",
   "execution_count": 3,
   "id": "9201b0f3",
   "metadata": {},
   "outputs": [
    {
     "data": {
      "text/plain": [
       "range(0, 5)"
      ]
     },
     "execution_count": 3,
     "metadata": {},
     "output_type": "execute_result"
    }
   ],
   "source": [
    "'''\n",
    "Type range(5) in the interpreter, what does the interpreter return? So what does for i in range(5)\n",
    "mean?\n",
    "the ouput of the syntax above will just show the starting value and the boundary value\n",
    "\n",
    "for i in range (5), is assignign the values between 0 and 5 (excluded) to the variable i in each ittiteration\n",
    "'''\n",
    "range(5)\n"
   ]
  },
  {
   "cell_type": "code",
   "execution_count": 5,
   "id": "62be7a80",
   "metadata": {},
   "outputs": [
    {
     "data": {
      "text/plain": [
       "range"
      ]
     },
     "execution_count": 5,
     "metadata": {},
     "output_type": "execute_result"
    }
   ],
   "source": [
    "'''\n",
    "Let’s also find out whether the interpreter can help us understand the object ‘range(5)’ better. Type\n",
    "type(range(5)) in the interpreter. More on this soon!\n",
    "\n",
    "as expected, python contains a seprate type named type. \n",
    "since range() generates a sequence of integers based on the arguments, so it returns the object of <class 'range'>.\n",
    "\n",
    "'''\n",
    "type(range(5))\n"
   ]
  },
  {
   "cell_type": "markdown",
   "id": "a88821f0",
   "metadata": {},
   "source": [
    "###  Exercise 2.2: For loops"
   ]
  },
  {
   "cell_type": "markdown",
   "id": "7ff59af6",
   "metadata": {},
   "source": [
    "####  In this exercie i am assuming that 100 is included as well, as the question is not clear"
   ]
  },
  {
   "cell_type": "code",
   "execution_count": 15,
   "id": "e4f2dc51",
   "metadata": {},
   "outputs": [
    {
     "name": "stdout",
     "output_type": "stream",
     "text": [
      "0 1 2 3 4 5 6 7 8 9 10 11 12 13 14 15 16 17 18 19 \n",
      "20 21 22 23 24 25 26 27 28 29 30 31 32 33 34 35 36 37 38 39 \n",
      "40 41 42 43 44 45 46 47 48 49 50 51 52 53 54 55 56 57 58 59 \n",
      "60 61 62 63 64 65 66 67 68 69 70 71 72 73 74 75 76 77 78 79 \n",
      "80 81 82 83 84 85 86 87 88 89 90 91 92 93 94 95 96 97 98 99 \n",
      "100 "
     ]
    }
   ],
   "source": [
    "'''\n",
    "(a) Print the numbers 0 to 100\n",
    "'''\n",
    "k=0 # k is used to print k elements per row\n",
    "for i in range (101):\n",
    "    # if the row contains 20 values, then move to the next row, and reintialize k\n",
    "    if k==20:\n",
    "        k=0\n",
    "        print('')\n",
    "    print(i,end=\" \")\n",
    "    k+=1"
   ]
  },
  {
   "cell_type": "code",
   "execution_count": 11,
   "id": "dc22aa4d",
   "metadata": {},
   "outputs": [
    {
     "name": "stdout",
     "output_type": "stream",
     "text": [
      "0 7 14 21 28 35 42 49 56 63 70 77 84 91 98 "
     ]
    }
   ],
   "source": [
    "'''\n",
    "(b) Print the numbers 0 to 100 that are divisible by 7\n",
    "'''\n",
    "for i in range (101):\n",
    "    if i % 7 ==0:\n",
    "        print(i,end=\" \")  "
   ]
  },
  {
   "cell_type": "code",
   "execution_count": 12,
   "id": "4c7ea19b",
   "metadata": {},
   "outputs": [
    {
     "name": "stdout",
     "output_type": "stream",
     "text": [
      "5 10 20 25 35 40 50 55 65 70 80 85 95 100 "
     ]
    }
   ],
   "source": [
    "'''\n",
    "(c) Print the numbers 1 to 100 that are divisible by 5 but not by 3\n",
    "'''\n",
    "for i in range (101):\n",
    "    if i % 5 ==0 and i % 3!=0:\n",
    "        print(i,end=\" \")  "
   ]
  },
  {
   "cell_type": "code",
   "execution_count": 14,
   "id": "95a58902",
   "metadata": {},
   "outputs": [
    {
     "name": "stdout",
     "output_type": "stream",
     "text": [
      "2 3 6 9 "
     ]
    }
   ],
   "source": [
    "'''\n",
    "(d) Print for each of the numbers x = 2, . . . 20, all numbers that divide x, excluding 1 and x. Hence,\n",
    "for 18, it should print 2 3 6 9.\n",
    "'''\n",
    "x=18\n",
    "for i in range (2,x):\n",
    "    #if the remainder is 0 \n",
    "    if x%i==0:\n",
    "        # end function is used to keep all the values in one line\n",
    "        print(i,end=\" \")"
   ]
  },
  {
   "cell_type": "markdown",
   "id": "e2c78cc3",
   "metadata": {},
   "source": [
    "### Exercise 2.3: Simple while loops "
   ]
  },
  {
   "cell_type": "code",
   "execution_count": 17,
   "id": "eabdde59",
   "metadata": {},
   "outputs": [
    {
     "name": "stdout",
     "output_type": "stream",
     "text": [
      "0 1 2 3 4 5 6 7 8 9 10 11 12 13 14 15 16 17 18 19 \n",
      "20 21 22 23 24 25 26 27 28 29 30 31 32 33 34 35 36 37 38 39 \n",
      "40 41 42 43 44 45 46 47 48 49 50 51 52 53 54 55 56 57 58 59 \n",
      "60 61 62 63 64 65 66 67 68 69 70 71 72 73 74 75 76 77 78 79 \n",
      "80 81 82 83 84 85 86 87 88 89 90 91 92 93 94 95 96 97 98 99 \n",
      "100 "
     ]
    }
   ],
   "source": [
    "'''\n",
    "(a) Print the numbers 0 to 100\n",
    "'''\n",
    "value=0\n",
    "k=0\n",
    "while value <= 100:\n",
    "    # if the row contains 20 values, then move to the next row, and reintialize k\n",
    "    if k==20:\n",
    "        k=0\n",
    "        print('')\n",
    "    print(value,end=\" \")\n",
    "    value+=1\n",
    "    k+=1\n",
    "    "
   ]
  },
  {
   "cell_type": "code",
   "execution_count": 18,
   "id": "4ce9a9f0",
   "metadata": {},
   "outputs": [
    {
     "name": "stdout",
     "output_type": "stream",
     "text": [
      "0 7 14 21 28 35 42 49 56 63 70 77 84 91 98 "
     ]
    }
   ],
   "source": [
    "'''\n",
    "(b) Print the numbers 0 to 100 that are divisible by 7\n",
    "'''\n",
    "value=0\n",
    "while value <= 100:\n",
    "    # if the row contains 20 values, then move to the next row, and reintialize k\n",
    "    if value % 7 ==0:\n",
    "        print(value,end=\" \")\n",
    "    value+=1\n"
   ]
  },
  {
   "cell_type": "markdown",
   "id": "48c73ffb",
   "metadata": {},
   "source": [
    "### Exercise 2.4: Hangman update 1 "
   ]
  },
  {
   "cell_type": "raw",
   "id": "65d33406",
   "metadata": {},
   "source": [
    "'''\n",
    "Let’s reconsider the hangman code we saw in class.1 We noted that the computer agent is not very good\n",
    "at guessing. Update the code such that the computer guesses ‘e’ first, and ’a’ second.\n",
    "Use the simulate.py script to see if this improves performance.\n",
    "Feel free to play around and see if you can do better!\n",
    "'''"
   ]
  },
  {
   "cell_type": "code",
   "execution_count": null,
   "id": "51f9bc90",
   "metadata": {},
   "outputs": [],
   "source": [
    "'''\n",
    "I trired it but it did not make a huge difference.\n",
    "'''"
   ]
  },
  {
   "cell_type": "markdown",
   "id": "b065df76",
   "metadata": {},
   "source": [
    "### Exercise 2.5: While loops\n"
   ]
  },
  {
   "cell_type": "code",
   "execution_count": 25,
   "id": "3514450e",
   "metadata": {},
   "outputs": [
    {
     "name": "stdout",
     "output_type": "stream",
     "text": [
      "385 770 1155 1540 1925 2310 2695 3080 3465 3850 4235 4620 5005 5390 5775 6160 6545 6930 7315 7700 "
     ]
    }
   ],
   "source": [
    "#stotore the latest value to the variable below\n",
    "last_value=0\n",
    "value=11\n",
    "while last_value < 20:\n",
    "    if value%5==0 and value%7==0 and value%11==0:\n",
    "        print(value, end=\" \")\n",
    "        last_value+=1\n",
    "    value+=1"
   ]
  },
  {
   "cell_type": "markdown",
   "id": "f198891b",
   "metadata": {},
   "source": [
    "### Exercise 2.6: More while loops"
   ]
  },
  {
   "cell_type": "code",
   "execution_count": 33,
   "id": "da4eb0f5",
   "metadata": {},
   "outputs": [
    {
     "name": "stdout",
     "output_type": "stream",
     "text": [
      "2520\n"
     ]
    }
   ],
   "source": [
    "value=10\n",
    "while True:\n",
    "    found=True\n",
    "    for i in range(1,11):\n",
    "        if value %i !=0:\n",
    "            value+=1\n",
    "            found=False\n",
    "            break\n",
    "    if found:\n",
    "        print(value)\n",
    "        break"
   ]
  },
  {
   "cell_type": "markdown",
   "id": "3060d76d",
   "metadata": {},
   "source": [
    "### Exercise 2.7: Collatz sequence "
   ]
  },
  {
   "cell_type": "code",
   "execution_count": 43,
   "id": "b9953e9f",
   "metadata": {},
   "outputs": [
    {
     "name": "stdout",
     "output_type": "stream",
     "text": [
      "103 310 155 466 233 700 350 175 526 263 790 395 1186 593 1780 890 445 1336 668 334 167 502 251 754 377 1132 566 283 850 425 1276 638 319 958 479 1438 719 2158 1079 3238 1619 4858 2429 7288 3644 1822 911 2734 1367 4102 2051 6154 3077 9232 4616 2308 1154 577 1732 866 433 1300 650 325 976 488 244 122 61 184 92 46 23 70 35 106 53 160 80 40 20 10 5 16 8 4 2 1 "
     ]
    }
   ],
   "source": [
    "current_collatz_value=103\n",
    "while current_collatz_value !=1:\n",
    "    print(int(current_collatz_value),end=\" \")\n",
    "    if current_collatz_value%2==0:\n",
    "        current_collatz_value/=2\n",
    "    else:\n",
    "        current_collatz_value=current_collatz_value*3+1\n",
    "print(int(current_collatz_value),end=\" \")"
   ]
  },
  {
   "cell_type": "code",
   "execution_count": null,
   "id": "66ffe153",
   "metadata": {},
   "outputs": [],
   "source": []
  }
 ],
 "metadata": {
  "kernelspec": {
   "display_name": "Python 3",
   "language": "python",
   "name": "python3"
  },
  "language_info": {
   "codemirror_mode": {
    "name": "ipython",
    "version": 3
   },
   "file_extension": ".py",
   "mimetype": "text/x-python",
   "name": "python",
   "nbconvert_exporter": "python",
   "pygments_lexer": "ipython3",
   "version": "3.8.8"
  }
 },
 "nbformat": 4,
 "nbformat_minor": 5
}

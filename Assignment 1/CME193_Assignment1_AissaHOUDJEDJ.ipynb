{
 "cells": [
  {
   "cell_type": "markdown",
   "metadata": {
    "id": "m45y01NfwSJz"
   },
   "source": [
    "# CME193 - Assignment 1\n",
    "\n",
    "In this assignment you will be learning about and implementing [Markov Chains](https://en.wikipedia.org/wiki/Markov_chain), if you have never heard  of them before, do not worry, this notebook will explain everything needed for the assignment.\n",
    "\n",
    "## Markov chains\n",
    "The best way to introduce what a Markov chain is with a simple example. Suppose you have a simple counter that you can set to any number between 0 and 9 (including 0 and 9). At every step you roll a standard 6 -sided die and depending on whether the rolled number is even or odd you either increment or decrement the counter. If you try to increment at 9, lets say it wraps around to 0 and similarly for trying to decrement at 0. Now you can play this game for multiple steps and record the counter value after every step, this is just a simple markov chain.\n",
    "\n",
    "Here is an example evolution of the markov chain,\n",
    "Start with counter at 1.\n",
    "- Step 1 : Roll a 4, its even so increment the counter to 2.\n",
    "- Step 2 : Roll a 2, its even so increment the counter to 3.\n",
    "- Step 3 : Roll a 5, its odd so decrement the counter to 2.\n",
    "\n",
    "etc.\n",
    "\n",
    "A markov chain consists of a set of n states (in our example it was the 10 states of the counter) and a probabilistic rule to jump to another state every step (the dice rolls). Although in our simple example we had a similar rule for each state, you can have a different rule for each state. For example you may say that if you the counter is odd, dont roll a die, always increment, and follow the die for even states. The rule is always in the form of n probabilities that sum to one. Each probability indicates the chance that it jumps to that state.\n",
    "\n",
    "In our example the rule for state 0 can be represented by the below numpy vector\n",
    "\n",
    "When you are in state 0, you have 50% chance of landing on state 1 (you rolled even) or a 50% chance of landing in state 9 ( you rolled odd and tried to decrement at 0)"
   ]
  },
  {
   "cell_type": "code",
   "execution_count": 1,
   "metadata": {
    "colab": {
     "base_uri": "https://localhost:8080/"
    },
    "id": "4SOY20OIwSJ4",
    "outputId": "4b25f9a4-e5e0-4262-d6aa-f2d68c000c39"
   },
   "outputs": [
    {
     "data": {
      "text/plain": [
       "array([0. , 0.5, 0. , 0. , 0. , 0. , 0. , 0. , 0. , 0.5])"
      ]
     },
     "execution_count": 1,
     "metadata": {},
     "output_type": "execute_result"
    }
   ],
   "source": [
    "import numpy as np\n",
    "np.array([0. , 0.5, 0. , 0. , 0. , 0. , 0. , 0. , 0. , 0.5])"
   ]
  },
  {
   "cell_type": "markdown",
   "metadata": {
    "id": "WnrglrLfwSJ6"
   },
   "source": [
    "The index in the array represents the state and the value represents the probability with which you will jump to that state. Similarly this is the rule for state 4"
   ]
  },
  {
   "cell_type": "code",
   "execution_count": 2,
   "metadata": {
    "colab": {
     "base_uri": "https://localhost:8080/"
    },
    "id": "DeIp9Ft2wSJ6",
    "outputId": "c5caf27c-3fe6-43cd-cd42-1cb98b53c585"
   },
   "outputs": [
    {
     "data": {
      "text/plain": [
       "array([0. , 0. , 0. , 0.5, 0. , 0.5, 0. , 0. , 0. , 0. ])"
      ]
     },
     "execution_count": 2,
     "metadata": {},
     "output_type": "execute_result"
    }
   ],
   "source": [
    "np.array([0. , 0. , 0. , 0.5, 0. , 0.5, 0. , 0. , 0. , 0. ])"
   ]
  },
  {
   "cell_type": "markdown",
   "metadata": {
    "id": "wkUqZrfKwSJ6"
   },
   "source": [
    "## Transition Matrix\n",
    "\n",
    "The way to represent markov chains is with a transition matrix $T$ of size (n,n), where the column i will the rule vector for the state i ( Here we are assuming that the states ae numbered 0 to n-1 ).\n",
    "\n",
    "Thus you can interpret the element $T_{ij}$ of the matrix as the probability you will jump to state i from the state j."
   ]
  },
  {
   "cell_type": "markdown",
   "metadata": {
    "id": "Z2cP9HvywSJ7"
   },
   "source": [
    "## Question 1\n",
    "\n",
    "Write a function to return the transition matrix for the following markov chain, given the number of states as an argument.\n",
    "\n",
    "The rule for the markov chain is as follows,\n",
    "\n",
    "If current state is i (and if i is not n-1)\n",
    "1. With probability 0.6, it goes to state i+1\n",
    "2. With probability 0.1, it will fall back to state i = 0.\n",
    "2. With probability 0.3, it goes to state i-1 if i is at least 1. If i is instead 0 it stays at state 0.\n",
    "3. At state n-1, instead of the above operations we stay at state n-1 with probability 1\n",
    "\n",
    "Intuitively, this markov chain behaves in the following way, at every step there is an 60% chance that it climbs up by 1, a 10% chance that it falls down completely, and a 30% chance it falls down by 1. If it does reach the final state n-1, it stays there forever.\n",
    "\n",
    "You are **not** allowed to use any for loops for this question, instead use numpy indexing to fill in your matrix. You can assume that n is atleast 4.\n",
    "\n",
    "Hints:\n",
    "1. First write your code in an empty cell for with a hardcoded n value, in this way you can quickly iterate and get the right answer first. Then copy it into the function.\n",
    "2. You can use [Array indexing](https://docs.scipy.org/doc/numpy-1.13.0/user/basics.indexing.html#index-arrays)"
   ]
  },
  {
   "cell_type": "code",
   "execution_count": 132,
   "metadata": {
    "id": "PdPkWc1_wSJ8"
   },
   "outputs": [],
   "source": [
    "## YOUR CODE HERE\n",
    "def transition_matrix(n):\n",
    "    if n<4:\n",
    "        return \"Error, Minimum Size Required is 4!\"\n",
    "    \n",
    "    #initialize a zero matrix with n rows and n columns\n",
    "    matrix_i_j=np.zeros((n,n))\n",
    "    #assign 0.6 diagnolaly starting from row 2 excluding the last columns\n",
    "    np.fill_diagonal(matrix_i_j[1:], 0.6, wrap=True)\n",
    "    #assign 0.3 diagnolaly starting from row 1 and column 3 excluding the last columns\n",
    "    np.fill_diagonal(matrix_i_j[1:n-1,2:-1], 0.3, wrap=True)\n",
    "    #assign 0.4 for the first column of the first row\n",
    "    matrix_i_j[0,0:2]=0.4\n",
    "    #assign 0.2 for the first  row starting from column 3\n",
    "    matrix_i_j[0,2:-1]=0.1\n",
    "    #assign 1 to the entry [n,n]\n",
    "    matrix_i_j[n-1,n-1]=1\n",
    "    return matrix_i_j\n"
   ]
  },
  {
   "cell_type": "code",
   "execution_count": null,
   "metadata": {
    "id": "CE5aasTuwSJ9"
   },
   "outputs": [],
   "source": []
  },
  {
   "cell_type": "code",
   "execution_count": 137,
   "metadata": {
    "colab": {
     "base_uri": "https://localhost:8080/"
    },
    "id": "9LPqGo9mwSJ-",
    "outputId": "12ac846e-acb0-41aa-b845-706133a07ade"
   },
   "outputs": [
    {
     "data": {
      "text/plain": [
       "array([[0.4, 0.4, 0.1, 0.1, 0.1, 0.1, 0.1, 0.1, 0.1, 0. ],\n",
       "       [0.6, 0. , 0.3, 0. , 0. , 0. , 0. , 0. , 0. , 0. ],\n",
       "       [0. , 0.6, 0. , 0.3, 0. , 0. , 0. , 0. , 0. , 0. ],\n",
       "       [0. , 0. , 0.6, 0. , 0.3, 0. , 0. , 0. , 0. , 0. ],\n",
       "       [0. , 0. , 0. , 0.6, 0. , 0.3, 0. , 0. , 0. , 0. ],\n",
       "       [0. , 0. , 0. , 0. , 0.6, 0. , 0.3, 0. , 0. , 0. ],\n",
       "       [0. , 0. , 0. , 0. , 0. , 0.6, 0. , 0.3, 0. , 0. ],\n",
       "       [0. , 0. , 0. , 0. , 0. , 0. , 0.6, 0. , 0.3, 0. ],\n",
       "       [0. , 0. , 0. , 0. , 0. , 0. , 0. , 0.6, 0. , 0. ],\n",
       "       [0. , 0. , 0. , 0. , 0. , 0. , 0. , 0. , 0.6, 1. ]])"
      ]
     },
     "execution_count": 137,
     "metadata": {},
     "output_type": "execute_result"
    }
   ],
   "source": [
    "matrix_i_j=transition_matrix(10)\n",
    "matrix_i_j"
   ]
  },
  {
   "cell_type": "code",
   "execution_count": 135,
   "metadata": {
    "colab": {
     "base_uri": "https://localhost:8080/"
    },
    "id": "iy2rSUIqwSJ-",
    "outputId": "d0b72c78-1bab-4a81-9189-f6443780b988"
   },
   "outputs": [
    {
     "data": {
      "text/plain": [
       "{1.0}"
      ]
     },
     "execution_count": 135,
     "metadata": {},
     "output_type": "execute_result"
    }
   ],
   "source": [
    "#check if the sum of columns is equal to 1\n",
    "set(matrix_i_j.sum(0))"
   ]
  },
  {
   "cell_type": "markdown",
   "metadata": {
    "id": "TRmelK6-wSJ-"
   },
   "source": [
    "To test your function , check that the above returns \n",
    "```\n",
    "array([[0.4, 0.4, 0.1, 0.1, 0.1, 0.1, 0.1, 0.1, 0.1, 0. ],\n",
    "       [0.6, 0. , 0.3, 0. , 0. , 0. , 0. , 0. , 0. , 0. ],\n",
    "       [0. , 0.6, 0. , 0.3, 0. , 0. , 0. , 0. , 0. , 0. ],\n",
    "       [0. , 0. , 0.6, 0. , 0.3, 0. , 0. , 0. , 0. , 0. ],\n",
    "       [0. , 0. , 0. , 0.6, 0. , 0.3, 0. , 0. , 0. , 0. ],\n",
    "       [0. , 0. , 0. , 0. , 0.6, 0. , 0.3, 0. , 0. , 0. ],\n",
    "       [0. , 0. , 0. , 0. , 0. , 0.6, 0. , 0.3, 0. , 0. ],\n",
    "       [0. , 0. , 0. , 0. , 0. , 0. , 0.6, 0. , 0.3, 0. ],\n",
    "       [0. , 0. , 0. , 0. , 0. , 0. , 0. , 0.6, 0. , 0. ],\n",
    "       [0. , 0. , 0. , 0. , 0. , 0. , 0. , 0. , 0.6, 1. ]])\n",
    "```"
   ]
  },
  {
   "cell_type": "markdown",
   "metadata": {
    "id": "pCCEsZv0wSJ_"
   },
   "source": [
    "## Question 2\n",
    "\n",
    "Now we want to use the transtion matrix to know what are the probabilites of being in each state after running the markov chain for k steps. For example, for the above markov chain, I want to know after 30 steps, what is the probablity that I have reached the state n-1.\n",
    "\n",
    "Luckily this is fairly easy to calculate, using matrix multiplication. An amazingly useful property of the transition matrix is as follows, if you have vector $p_j$ as the vector of probabilites after step $j$, then $p_{j+1}$ is given by the following matrix vector product.\n",
    "\n",
    "$$ p_{j+1} =  Tp_j $$\n",
    "\n",
    "We will not prove this result here, but if you spend some time thinking about what matrix multiplication is doing here, especially interpret it as taking a linear combination of columns then it should make sense.\n",
    "\n",
    "Thus if someone gave you a probability distribution for the starting state as $p_0$, then the probability distribtion after $k$ steps is simply given by multiplying by the transition matrix k times\n",
    "\n",
    "$$ p_{k} =  T^{k}p_0 $$\n",
    "\n",
    "Implement a function which given an initial distribution `p0`, number of steps `k` and a transition matrix `tm`, it will return the distribution after k steps"
   ]
  },
  {
   "cell_type": "code",
   "execution_count": 8,
   "metadata": {
    "id": "YURJ5VpqwSJ_"
   },
   "outputs": [],
   "source": [
    "#YOUR CODE HERE\n",
    "def propagate(p0,k,tm):\n",
    "    #save a copty of p0 to be used in our itterations\n",
    "    #p_next initially is p0\n",
    "    p_next=p0.copy()\n",
    "    for i in range(k):\n",
    "        #p_next is considered as p_{j+1}\n",
    "        p_next=tm.dot(p_next)\n",
    "    return p_next\n",
    "    "
   ]
  },
  {
   "cell_type": "code",
   "execution_count": 150,
   "metadata": {
    "colab": {
     "base_uri": "https://localhost:8080/"
    },
    "id": "da6cma1SwSJ_",
    "outputId": "3ba6f023-41f4-40cd-d1c4-47c4c74a290f"
   },
   "outputs": [
    {
     "data": {
      "text/plain": [
       "array([0.16029774, 0.13006664, 0.10561269, 0.08547506, 0.06947427,\n",
       "       0.05552321, 0.04450658, 0.03281234, 0.02049648, 0.29573499])"
      ]
     },
     "execution_count": 150,
     "metadata": {},
     "output_type": "execute_result"
    }
   ],
   "source": [
    "#TESTING\n",
    "n=10\n",
    "tm = transition_matrix(n)\n",
    "p0 = np.zeros(n)\n",
    "p0[0] = 1\n",
    "pk = propagate(p0,30,tm)\n",
    "pk"
   ]
  },
  {
   "cell_type": "code",
   "execution_count": 143,
   "metadata": {},
   "outputs": [
    {
     "data": {
      "text/plain": [
       "array([1., 0., 0., 0., 0., 0., 0., 0., 0., 0.])"
      ]
     },
     "execution_count": 143,
     "metadata": {},
     "output_type": "execute_result"
    }
   ],
   "source": [
    "p0"
   ]
  },
  {
   "cell_type": "code",
   "execution_count": 149,
   "metadata": {},
   "outputs": [
    {
     "data": {
      "text/plain": [
       "0.9999999999999992"
      ]
     },
     "execution_count": 149,
     "metadata": {},
     "output_type": "execute_result"
    }
   ],
   "source": [
    "sum(pk)"
   ]
  },
  {
   "cell_type": "markdown",
   "metadata": {
    "id": "z905MsN1wSKA"
   },
   "source": [
    "The above code should return :\n",
    "\n",
    "```\n",
    "array([0.16029774, 0.13006664, 0.10561269, 0.08547506, 0.06947427,\n",
    "       0.05552321, 0.04450658, 0.03281234, 0.02049648, 0.29573499])\n",
    "```"
   ]
  },
  {
   "cell_type": "markdown",
   "metadata": {
    "id": "AvxE8LACwSKA"
   },
   "source": [
    "## Question 3\n",
    "### Part a\n",
    "With this implementation of `propagate`, you can now compute the probability of being in each state of the markov chain after k steps. How many steps does it take for the probability of being in the final state to be at least 0.5?\n",
    "\n",
    "After each step the probability of being in the final state slowly increases: once we are in state n-1, we never leave. At some point this probability will cross 50%. What you need to calculate is how many steps does it take to cross 50%.\n",
    "\n",
    "Again use n=10 transition matrix and start from state 0.\n",
    "\n",
    "Hints:\n",
    "1. Use the while loop"
   ]
  },
  {
   "cell_type": "code",
   "execution_count": 153,
   "metadata": {
    "colab": {
     "base_uri": "https://localhost:8080/"
    },
    "id": "14_FWpvOwSKA",
    "outputId": "1da0f9af-cdaa-4214-f058-448a47eb5f55"
   },
   "outputs": [
    {
     "name": "stdout",
     "output_type": "stream",
     "text": [
      "WE NEED  50  STEPS TO GET 50%.\n",
      "[0.11319436 0.09186103 0.07453515 0.06044003 0.04892903 0.03939238\n",
      " 0.03120179 0.02340693 0.01429561 0.50274368]\n"
     ]
    }
   ],
   "source": [
    "#YOUR CODE HERE\n",
    "itt=0\n",
    "#create the transition matrix\n",
    "tm = transition_matrix(10)\n",
    "#create a zero vector of size 10\n",
    "p_it = np.zeros(10)\n",
    "p_it[0] = 1\n",
    "#while true\n",
    "while True:\n",
    "    itt+=1 #iterator\n",
    "    #p_next is considered as p_{j+1}\n",
    "    p_it = propagate(p_it,1,tm)\n",
    "    if p_it[-1] >= 0.5: #whenever the proba is less than 0.5 continue, \n",
    "                          #otherwise, break\n",
    "        break   \n",
    "print(\"WE NEED \",itt,\" STEPS TO GET 50%.\")\n",
    "print(p_it)"
   ]
  },
  {
   "cell_type": "markdown",
   "metadata": {
    "id": "c_PS0zZWwSKB"
   },
   "source": [
    "### Part b\n",
    "Convert the above Code into a function that computes the number of steps to 50% probability in the final state given `n` the size of the markov chain"
   ]
  },
  {
   "cell_type": "code",
   "execution_count": 152,
   "metadata": {
    "colab": {
     "base_uri": "https://localhost:8080/"
    },
    "id": "axdWa6HjwSKB",
    "outputId": "a240bb54-f146-4db0-934c-4a4aaa1e0a38"
   },
   "outputs": [
    {
     "name": "stdout",
     "output_type": "stream",
     "text": [
      "WE NEED  50  STEPS TO Achieve 50%.\n",
      "[0.11319436 0.09186103 0.07453515 0.06044003 0.04892903 0.03939238\n",
      " 0.03120179 0.02340693 0.01429561 0.50274368]\n"
     ]
    }
   ],
   "source": [
    "#YOUR CODE HERE\n",
    "def calculate_steps(n):\n",
    "    \n",
    "    itt=0\n",
    "    tm = transition_matrix(n)\n",
    "    p0 = np.zeros(n)\n",
    "    \n",
    "    p0[0] = 1\n",
    "    p_jn=p0\n",
    "    while True:\n",
    "        itt+=1\n",
    "        #p_jn is considered as p_{j+1}\n",
    "        p_jn = propagate(p_jn,1,tm)\n",
    "        if p_jn[-1] >= 0.5:\n",
    "            break   \n",
    "    \n",
    "    return itt,p_jn\n",
    "\n",
    "n=10\n",
    "itt,p_itt=calculate_steps(n)\n",
    "print(\"WE NEED \",itt,\" STEPS TO Achieve 50%.\")\n",
    "print(p_itt)"
   ]
  },
  {
   "cell_type": "markdown",
   "metadata": {
    "id": "_EdVcI44wSKB"
   },
   "source": [
    "### Part c\n",
    "Compute and plot the number of steps required for $n$ ranging from 10 to 40.\n",
    "\n",
    "Lookup the plotting function `plt.semilogy`and understand what it does, plot another graph of the number of steps using it.\n",
    "\n",
    "What does the semilogy plot tell you?\n",
    "\n",
    "Save the plots as \"qsn3c.png\" and \"qsn3c_semilogy.png\"\n",
    "\n",
    "**Hint:** if your code takes a long time to run, your implementation of `num_steps` may need to be improved. If you  know the distribution after $j$ steps of the markov chain, is there a way to use it to compute the distribution after $j+1$ steps?"
   ]
  },
  {
   "cell_type": "code",
   "execution_count": 154,
   "metadata": {
    "colab": {
     "base_uri": "https://localhost:8080/"
    },
    "id": "4w0JPv7-wSKC",
    "outputId": "93b0e5bf-0ded-40ab-eef0-e9da8d794d5a"
   },
   "outputs": [
    {
     "name": "stdout",
     "output_type": "stream",
     "text": [
      "10 11 12 13 14 15 16 17 18 19 20 21 22 23 24 25 26 27 28 29 30 31 32 33 34 35 36 37 38 39 40 "
     ]
    }
   ],
   "source": [
    "#YOUR CODE HERE\n",
    "import matplotlib.pyplot as plt\n",
    "steps={}\n",
    "for n in range(10,41):\n",
    "    print(n,end=\" \")\n",
    "    steps[n],p_itt=calculate_steps(n)"
   ]
  },
  {
   "cell_type": "code",
   "execution_count": 155,
   "metadata": {},
   "outputs": [
    {
     "data": {
      "text/plain": [
       "{10: 50,\n",
       " 11: 65,\n",
       " 12: 85,\n",
       " 13: 109,\n",
       " 14: 140,\n",
       " 15: 180,\n",
       " 16: 230,\n",
       " 17: 294,\n",
       " 18: 375,\n",
       " 19: 478,\n",
       " 20: 610,\n",
       " 21: 778,\n",
       " 22: 991,\n",
       " 23: 1262,\n",
       " 24: 1609,\n",
       " 25: 2049,\n",
       " 26: 2611,\n",
       " 27: 3326,\n",
       " 28: 4238,\n",
       " 29: 5399,\n",
       " 30: 6879,\n",
       " 31: 8765,\n",
       " 32: 11167,\n",
       " 33: 14229,\n",
       " 34: 18130,\n",
       " 35: 23101,\n",
       " 36: 29435,\n",
       " 37: 37507,\n",
       " 38: 47792,\n",
       " 39: 60899,\n",
       " 40: 77600}"
      ]
     },
     "execution_count": 155,
     "metadata": {},
     "output_type": "execute_result"
    }
   ],
   "source": [
    "steps"
   ]
  },
  {
   "cell_type": "code",
   "execution_count": 104,
   "metadata": {
    "id": "drYZcdxPwSKC"
   },
   "outputs": [],
   "source": [
    "x_values=list(steps.keys())\n",
    "y_values=list(steps.values())"
   ]
  },
  {
   "cell_type": "code",
   "execution_count": 105,
   "metadata": {
    "id": "6KZfyHF2wSKC"
   },
   "outputs": [],
   "source": [
    "import os\n",
    "# os.mkdir(\"HW1_Res\")"
   ]
  },
  {
   "cell_type": "code",
   "execution_count": 106,
   "metadata": {
    "colab": {
     "base_uri": "https://localhost:8080/",
     "height": 280
    },
    "id": "l-INCCr4wSKD",
    "outputId": "5cf783d2-c211-421c-b20a-b7f5ff1b1f11"
   },
   "outputs": [
    {
     "data": {
      "image/png": "[encoded data removed]",
      "text/plain": [
       "<Figure size 432x288 with 1 Axes>"
      ]
     },
     "metadata": {
      "needs_background": "light"
     },
     "output_type": "display_data"
    }
   ],
   "source": [
    "plt.plot(x_values, y_values)\n",
    "plt.xlabel(\"N\")\n",
    "plt.ylabel(\"Steps\")\n",
    "plt.savefig(\"HW1/qsn3c.png\")"
   ]
  },
  {
   "cell_type": "code",
   "execution_count": 107,
   "metadata": {
    "colab": {
     "base_uri": "https://localhost:8080/",
     "height": 615
    },
    "id": "maSdm3wuwSKD",
    "outputId": "5de77d28-6950-4548-e6ae-8b5d9a7fd904"
   },
   "outputs": [
    {
     "data": {
      "image/png": "[encoded data removed]",
      "text/plain": [
       "<Figure size 432x288 with 1 Axes>"
      ]
     },
     "metadata": {
      "needs_background": "light"
     },
     "output_type": "display_data"
    }
   ],
   "source": [
    "# Linear X axis, Logarithmic Y axis\n",
    "plt.semilogy(x_values, y_values )\n",
    "plt.xlabel(\"N\")\n",
    "plt.ylabel(\"Log Steps\")\n",
    "plt.savefig(\"HW1/qsn3c_semilogy.png\")"
   ]
  },
  {
   "cell_type": "code",
   "execution_count": 53,
   "metadata": {
    "id": "aJAp4BxPwSKD"
   },
   "outputs": [],
   "source": [
    "'''\n",
    "What does the semilogy plot tell you?\n",
    "according to the semilogy plot, we can observe how expensive is \n",
    "the running time (#steps) vs Ns.\n",
    "'''\n",
    "E=0"
   ]
  },
  {
   "cell_type": "markdown",
   "metadata": {
    "id": "K6fqYJlswSKD"
   },
   "source": [
    "## Question 4\n",
    "\n",
    "### Part a\n",
    "Now we want to also compute some samples from the markov chain. What does this mean? Given a starting state, the Markov chain says that we move to various different states with some probabilities. We want to use randomness to choose what this next state is. Each call to the function will return a different answer, a new sample.\n",
    "\n",
    "For example consider the markov chain we have been using. It computes the next state by either adding 1 (with probability 0.6), subtracting 1 (probability 0.3), or going back to state 0 (probability 0.1) until it reaches the final state. Once it reaches the final state it stays there forever. If we were starting from state `4` of our Markov chain (for example), then we want to return `5` with probability 0.6, `3` with probability 0.3, and `0` with probability 0.1. \n",
    "\n",
    "Write a function `sample` which takes in a transition matrix `tm` and an initial state `s0` and samples a state to move to starting from `s0`. "
   ]
  },
  {
   "cell_type": "code",
   "execution_count": 21,
   "metadata": {
    "id": "Bbm7mIQwwSKE"
   },
   "outputs": [],
   "source": [
    "import numpy.random as rnd"
   ]
  },
  {
   "cell_type": "code",
   "execution_count": 23,
   "metadata": {
    "id": "kYNng_5HwSKE"
   },
   "outputs": [],
   "source": [
    "#YOUR CODE HERE\n",
    "'''\n",
    "import random\n",
    "def sample(tm, s0):\n",
    "    rand_prob=random.uniform(0.1,1.0)\n",
    "    if s0 == len(tm):\n",
    "        return s0\n",
    "    if rand_prob>=0.6:\n",
    "        s0+=1\n",
    "        return s0\n",
    "    elif rand_prob>=0.3:\n",
    "        if s0!=0:\n",
    "            s0-=1\n",
    "        return s0\n",
    "    elif rand_prob>=0.1:\n",
    "        return 0\n",
    "'''\n",
    "E=0"
   ]
  },
  {
   "cell_type": "code",
   "execution_count": 58,
   "metadata": {
    "id": "hcIQ0MHpwSKE"
   },
   "outputs": [],
   "source": [
    "#YOUR CODE HERE\n",
    "def sample(tm, s0):\n",
    "    if s0 < 0 or s0>tm.shape[0]:\n",
    "        return \" ERROR: Please Check the Declaration of s0\" \n",
    "    \n",
    "    states = []\n",
    "    initial_state=s0\n",
    "    \n",
    "    #generate a vector with 0s\n",
    "    '''\n",
    "    Example\n",
    "    n=10\n",
    "    s0=3\n",
    "    concat([0,0,0],[1.0],[0,0,0,0,0,0])\n",
    "    '''\n",
    "    distributed_prob = np.concatenate((np.array([0]*(initial_state))\\\n",
    "                                       ,[1.],np.array([0]*(tm.shape[0]-(initial_state+1)))),axis=0)\n",
    "    \n",
    "    \n",
    "    #print(distributed_prob.shape)\n",
    "    #print(tm.shape[0])\n",
    "    #conventional matrix multiplication\n",
    "    distributed_prob = tm.dot(distributed_prob)\n",
    "    #distributed_prob = tm @ (distributed_prob)\n",
    "    #get a random state\n",
    "    #print(distributed_prob)\n",
    "    initial_state = np.random.choice(np.arange(tm.shape[0]),p=distributed_prob)\n",
    "    #append it to current states\n",
    "    #states.append(initial_state)\n",
    "    return initial_state"
   ]
  },
  {
   "cell_type": "code",
   "execution_count": 177,
   "metadata": {},
   "outputs": [],
   "source": [
    "tm = transition_matrix(5)\n",
    "s0 = 3\n",
    "states = []\n",
    "initial_state=s0\n",
    "distributed_prob = np.concatenate((np.array([0]*(initial_state))\\\n",
    "                                       ,[1.],np.array([0]*(tm.shape[0]-(initial_state+1)))),axis=0)\n",
    "\n",
    "initial_state = np.random.choice(np.arange(tm.shape[0]),p=distributed_prob)"
   ]
  },
  {
   "cell_type": "code",
   "execution_count": 178,
   "metadata": {},
   "outputs": [
    {
     "data": {
      "text/plain": [
       "array([0., 0., 0., 1., 0.])"
      ]
     },
     "execution_count": 178,
     "metadata": {},
     "output_type": "execute_result"
    }
   ],
   "source": [
    "distributed_prob"
   ]
  },
  {
   "cell_type": "code",
   "execution_count": 179,
   "metadata": {},
   "outputs": [
    {
     "data": {
      "text/plain": [
       "array([0., 0., 0., 1., 0.])"
      ]
     },
     "execution_count": 179,
     "metadata": {},
     "output_type": "execute_result"
    }
   ],
   "source": [
    "distributed_prob"
   ]
  },
  {
   "cell_type": "code",
   "execution_count": 181,
   "metadata": {},
   "outputs": [
    {
     "data": {
      "text/plain": [
       "array([0., 0., 0., 1., 0.])"
      ]
     },
     "execution_count": 181,
     "metadata": {},
     "output_type": "execute_result"
    }
   ],
   "source": [
    "distributed_prob"
   ]
  },
  {
   "cell_type": "markdown",
   "metadata": {
    "id": "FLflVxDjwSKE"
   },
   "source": [
    "Your implementation should **not** hard-code the probability values from the specific Markov chain we have been working with so far."
   ]
  },
  {
   "cell_type": "markdown",
   "metadata": {
    "id": "2siVlXxJwSKE"
   },
   "source": [
    "### part b\n",
    "\n",
    "With this implementation of `sample`, write a function `sample_k_steps` which runs a random walk in the chain for `k` steps from an initial state `s0`. The random walk works in the following way: we start from `s0` and sample a new state to move to. We then set that new state to be `s0` and sample a new state to move to from there, repeating this until we have stepped `k` times.\n",
    "\n",
    "As an example, in the chain we have been working with so far we can only add 1, subtract 1, or go to 0 each time we step until we reach state `n-1`. When we are in state `n-1` we stay there forever. Thus a potential sample of 25 steps in the `n=10` chain is\n",
    "```\n",
    "array([0,1,2,1,2,3,0,0,1,2,3,4,5,4,3,4,5,6,7,8,9,9,9,9,9,9])\n",
    "```\n",
    "Note that each element of this array is equal to 0, equal to n-1, or is 1 greater or 1 less than the previous one. Further once we have an `n-1` value in our array we have that value for all future elements. \n",
    "\n",
    "Write a function `sample_k_steps` which takes in transition matrix `tm`, number of steps `k`, and  starting state `s0` and returns an array of `k+1` states sampled from the chain.\n",
    "\n",
    "Hint: You can use `sample` from 4a for this"
   ]
  },
  {
   "cell_type": "code",
   "execution_count": 182,
   "metadata": {
    "id": "lcTxtzuLwSKF"
   },
   "outputs": [],
   "source": [
    "#YOUR CODE HERE\n",
    "def sample_k_steps(tm,k,s0):\n",
    "    states=[]  #storing all states  \n",
    "    for i in range (k):\n",
    "        s0=sample(tm,s0) #call steps function\n",
    "        states.append(s0)\n",
    "    return states"
   ]
  },
  {
   "cell_type": "code",
   "execution_count": null,
   "metadata": {},
   "outputs": [],
   "source": []
  },
  {
   "cell_type": "markdown",
   "metadata": {
    "id": "V7wBkY7bwSKF"
   },
   "source": [
    "Use the below code to test out some of the samples, it samples 20 trajectories of the markov chain and plots them. The plot should show that almost all or all the trajectories would ahve reached the final state by the end. Save this graph as \"qsn4b.png\"."
   ]
  },
  {
   "cell_type": "code",
   "execution_count": 184,
   "metadata": {
    "colab": {
     "base_uri": "https://localhost:8080/",
     "height": 265
    },
    "id": "xsc4pm6ywSKF",
    "outputId": "5746b396-d22e-4149-d2be-8bad6f257f89"
   },
   "outputs": [
    {
     "data": {
      "image/png": "[encoded data removed]",
      "text/plain": [
       "<Figure size 432x288 with 1 Axes>"
      ]
     },
     "metadata": {
      "needs_background": "light"
     },
     "output_type": "display_data"
    }
   ],
   "source": [
    "#TESTING\n",
    "tm = transition_matrix(5)\n",
    "k = 30\n",
    "s0 = 0\n",
    "\n",
    "for i in range(20):\n",
    "    states = sample_k_steps(tm, k, s0)\n",
    "    #print(states)\n",
    "    plt.plot(states)\n",
    "plt.xlabel(\"#Steps\")\n",
    "plt.ylabel(\"Current State\")\n",
    "plt.savefig(\"HW1/qsn4b.png\")"
   ]
  },
  {
   "cell_type": "markdown",
   "metadata": {
    "id": "8zikJZ57wSKG"
   },
   "source": [
    "## Question 5\n",
    "\n",
    "We will now use our implementation of `sample` to estimate *hitting times* in a Markov chain. The hitting time between states `i` and `j` is the average number of steps that a random walk starting from state `i` takes to hit state `j`. We will be creating a [Monte Carlo simulation](https://en.wikipedia.org/wiki/Monte_Carlo_method) to estimate this value: if we run many random walks starting from `i` and count the number of steps it takes them to reach `j`, the average number of steps we observe is (hopefully) a good approximation to the true hitting time.\n",
    "\n",
    "Write a function `hitting_time_1_walk` which takes in as arguments a transition matrix `tm`, a starting point `i`, and an ending point `j`. Your function should run a random walk starting from `i` until it hits `j`, and return the number of steps that your walk takes to hit `j`.\n"
   ]
  },
  {
   "cell_type": "code",
   "execution_count": 66,
   "metadata": {
    "id": "mZ5IKN0bwSKG"
   },
   "outputs": [],
   "source": [
    "#YOUR CODE HERE\n",
    "def hitting_time_1_walk(tm,i,j):\n",
    "    #initial step is stored\n",
    "    s = i \n",
    "    k = 0 #steps\n",
    "    # while we did not reach the target\n",
    "    while s != j:\n",
    "        #call sample equation\n",
    "        s = sample(tm, s)\n",
    "        #increment the steps\n",
    "        k += 1\n",
    "    return k #return steps\n"
   ]
  },
  {
   "cell_type": "markdown",
   "metadata": {
    "id": "qdRwzXN0wSKG"
   },
   "source": [
    "Note that when applied to our markov chain from before, `hitting_time_1_walk(tm,0,n-1)` runs a random walk starting from `0` until it hits the end state `n-1`. Consequently, we expect that `hitting_time_1_walk(tm,0,n-1)` will be at most some value `k` with probability equal to `propagate(tm,0,k)[n-1]` (take some time to convince yourself of this if you are not sure of this).\n",
    "\n",
    "1. **Create a new transition matrix `tm` for n = 20**, and create an array of 1000 calls to `hitting_time_1_walk(tm,0,n-1)`. \n",
    "\n",
    "2. Write a function `proportion_at_most` which takes in as arguments an array `arr` and a value `max_value`. It should return an array with `max_value` entries, where the `i`'th entry of the output array is the proportion of the values from `arr` which are at most `i`. For example, `proportion_at_most(arr=[1,2,4,2,6], max_value = 7)` should return `[0,0.2,0.6,0.6,0.8,0.8,1,1]` (or the numpy array equivalent to this)\n",
    "\n",
    "\n",
    "3. Apply this function to the hitting time samples you computed, with `max_value = 2000`.\n",
    "\n",
    "4. Compute the theoretical probability of being in state `n-1` after `k` steps using `propagate`, for every value of `k` between `0` and `2000`. \n",
    "\n",
    "5. Plot the estimated probabilities from 2) and the true probabilities from 3) against each other. Do they agree?\n",
    "\n",
    "\n",
    "Save your plot as `qsn5.png`."
   ]
  },
  {
   "cell_type": "code",
   "execution_count": 189,
   "metadata": {
    "id": "t1bi_7GQwSKG"
   },
   "outputs": [],
   "source": [
    "def proportion_at_most(arr, max_value):\n",
    "    #MAKE SURE IT IS A NUmpy array\n",
    "    arr = np.array(arr)\n",
    "    \n",
    "    #generate a zero vector with shape equal to max value\n",
    "    vector = np.zeros(max_value+1)\n",
    "    #add values to the created vector\n",
    "    for i in range(max_value+1):\n",
    "        #proportion of the values\n",
    "        vector[i] = len(arr[arr<=i])/len(arr)\n",
    "    return vector\n",
    "    "
   ]
  },
  {
   "cell_type": "code",
   "execution_count": null,
   "metadata": {},
   "outputs": [],
   "source": []
  },
  {
   "cell_type": "code",
   "execution_count": 190,
   "metadata": {
    "colab": {
     "base_uri": "https://localhost:8080/"
    },
    "id": "HY2MgAZUwSKG",
    "outputId": "0bf7574d-3c1a-450f-d997-5b08b53f5555"
   },
   "outputs": [
    {
     "data": {
      "text/plain": [
       "array([0. , 0.2, 0.6, 0.6, 0.8, 0.8, 1. , 1. ])"
      ]
     },
     "execution_count": 190,
     "metadata": {},
     "output_type": "execute_result"
    }
   ],
   "source": [
    "proportion_at_most(arr=[1,2,4,2,6], max_value = 7)"
   ]
  },
  {
   "cell_type": "code",
   "execution_count": 192,
   "metadata": {
    "colab": {
     "base_uri": "https://localhost:8080/",
     "height": 368,
     "referenced_widgets": [
      "bfde25d53a2f47a4b30cacbd8c68f5c1",
      "ac03befad41a4255ba621c89a24cf01f",
      "2bfe2c70ea2f400aac8217962f07d13f",
      "812b7f7f03484aad8223daca0c2c5577",
      "a9beafc9997c403f95b1afab585469da",
      "963e85ff5a4d46eb850e5461ec149cfc",
      "f62901863814468cad81df830d49b764",
      "1750cdf340c644ceaec4659ed70160bc",
      "1b0e27352f764fae8e383a3dc3e74e5c",
      "340264c9ffdb488ba1e7aeea55c207a1",
      "6ac8bf48908d45568a5bacf78e6b3826"
     ]
    },
    "id": "RSqqxvC8wSKG",
    "outputId": "8b48ea54-4a36-408e-9d95-7dfce0ff0ab9"
   },
   "outputs": [
    {
     "name": "stderr",
     "output_type": "stream",
     "text": [
      "<ipython-input-192-b967233376e4>:26: TqdmDeprecationWarning: This function will be removed in tqdm==5.0.0\n",
      "Please use `tqdm.notebook.tqdm` instead of `tqdm.tqdm_notebook`\n",
      "  for i in tqdm(range(2000)):\n"
     ]
    },
    {
     "data": {
      "application/vnd.jupyter.widget-view+json": {
       "model_id": "63c5519183e04ac3a0313bcf4a1c344c",
       "version_major": 2,
       "version_minor": 0
      },
      "text/plain": [
       "  0%|          | 0/2000 [00:00<?, ?it/s]"
      ]
     },
     "metadata": {},
     "output_type": "display_data"
    },
    {
     "data": {
      "image/png": "[encoded data removed]",
      "text/plain": [
       "<Figure size 432x288 with 1 Axes>"
      ]
     },
     "metadata": {
      "needs_background": "light"
     },
     "output_type": "display_data"
    }
   ],
   "source": [
    "#YOUR CODE HERE\n",
    "'''\n",
    "Apply this function to the hitting time samples you computed, with max_value = 2000.\n",
    "\n",
    "Compute the theoretical probability of being in state n-1 after k steps using propagate, for every value of k between 0 and 2000.\n",
    "\n",
    "Plot the estimated probabilities from 2) and the true probabilities from 3) against each other. Do they agree?\n",
    "\n",
    "'''\n",
    "from tqdm import tqdm_notebook as tqdm\n",
    "n = 20 #n\n",
    "m = transition_matrix(n) #create a transition matrix\n",
    "h = np.zeros(2000) #define h a vecotor of size 2000\n",
    "\n",
    "#Compute the theoretical probability of being in state n-1\n",
    "for i in range(2000):\n",
    "    h[i] = hitting_time_1_walk(m,0,n-1) #calculate hits\n",
    "#Compute the theoretical probability of being in state n-1 after k steps using propagate\n",
    "p = proportion_at_most(arr=h, max_value = 2000)\n",
    "\n",
    "#plot\n",
    "plt.plot(p)\n",
    "pp = np.zeros(2000)\n",
    "z = np.zeros(n);\n",
    "z[0] = 1\n",
    "for i in tqdm(range(2000)):\n",
    "    pp[i] = propagate(z, i, m)[-1]\n",
    "pp\n",
    "plt.plot(pp)\n",
    "plt.legend([\"Results from 2 (Hitting RWs)\",\"Results from 3 (Propagate)\"])\n",
    "plt.ylabel(\"Probabilities\")\n",
    "plt.xlabel(\"Max value\")\n",
    "plt.savefig(\"HW1/qsn5.png\")"
   ]
  },
  {
   "cell_type": "code",
   "execution_count": 70,
   "metadata": {},
   "outputs": [
    {
     "data": {
      "text/plain": [
       "'Answer: Yes they are almost the same'"
      ]
     },
     "execution_count": 70,
     "metadata": {},
     "output_type": "execute_result"
    }
   ],
   "source": [
    "\"Answer: Yes they are almost the same\""
   ]
  },
  {
   "cell_type": "markdown",
   "metadata": {
    "id": "2iNypy9nwSKH"
   },
   "source": [
    "## Question 6\n",
    "We will now move away from Markov chains and look towards another use of linear algebra and graphs: clustering algorithms. More specifically, in this exercise we will implement a simple spectral clustering algorithm: we will demonstrate this this algorithm works on a classic synthetic dataset: the 'nested moons' dataset. We will first generate this dataset and identify the ground truth clustering we seek to find. "
   ]
  },
  {
   "cell_type": "code",
   "execution_count": 71,
   "metadata": {
    "colab": {
     "base_uri": "https://localhost:8080/",
     "height": 283
    },
    "id": "fwIqHofmwSKH",
    "outputId": "c3b754fd-4a9c-4602-e153-98791182d030"
   },
   "outputs": [
    {
     "data": {
      "text/plain": [
       "<matplotlib.legend.Legend at 0x7f9009f9f490>"
      ]
     },
     "execution_count": 71,
     "metadata": {},
     "output_type": "execute_result"
    },
    {
     "data": {
      "image/png": "[encoded data removed]",
      "text/plain": [
       "<Figure size 432x288 with 1 Axes>"
      ]
     },
     "metadata": {
      "needs_background": "light"
     },
     "output_type": "display_data"
    }
   ],
   "source": [
    "import sklearn.datasets\n",
    "\n",
    "n = 1000\n",
    "X,y = sklearn.datasets.make_moons(n,noise=0.05, random_state = 0)\n",
    "\n",
    "plt.scatter(X[y==0, 0], X[y==0, 1],label=\"True Cluster 1\")\n",
    "plt.scatter(X[y==1, 0], X[y==1, 1],label=\"True Cluster 2\")\n",
    "    \n",
    "    \n",
    "plt.legend()"
   ]
  },
  {
   "cell_type": "markdown",
   "metadata": {
    "id": "dxfpVCX6wSKH"
   },
   "source": [
    "This dataset consists of $n=1000$ data points in 2-dimensional space. While it seems obvious to our eyes that a good partition of the data exists, many off-the-shelf clustering algorithms fail to fully identify the clusters on this dataset. As an example, here is how the standard K-means clustering algorithm fares on this dataset (we will see more examples of clustering in Lecture 7 when we cover Scikit-learn)."
   ]
  },
  {
   "cell_type": "code",
   "execution_count": 209,
   "metadata": {
    "colab": {
     "base_uri": "https://localhost:8080/",
     "height": 283
    },
    "id": "1HTnF3ZgwSKH",
    "outputId": "62b8ebb2-e0fe-460d-9b10-e920c7957110"
   },
   "outputs": [
    {
     "data": {
      "text/plain": [
       "<matplotlib.legend.Legend at 0x7f901b57ec70>"
      ]
     },
     "execution_count": 209,
     "metadata": {},
     "output_type": "execute_result"
    },
    {
     "data": {
      "image/png": "[encoded data removed]",
      "text/plain": [
       "<Figure size 432x288 with 1 Axes>"
      ]
     },
     "metadata": {
      "needs_background": "light"
     },
     "output_type": "display_data"
    }
   ],
   "source": [
    "from sklearn.cluster import KMeans\n",
    "\n",
    "model = KMeans(n_clusters=2, random_state=0)\n",
    "kmeans_labels = model.fit(X).labels_\n",
    "\n",
    "plt.scatter(X[kmeans_labels==0, 0], X[kmeans_labels==0, 1],label=\"K-Means Cluster 1\")\n",
    "plt.scatter(X[kmeans_labels==1, 0], X[kmeans_labels==1, 1],label=\"K-Means Cluster 2\")\n",
    "\n",
    "    \n",
    "plt.legend()"
   ]
  },
  {
   "cell_type": "markdown",
   "metadata": {
    "id": "CseNLigDwSKH"
   },
   "source": [
    "### part (a)\n",
    "$\\newcommand{\\norm}[1]{\\left\\lVert#1\\right\\rVert}$\n",
    "In this exercise, we will implement a basic spectral clustering algorithm which will correctly identify the clusters on this dataset. To begin, we will need to form an \"affinity matrix\": the $(i,j)$ entry of this matrix indicates how close together the $i^{th}$ and $j^{th}$ data points are in space. \n",
    "\n",
    "Let $x_i$ denote the $i^{th}$ point in the data set. Form an $n \\times n$ matrix $A$ where $A_{ij} = e^{-10 \\norm{x_i - x_j}}$ (this constant of $10$ is chosen because it gives good results for this task: it may be tuned in practice). (Here, $\\norm{x_i - x_j}$ is the vector $2$-norm of the difference between $x_i$ and $x_j$.) If you did this correctly, the minimum value in $A$ should be `1.679177168057234e-14`.\n"
   ]
  },
  {
   "cell_type": "code",
   "execution_count": 211,
   "metadata": {
    "colab": {
     "base_uri": "https://localhost:8080/",
     "height": 120,
     "referenced_widgets": [
      "c8f98cfc127341a98b9de01ba4b39f46",
      "9aaf5d0d59ad44f981b5d3913f964e8e",
      "a4078d9893334f4a8bdacee0036b35e1",
      "5bfa3500c1cc4664b1ae538a5cc94ce4",
      "d521c8e307a0487b8ee0b8279622e0df",
      "71b2a6d636fa484bafb6def43c1d2db8",
      "8b3e72f322fe4de692c08a76e199f2ce",
      "73583665240f430b8d753fe8ba02c3fb",
      "062b9b6e49e9438ba2ddfe839de7e5de",
      "b829337b75ff4f8193f0bd8b6b4eabb5",
      "2d1902ff6b014f74b72e140605f647c9"
     ]
    },
    "id": "KbFVGIocwSKH",
    "outputId": "39296b53-3e56-4532-a376-88b0f4e511af"
   },
   "outputs": [
    {
     "name": "stdout",
     "output_type": "stream",
     "text": [
      "(1000, 2)\n"
     ]
    },
    {
     "name": "stderr",
     "output_type": "stream",
     "text": [
      "<ipython-input-211-9855de67022a>:6: TqdmDeprecationWarning: This function will be removed in tqdm==5.0.0\n",
      "Please use `tqdm.notebook.tqdm` instead of `tqdm.tqdm_notebook`\n",
      "  for i in tqdm(range(size)):\n"
     ]
    },
    {
     "data": {
      "application/vnd.jupyter.widget-view+json": {
       "model_id": "e2a5a7463f2a436f9f0d65b630fcaa47",
       "version_major": 2,
       "version_minor": 0
      },
      "text/plain": [
       "  0%|          | 0/1000 [00:00<?, ?it/s]"
      ]
     },
     "metadata": {},
     "output_type": "display_data"
    }
   ],
   "source": [
    "#YOUR CODE HERE\n",
    "import math\n",
    "print(X.shape)\n",
    "size=X.shape[0]\n",
    "A = np.zeros((size, size))\n",
    "for i in tqdm(range(size)):\n",
    "  for j in range(size):\n",
    "    A[i,j] = math.exp(-10*np.linalg.norm(X[i,]-X[j,]))"
   ]
  },
  {
   "cell_type": "code",
   "execution_count": 213,
   "metadata": {},
   "outputs": [
    {
     "data": {
      "text/plain": [
       "True"
      ]
     },
     "execution_count": 213,
     "metadata": {},
     "output_type": "execute_result"
    }
   ],
   "source": [
    "A.min()==1.679177168057234e-14"
   ]
  },
  {
   "cell_type": "markdown",
   "metadata": {
    "id": "NthCXxdRwSKI"
   },
   "source": [
    "With this, we generate a [Laplacian matrix](https://www.cs.yale.edu/homes/spielman/561/2012/lect02-12.pdf). We do this in two steps: we first construct a diagonal matrix $D$ which contains the row sums of $A$ on its diagonal, and then we create the Laplacian $L = D- A$.  "
   ]
  },
  {
   "cell_type": "code",
   "execution_count": 74,
   "metadata": {
    "id": "ICLFU8xLwSKI"
   },
   "outputs": [],
   "source": [
    "D =  np.diag(A.sum(axis=0))\n",
    "L = D-A"
   ]
  },
  {
   "cell_type": "markdown",
   "metadata": {
    "id": "2US_TwzOwSKI"
   },
   "source": [
    "The algorithmic task behind spectral clustering algorithms is to find the eigenvector associated with *second smallest* eigenvalue of the matrix $L$. (All eigenvalues of $L$ are positive, and it is a simple exercise to show that the all-ones vector is an eigenvector of $L$ with eigenvalue $0.$) As we will later see, the entries of this vector will enable us to identify the partition in our original dataset. We will build up to this functionality in stages. \n",
    "\n",
    "We begin by writing a linear system solver for the matrix $L$. We will use an adaptation of [Richardson iteration](https://en.wikipedia.org/wiki/Modified_Richardson_iteration) to do this task: the pseudocode for this is given below. \n",
    "\n",
    "```\n",
    "    input) L: an n x n Laplacian matrix, b: an n x 1 vector with entries summing to 0, T: number of iterations\n",
    "    outputs) x: n x 1 vector approximately satisfying Lx =b.\n",
    "\n",
    "    x <- all-zeros vector\n",
    "    steplength = 0.03\n",
    "    for i = 0,1,2,...,T-1:\n",
    "        residual <- b - L*x\n",
    "        x <- x + steplength*residual\n",
    "```\n",
    "\n",
    "Write a function `richardson(L,b,T=500)` which implements the algorithm given above. (Note that the `steplength` parameter of $0.03$ may be optimized slightly, but this value gives good performance for solving linear systems in the Laplacian defined earlier.)"
   ]
  },
  {
   "cell_type": "code",
   "execution_count": 75,
   "metadata": {
    "id": "HZPERQ34wSKI"
   },
   "outputs": [],
   "source": [
    "#YOUR CODE HERE\n",
    "def richardson(L,b,T=500): #in our later code, we will run for T = 500 iterations\n",
    "    #x <- all-zeros vector\n",
    "    res=[]\n",
    "    x=np.zeros(L.shape[0])\n",
    "    #steplength = 0.03\n",
    "    steplength = 0.03\n",
    "    for i in range(T):\n",
    "        #residual <- b - L*x\n",
    "        residual= b - L.dot(x)\n",
    "        #x <- x + steplength*residual\n",
    "        x=x+steplength*residual\n",
    "        res.append(np.linalg.norm(L.dot(x)-b))\n",
    "    return x,res"
   ]
  },
  {
   "cell_type": "markdown",
   "metadata": {
    "id": "1sjPwZtswSKI"
   },
   "source": [
    "### part (b)\n",
    "\n",
    "While the Richardson iteration above works well on small problems, it converges slowly on larger instances. This is especially true for our Laplacian linear system: the norm of our residual error may remain higher than $10^{-4}$ even after 1000 iterations. To address this issue, we will implement a version of [Nesterov acceleration](https://calculus.subwiki.org/wiki/Nesterov%27s_gradient_acceleration) to improve the convergence of this procedure. The pseudocode for this algorithm is given below: \n",
    "\n",
    "\n",
    "```\n",
    "    input) L: an n x n Laplacian matrix, b: an n x 1 vector with entries summing to 0, tol: error tolerance\n",
    "    outputs) x_T: n x 1 vector approximately satisfying Lx =b.\n",
    "\n",
    "    x_0, y_0 <- all-zeros vector\n",
    "    steplength = 0.03\n",
    "    alpha = 0.9\n",
    "    for i = 0, 1, ... T-1:\n",
    "        x_{i+1} <- y_i + steplength*(b - L*y_i)\n",
    "        y_{i+1} = x_{i+1} + alpha*(x_{i+1} - x_i)\n",
    "        i = i + 1\n",
    "```\n",
    "\n",
    "\n",
    "Here the index $i$ denotes the index of iteration: $y_1$ is a different $n$-dimensional vector to $y_0$ (and likewise with $x$). It does not indicate It may be helpful to un-roll the for loop to see the vectors it defines: if $\\eta$ is the steplength, we see\n",
    "\n",
    "\\begin{align*}\n",
    "x_1 = y_0 + \\eta(b- L y_0) \\\\\n",
    "y_1 = x_1 + \\alpha (x_1 - x_0) \\\\\n",
    "x_2 = y_1 + \\eta (b- L y_1) \\\\\n",
    "y_2 = x_2 + \\alpha (x_2 - x_1) \\\\\n",
    "x_3 = y_2 + \\eta (b- L y_2) \\\\\n",
    "y_3 = x_3 + \\alpha (x_3 - x_2)\n",
    "\\end{align*}\n",
    "\n",
    "and so on. We see that the vector $x_1$ defined on the first line is used to define both $y_1$ on the second line and $y_2$ on the fourth line. You should think of the algorithm as constructing two sequences of vectors $x_i$ and $y_i$: each $x$ vector is a function of the previous $y$ vector, but each $y$ vector is a function of the previous **two** $x$ vectors. You may find it helpful to store two different $x$ vectors (called $x_{current}$ and $x_{old}$ for example) to implement the algorithm.\n",
    "\n",
    "(For those interested in the justification of this procedure, solving the linear equations $Lx = b$ is equivalent to finding the minimizing $x$ for the quadratic $\\frac{1}{2} x^\\top L x - b^\\top x$. In the pseudocode, we apply the Nesterov accelerated gradient method to this problem. The constants of `alpha` and `steplength` can again be slightly improved, but these give good performance for our Laplacian)\n",
    "\n",
    "Write a function `agd(L,b,T=500)` to implement the above pseudocode. "
   ]
  },
  {
   "cell_type": "code",
   "execution_count": 76,
   "metadata": {
    "id": "Nd8nNw_1wSKI"
   },
   "outputs": [],
   "source": [
    "#YOUR CODE HERE\n",
    "def agd(L,b,T=500):\n",
    "    res=[]\n",
    "    #x_0, y_0 <- all-zeros vector\n",
    "    x_0,y_0= np.zeros(L.shape[0]),np.zeros(L.shape[0])\n",
    "    steplength = 0.03\n",
    "    alpha = 0.9\n",
    "    y_c=y_0 #y_c eq to y_i+1\n",
    "    y_p=y_0 #y_p eq to y_i\n",
    "    x_c=x_0 #x_c eq to x_i\n",
    "    x_p=x_0 #x_p eq to x_i+1\n",
    "    #for i = 0, 1, ... T-1:\n",
    "    for i in range(T):\n",
    "        #x_{i+1} <- y_i + steplength*(b - L*y_i)\n",
    "        x_c=y_p+steplength*(b-L.dot(y_p))\n",
    "        #y_{i+1} = x_{i+1} + alpha*(x_{i+1} - x_i)\n",
    "        y_c=x_c+alpha*(x_c-x_p)\n",
    "        x_p=x_c\n",
    "        y_p=y_c\n",
    "        \n",
    "        res.append(np.linalg.norm(L.dot(x_c)-b))\n",
    "    return x_c,y_c,res"
   ]
  },
  {
   "cell_type": "code",
   "execution_count": null,
   "metadata": {
    "id": "2sWEF-YhwSKJ"
   },
   "outputs": [],
   "source": []
  },
  {
   "cell_type": "code",
   "execution_count": 77,
   "metadata": {
    "colab": {
     "base_uri": "https://localhost:8080/"
    },
    "id": "6b5XBHwzwSKJ",
    "outputId": "cdfb623c-bff8-4444-fd92-afe394aa2aa7"
   },
   "outputs": [
    {
     "data": {
      "text/plain": [
       "array([ 5.28919696e-02,  2.19267832e-01,  1.06841842e-01,  4.89616486e-02,\n",
       "       -7.22667350e-02,  1.49972579e-01, -5.83343231e-02,  3.95851466e-01,\n",
       "        4.67741226e-01, -1.12480016e-01,  2.95803504e-01,  3.29733854e-02,\n",
       "        7.21230267e-02,  4.29675104e-01, -4.24885476e-01, -4.08792235e-01,\n",
       "       -4.75703137e-01,  3.36698311e-01,  2.82235217e-01,  3.74090614e-01,\n",
       "        4.82696808e-01,  3.03237030e-01, -3.44421721e-02,  2.84607642e-01,\n",
       "       -3.77647109e-01,  1.43999487e-01, -3.52568247e-01,  4.48747383e-01,\n",
       "        2.59267874e-02, -8.12595944e-02, -2.31365922e-01,  2.78312155e-01,\n",
       "       -3.97712022e-02,  7.25124145e-02, -4.77131734e-01,  1.21713963e-01,\n",
       "        1.16174188e-01,  1.21012463e-01,  4.47826544e-01,  1.85898765e-01,\n",
       "       -1.36413634e-01, -5.88895806e-02,  2.01709662e-01, -4.35696063e-01,\n",
       "        1.70845181e-01,  1.74716335e-01, -2.85538973e-01, -3.66995237e-01,\n",
       "       -1.80493183e-01, -1.32210763e-01,  7.42752360e-02, -5.73200209e-02,\n",
       "        4.92452304e-01, -3.93876724e-01, -2.87044778e-01, -3.34612016e-01,\n",
       "        1.57186791e-01, -2.42629932e-01, -2.96107615e-02, -2.51495942e-01,\n",
       "       -3.36951951e-01, -3.85546393e-01,  1.60408055e-01, -3.57738583e-01,\n",
       "       -2.99339173e-01, -1.27196364e-01,  3.25071695e-01, -3.98820259e-01,\n",
       "        3.42023373e-01, -3.99823126e-01,  4.80537931e-01, -2.72703327e-02,\n",
       "        4.80839554e-01,  1.08923985e-01,  2.43342045e-01, -4.56733742e-01,\n",
       "       -2.13114572e-01, -3.75724973e-01, -1.99781337e-01, -3.77193815e-01,\n",
       "       -1.77938355e-01, -8.16585399e-02, -4.31774038e-01,  1.96550585e-01,\n",
       "        7.06799198e-02, -2.30532043e-01,  2.73265191e-02, -4.01981024e-01,\n",
       "        8.00249612e-02,  4.33374663e-01, -1.77352582e-01,  1.71488846e-01,\n",
       "       -3.64123672e-01,  2.20405670e-01, -2.06515441e-01, -3.12730172e-01,\n",
       "        9.05914004e-02, -4.75813988e-01,  3.33018495e-01, -4.91226058e-01,\n",
       "        1.81895002e-01, -2.25913561e-01,  2.39272488e-01,  4.66267011e-01,\n",
       "       -2.47168391e-01,  8.02358000e-02,  9.61203969e-02,  7.63303714e-02,\n",
       "       -2.72839902e-01,  4.56827477e-01, -4.87961558e-02,  3.50487138e-01,\n",
       "        2.03557741e-01, -1.98484584e-01,  3.17876285e-01, -9.94157935e-02,\n",
       "        3.85181663e-01,  8.53513383e-02,  3.85813827e-01,  1.96610056e-01,\n",
       "        2.29332745e-01,  5.40284755e-03,  4.60162100e-01,  1.48068665e-01,\n",
       "       -7.20664858e-02,  1.10471680e-01, -4.76728336e-01, -1.94346718e-01,\n",
       "        1.64252003e-01, -2.05843927e-01,  1.22093895e-01, -6.71528334e-02,\n",
       "       -3.60447470e-01, -1.97639208e-01,  7.40433763e-02,  9.49512269e-02,\n",
       "        7.84037145e-02,  1.57279285e-01,  1.56181736e-01, -6.45030989e-02,\n",
       "        4.00625061e-01, -1.28359664e-01, -6.00566091e-02,  3.96001821e-01,\n",
       "        3.10272455e-01,  2.07967049e-01, -3.95694647e-01,  4.23561079e-01,\n",
       "        2.18319765e-01,  5.02925472e-01, -3.46473230e-01,  3.72204523e-01,\n",
       "       -3.33428600e-01,  1.19638030e-01, -3.72101552e-01,  3.52086695e-01,\n",
       "        3.11397424e-01,  7.31792042e-02, -8.87382371e-02, -4.26754539e-01,\n",
       "        2.01507239e-01, -4.23788517e-02,  2.26134065e-01,  3.70460792e-01,\n",
       "        4.79599971e-01,  3.59881808e-01, -4.84207450e-01, -1.35943470e-01,\n",
       "        2.34069028e-01, -3.24291857e-01,  2.51150718e-02, -4.41583546e-01,\n",
       "       -2.95925009e-01, -4.77399740e-01,  2.97776169e-01, -2.71996846e-01,\n",
       "       -1.50569854e-01,  4.32159759e-01,  2.08492868e-01, -4.64082605e-01,\n",
       "       -3.31227378e-01,  1.25556867e-01,  8.13070542e-02, -2.58028713e-01,\n",
       "        4.38292464e-01,  1.18044422e-01,  3.97112687e-02,  9.39884420e-02,\n",
       "        2.34200495e-01, -1.83976539e-01, -9.77004722e-02, -2.86077785e-01,\n",
       "       -3.09728528e-01,  4.48450856e-01,  2.43629261e-01, -5.46272575e-03,\n",
       "       -2.68506906e-01, -2.41565053e-01, -4.37892374e-01, -6.15049088e-02,\n",
       "       -1.84125652e-01,  2.00421954e-01, -1.18169695e-01, -3.16317857e-01,\n",
       "       -4.71242806e-01, -4.28671903e-01,  1.83471239e-01, -4.22246898e-02,\n",
       "        4.06576767e-02,  4.00749759e-01,  4.94417413e-01, -2.79024550e-01,\n",
       "        1.67156669e-01, -2.32599158e-01, -4.75270535e-01,  2.62457119e-01,\n",
       "       -1.75904384e-01, -1.12457640e-01,  9.23955792e-02,  3.35126921e-01,\n",
       "        1.33060309e-01,  3.76729121e-01, -2.22379500e-01,  3.02125300e-01,\n",
       "       -3.10285590e-01,  4.56870123e-01,  1.91566742e-01, -2.80413857e-01,\n",
       "        4.51449056e-01,  2.34934272e-01, -2.41979892e-01, -2.82609557e-01,\n",
       "        2.22791796e-02, -4.70258816e-01, -2.88451459e-01, -7.12360656e-02,\n",
       "       -1.21751554e-01, -3.23461100e-02, -2.18292828e-01,  9.08628121e-02,\n",
       "        3.67934072e-01, -3.78389678e-01,  2.14575728e-02, -3.63853428e-01,\n",
       "        2.20938147e-01, -9.98618316e-02,  6.94997775e-02, -3.12641698e-01,\n",
       "       -3.51073775e-01, -7.86525372e-03, -1.40308797e-01,  4.44510411e-01,\n",
       "        2.69403719e-01,  2.52742085e-01,  4.07798205e-01, -4.12499099e-01,\n",
       "        5.62709356e-02,  8.85545346e-02,  4.66014844e-01, -2.03774008e-01,\n",
       "       -2.55092754e-01, -3.95627592e-01, -4.79491905e-01,  4.33607782e-01,\n",
       "        1.73995012e-01,  2.89231378e-01, -2.14191429e-01,  9.04886318e-02,\n",
       "       -4.31966268e-01, -1.02939384e-02,  4.81573605e-01,  3.80583711e-01,\n",
       "       -1.57762583e-01,  4.65648620e-01, -2.64219908e-01,  4.53397288e-01,\n",
       "        4.45456170e-01,  3.03281053e-01,  1.34526402e-01,  3.78366432e-01,\n",
       "       -2.02901250e-01,  3.53022021e-01,  1.21955158e-01, -4.82684677e-01,\n",
       "       -1.48688016e-01, -3.47780673e-01,  4.85907855e-01, -1.75512273e-02,\n",
       "        1.46983113e-03,  1.43550982e-01, -1.27336928e-01, -3.59021263e-01,\n",
       "        3.26196199e-01, -3.06073622e-01,  1.53974482e-02, -2.71604505e-01,\n",
       "       -3.98077050e-01,  3.66269983e-01,  4.76997955e-01,  4.64913124e-01,\n",
       "        4.10633965e-01,  2.78125798e-01, -1.62776382e-01, -4.14820144e-01,\n",
       "       -8.86803630e-02, -2.63687392e-01, -3.63433900e-01, -4.42494353e-01,\n",
       "        2.29672830e-01, -4.84494076e-01,  2.74659214e-01, -3.48974889e-01,\n",
       "       -4.16399452e-01, -4.06318500e-01,  1.76126273e-01, -2.50554325e-01,\n",
       "       -7.53820677e-02,  6.14472570e-02,  3.64629639e-01,  2.31122728e-01,\n",
       "       -2.25593629e-01, -3.64438735e-01, -4.40547214e-01, -1.94322900e-01,\n",
       "       -2.33803385e-01, -3.97809676e-02,  1.87359801e-01,  1.99703911e-01,\n",
       "       -2.12402688e-01, -1.15994578e-01, -3.14770573e-01,  2.92623978e-01,\n",
       "       -4.39073458e-01,  2.01075707e-01,  2.82773862e-01,  2.81486027e-01,\n",
       "       -2.36498970e-01, -1.22108396e-01,  9.16781008e-02, -2.23099632e-01,\n",
       "       -1.25068735e-01, -2.98867254e-01, -3.60656506e-02, -4.51309233e-01,\n",
       "        3.03874350e-01, -4.18965087e-01,  2.29136145e-02, -1.89111435e-01,\n",
       "        8.16214145e-02,  4.63511806e-01,  1.49648710e-01, -4.60559099e-01,\n",
       "       -6.55190949e-02,  1.40953179e-02,  4.02559603e-02,  1.85470976e-01,\n",
       "       -2.18325437e-01, -3.67060969e-01, -1.03245858e-01,  4.60484188e-01,\n",
       "       -3.08790643e-01,  4.08062421e-01,  4.78844157e-02, -3.90101127e-02,\n",
       "        3.86119876e-01, -3.73175726e-02,  2.28246102e-01, -9.68962127e-02,\n",
       "        4.08122859e-01,  1.94103486e-01,  2.03700520e-01, -1.68201133e-01,\n",
       "        2.60857108e-01,  1.40139521e-01, -2.55901261e-01, -3.35382712e-01,\n",
       "        3.00469940e-01,  4.63245069e-01, -3.77827071e-02,  9.50626310e-02,\n",
       "        3.61801110e-01, -3.86980810e-02,  4.55952942e-01,  7.98296277e-02,\n",
       "        3.24845586e-01,  4.12922184e-01,  3.19602284e-01, -3.36507071e-01,\n",
       "        1.32976905e-01, -9.74872758e-02, -4.33208582e-01, -7.18892825e-02,\n",
       "       -2.37237467e-01,  3.53116774e-01, -4.62616908e-01,  4.63061187e-01,\n",
       "       -1.40552686e-01, -1.39214644e-01, -4.79593032e-01, -3.10689209e-01,\n",
       "       -9.46620336e-02,  4.33369883e-01, -3.96306604e-01,  4.49379999e-01,\n",
       "        3.73566996e-01, -4.17591375e-02, -1.69220653e-01, -2.63177405e-01,\n",
       "        1.18543172e-01, -4.62846943e-01, -4.80315470e-01, -6.71258119e-02,\n",
       "       -4.27847460e-01, -2.43980546e-01, -2.74760619e-01, -2.42730341e-01,\n",
       "       -3.64866303e-01, -4.83885311e-01, -3.80437237e-01,  1.22558725e-01,\n",
       "        4.78334678e-01,  4.94423467e-01, -8.68674390e-02, -3.32967108e-01,\n",
       "        1.42840223e-01, -5.61618782e-03,  4.93488243e-01, -4.30617327e-01,\n",
       "        2.87312904e-01, -2.07523037e-01, -2.54502914e-01,  1.66583037e-01,\n",
       "       -2.49858349e-01,  1.69937583e-01,  2.13869828e-02, -7.18325459e-02,\n",
       "        5.87662743e-02, -2.08870014e-01,  2.10653172e-01, -8.10646650e-02,\n",
       "       -1.35375974e-01,  3.32735380e-01,  4.29045378e-01, -4.49914223e-01,\n",
       "       -2.63294542e-01, -1.47402165e-01,  3.19044945e-01,  4.89569893e-01,\n",
       "        4.73050170e-01,  4.09026811e-01, -1.99365269e-01,  4.96089709e-01,\n",
       "       -2.46501493e-01, -3.90015379e-01,  4.55031077e-01, -2.62501279e-01,\n",
       "        1.93846731e-01, -4.37565175e-01,  2.34787565e-01,  3.85798678e-01,\n",
       "       -2.23484639e-01, -1.16864638e-01, -1.21625351e-01,  2.52866723e-01,\n",
       "       -2.58114292e-01, -3.24068435e-01, -4.66298857e-02, -1.91453127e-01,\n",
       "        3.43267588e-01, -2.58179708e-01,  6.46792312e-03,  4.46662065e-01,\n",
       "        1.38076163e-01,  3.71367871e-01,  4.44288155e-01,  2.54843328e-01,\n",
       "        2.03653526e-01,  4.72044032e-01,  4.98479255e-01, -4.40998517e-02,\n",
       "       -4.25051756e-01, -2.03127503e-01, -3.43566829e-01, -7.84351596e-02,\n",
       "       -3.64632206e-01,  1.08196270e-01, -1.13113475e-01,  3.99464350e-01,\n",
       "        4.71873137e-01,  5.09633673e-02, -2.21097965e-01,  9.63088844e-02,\n",
       "        4.00839624e-01, -8.91881885e-02,  5.61567423e-02, -2.24268767e-01,\n",
       "       -4.04773849e-02, -9.42079990e-02, -2.47508069e-01,  9.94484945e-03,\n",
       "       -1.85540708e-01, -1.22886670e-01,  2.90489079e-02,  2.54673489e-01,\n",
       "       -1.62414069e-01,  4.28237232e-01,  3.66397012e-01, -4.47231238e-01,\n",
       "       -2.42279010e-01, -4.97860217e-02, -3.91293646e-01, -1.47445545e-01,\n",
       "        2.44175991e-01,  1.84592947e-01,  1.26462894e-01,  2.14606868e-01,\n",
       "       -2.90997847e-01, -1.54223420e-01,  1.80320948e-01,  3.83313229e-01,\n",
       "        4.77565195e-02, -2.13221883e-01, -4.65686276e-01,  2.14415295e-01,\n",
       "       -4.88037431e-01, -1.23242465e-01,  3.46156802e-02,  4.26189927e-01,\n",
       "       -4.06426989e-01, -8.99792124e-02, -4.71608335e-01, -1.53310550e-01,\n",
       "        1.26309524e-01, -2.16853586e-01, -2.86171585e-01, -3.80218301e-01,\n",
       "        8.12187096e-02,  1.99348472e-01,  1.76035606e-01,  4.52939486e-01,\n",
       "       -4.93218320e-01,  1.51275120e-01,  1.04470703e-01,  9.28180756e-02,\n",
       "        4.66848785e-01, -4.79049861e-01,  2.00560896e-01,  3.17757115e-01,\n",
       "        1.38856622e-02, -1.61956665e-01,  2.94918629e-01, -3.98678609e-01,\n",
       "       -5.38858966e-02,  2.40308402e-02,  1.98034877e-01, -4.05035802e-01,\n",
       "       -2.68162033e-01, -8.56199717e-02,  1.27373139e-01,  3.91039247e-01,\n",
       "        1.22904634e-01, -3.62460063e-01,  4.84658598e-01,  3.75864200e-01,\n",
       "        6.79922677e-03,  4.26426447e-01,  4.54592594e-02,  4.27384534e-01,\n",
       "        3.33975834e-01,  4.72364876e-01,  4.23861276e-01, -4.59887717e-01,\n",
       "       -3.21149530e-01, -1.06786857e-01,  4.56221163e-01, -1.95892615e-01,\n",
       "       -3.35453890e-01,  3.90383132e-01, -4.95271189e-02,  4.11954060e-01,\n",
       "       -3.35691068e-01,  1.65195977e-01, -5.56577815e-02, -4.19434765e-01,\n",
       "        2.00541610e-01, -2.48522779e-01, -4.56306012e-01, -4.35977236e-01,\n",
       "       -4.34842997e-01,  4.11811423e-01,  2.43962383e-01,  4.02140823e-01,\n",
       "        1.76660777e-01,  3.30183947e-02, -1.91475170e-01,  5.02040717e-01,\n",
       "       -1.33732475e-01, -2.52725852e-02, -1.17676359e-01,  4.83605395e-01,\n",
       "       -3.21263149e-01, -1.67933533e-01,  1.84427132e-01, -4.32713916e-01,\n",
       "        1.11327840e-01, -1.82750315e-02, -2.11921558e-01, -2.57508253e-01,\n",
       "        1.85912089e-02, -1.27993954e-01, -3.94016431e-02, -1.58444153e-01,\n",
       "        4.74572159e-01, -3.62482103e-01, -3.99117581e-01, -1.52529806e-01,\n",
       "        9.51053665e-02,  1.63254937e-01, -9.86647872e-02,  5.03356460e-01,\n",
       "       -1.44028538e-01,  2.25485134e-01,  1.41661160e-01,  3.17132329e-01,\n",
       "        4.80304129e-01,  3.93872122e-01,  2.68640440e-01,  2.02326943e-01,\n",
       "       -1.60423365e-01, -3.48235956e-01, -4.33285531e-01, -2.54019830e-01,\n",
       "       -6.36400532e-02,  2.60747393e-02,  2.77162020e-01,  4.62819389e-01,\n",
       "       -3.78601054e-01, -3.88917394e-01,  9.37731886e-02,  2.49476540e-01,\n",
       "        3.52228846e-01,  4.39910546e-01,  4.87504708e-01, -9.61198421e-02,\n",
       "       -1.15586351e-01, -3.48112858e-01,  1.89012904e-01,  1.60840424e-01,\n",
       "        3.66141061e-01, -3.98663540e-01,  1.85537345e-03,  8.51603953e-02,\n",
       "       -2.54364494e-01, -3.26896128e-01,  3.63659302e-01, -4.37386612e-01,\n",
       "       -2.53006305e-02, -3.80087533e-01, -3.88627730e-02,  4.84040792e-01,\n",
       "       -7.22151809e-02,  3.61203383e-01, -3.78605970e-01, -2.24669458e-01,\n",
       "       -9.21287937e-02, -9.61093944e-02,  1.75461944e-01, -1.51203407e-01,\n",
       "        2.17845334e-01,  1.43265365e-01, -9.67603891e-02, -6.41614067e-02,\n",
       "        1.18606165e-01, -4.25879344e-01,  3.26485204e-01,  1.57499627e-01,\n",
       "        2.30420930e-01,  4.10014667e-02, -3.85444423e-01, -9.08859211e-02,\n",
       "       -9.05479515e-02, -1.74878544e-01, -4.65971209e-01,  2.41332708e-01,\n",
       "       -3.86137076e-01,  1.10386599e-01,  2.07295962e-01,  1.38864789e-01,\n",
       "        4.63220718e-01, -3.92623379e-01,  3.71245625e-01, -4.66731300e-01,\n",
       "        3.89953206e-02, -9.16779164e-02,  2.82623260e-02, -1.30821657e-01,\n",
       "       -3.05354619e-01, -4.76798637e-01,  2.22282794e-02,  3.46855328e-01,\n",
       "       -1.22705579e-01, -2.73057716e-01, -4.15389531e-01, -4.10610611e-01,\n",
       "       -2.74525088e-01, -3.95907473e-01, -2.30881836e-01, -4.29772072e-01,\n",
       "       -4.30316667e-01,  3.60354645e-01, -3.33801274e-01,  6.37608715e-02,\n",
       "        2.77534010e-01, -3.95119690e-02, -3.42552657e-01, -2.96325392e-01,\n",
       "       -6.29373281e-02,  3.23125548e-02, -1.46481242e-01,  2.85558066e-01,\n",
       "        2.55100114e-01,  4.31290273e-01, -4.66968985e-01,  3.99769757e-01,\n",
       "       -1.03352746e-01,  3.82450961e-01,  1.94863242e-01,  4.91427223e-01,\n",
       "        2.63360917e-01, -1.31376908e-01,  5.14163846e-03, -1.19532379e-01,\n",
       "       -1.31009698e-01, -2.35017035e-01,  4.87610017e-05,  1.85818411e-01,\n",
       "       -2.18581263e-01,  2.84582767e-02, -3.78541240e-01, -3.36076248e-01,\n",
       "       -4.49115180e-01,  4.74809908e-01, -4.92061183e-01, -3.17341566e-01,\n",
       "        1.16945219e-01, -4.14551936e-01,  3.85974969e-01,  2.23698623e-01,\n",
       "        4.70468437e-01,  1.17140129e-02, -1.95517851e-01,  5.35790384e-02,\n",
       "        4.34897183e-01,  2.48399029e-02, -2.28714503e-01,  3.81477255e-01,\n",
       "       -1.24002786e-01, -4.94538184e-01, -2.48236512e-01, -1.77688025e-01,\n",
       "        3.62855934e-01, -3.74183673e-02, -5.13342466e-02, -1.59819268e-01,\n",
       "        3.84756589e-01,  4.49105243e-01,  4.95968795e-01, -1.19180267e-01,\n",
       "        4.70225911e-01,  2.95958035e-01,  1.79767613e-01, -2.51032055e-01,\n",
       "       -2.79464273e-01, -3.29873710e-01,  4.26835076e-01, -2.01844872e-01,\n",
       "       -4.28272889e-02, -1.96370038e-03,  2.82250061e-01,  3.48313427e-01,\n",
       "       -3.56848833e-01, -6.90171742e-02,  3.46933353e-01,  3.22111771e-01,\n",
       "       -3.93507776e-01, -3.39538186e-01, -1.91722843e-01, -4.20562465e-01,\n",
       "       -7.12585315e-02, -3.88303829e-01,  7.22960593e-02, -2.49364595e-01,\n",
       "        1.00511531e-01, -3.78395891e-01,  4.79962334e-01,  4.36639669e-01,\n",
       "       -1.04124596e-01, -2.53742940e-01, -2.45523322e-01, -1.25279992e-02,\n",
       "       -4.55928732e-01,  1.43783572e-01, -8.76186260e-02, -1.18514962e-01,\n",
       "        3.13443437e-01,  2.13113926e-01,  4.58412281e-01, -1.43985294e-01,\n",
       "        4.01621230e-01,  2.74045652e-01, -1.38496883e-01,  1.25743902e-01,\n",
       "       -2.07351577e-01,  3.78478383e-01, -3.83494217e-01, -2.83487173e-01,\n",
       "       -3.12888242e-01, -9.28955320e-02,  2.49311426e-01,  3.09859147e-02,\n",
       "       -8.24521083e-03, -4.95375569e-01, -7.05198090e-02, -4.32367760e-01,\n",
       "       -2.87668282e-01,  4.36472405e-01, -2.80523330e-01,  3.62416104e-01,\n",
       "        3.06971837e-01, -3.36775297e-01,  1.09790423e-01, -3.80259662e-01,\n",
       "        2.31966624e-01,  1.41540743e-01,  3.16017027e-01, -1.65369850e-02,\n",
       "        4.18941553e-01, -4.46572588e-01, -2.03032969e-01,  2.19131063e-01,\n",
       "       -7.78123226e-02, -3.22970180e-01, -3.88710789e-01,  3.21417577e-01,\n",
       "       -2.27785559e-02,  3.86362138e-01,  2.37367600e-01, -8.61953287e-02,\n",
       "       -1.22410520e-01,  1.97168123e-02,  3.93138419e-01,  2.41357045e-01,\n",
       "       -4.90768570e-01,  1.98236317e-01,  4.23585873e-01,  2.14534225e-01,\n",
       "       -3.18915753e-01, -1.24034069e-02, -3.55605516e-01, -1.36926256e-01,\n",
       "        4.41195508e-01,  4.27383773e-01, -2.13084682e-01, -1.56290490e-01,\n",
       "        1.04291334e-01,  4.67275761e-01, -3.48120200e-01, -2.39004891e-01,\n",
       "        3.77635293e-01, -4.02930266e-03,  4.03039558e-01, -3.10403637e-01,\n",
       "        3.67470531e-02, -1.69651902e-01, -1.79378974e-01, -4.90445704e-02,\n",
       "       -6.28440853e-02, -1.38574655e-01,  4.19049236e-01,  2.35822651e-01,\n",
       "        2.31625457e-01, -2.06008085e-01,  8.17878899e-02,  2.83257899e-01,\n",
       "        2.99668834e-01, -1.51391074e-01,  2.74951222e-01,  2.39972362e-01,\n",
       "       -3.54415049e-01,  3.70023934e-01, -5.46000642e-02, -9.51108548e-03,\n",
       "       -4.75523555e-02,  7.19244671e-02,  1.25247713e-01,  2.25803139e-03,\n",
       "        3.70867009e-01,  1.31813222e-01, -9.44935851e-02, -7.92297775e-02,\n",
       "        3.14917081e-01, -1.47729592e-01, -2.84466739e-01, -4.36538346e-01,\n",
       "        3.80105314e-01,  4.22624917e-01, -3.75801352e-01, -1.61447793e-01,\n",
       "       -3.20549465e-01, -3.80023066e-01,  4.03945209e-01, -4.39044275e-01,\n",
       "        4.84564129e-01, -3.99470674e-01,  3.67549115e-01,  7.05845726e-02,\n",
       "       -1.28004047e-01, -1.53579158e-01,  2.61442609e-01, -1.81348239e-01,\n",
       "        1.61397382e-01,  2.14045491e-02, -1.09558892e-02,  4.05240636e-01,\n",
       "        5.87235242e-02,  3.30940069e-01,  2.29652000e-01, -4.57364288e-01,\n",
       "        2.77188518e-01, -2.79051284e-01,  4.07228112e-01, -4.52997344e-01,\n",
       "       -1.62849500e-01, -3.96188587e-01, -2.03324173e-02,  3.24100901e-01,\n",
       "       -1.97734175e-01, -3.44986637e-01, -1.65654499e-01,  3.17958608e-01,\n",
       "       -3.55537577e-01, -2.68559085e-01, -4.27069570e-01,  2.09788510e-01,\n",
       "       -1.00688291e-01, -1.85081557e-01,  2.22704856e-01, -1.59943992e-01,\n",
       "        2.31849739e-01,  3.19277861e-01, -2.78258691e-01,  4.77897162e-01,\n",
       "       -3.33563586e-01, -2.05080628e-01, -3.16126244e-01, -1.50415878e-01,\n",
       "       -1.58606466e-02,  2.62543346e-02,  3.57684508e-01,  3.93526374e-01,\n",
       "       -2.75817674e-01,  1.26972498e-01, -3.84425477e-01, -3.69516742e-02,\n",
       "       -1.73587996e-01, -1.79420789e-01, -1.33372927e-02,  2.33906101e-01,\n",
       "       -4.26738876e-01,  3.83251803e-01,  2.38892240e-01, -3.19422145e-01,\n",
       "        4.43239375e-01,  1.03906897e-02,  5.03887044e-01, -2.98662060e-01,\n",
       "        3.89866640e-02, -2.05673492e-01, -1.91747977e-01,  9.51438465e-02,\n",
       "        4.25797532e-01,  3.09342321e-01,  2.28019864e-01,  6.32522477e-02,\n",
       "        4.26376969e-01, -3.56012768e-03,  3.77910644e-01,  3.38060110e-01,\n",
       "       -2.82086188e-01,  2.75303929e-01, -4.83750377e-01, -1.73091997e-01,\n",
       "       -2.66354090e-01,  1.09414241e-02,  2.40931627e-01, -3.98245167e-01,\n",
       "        1.90006676e-02,  4.42490487e-01, -2.67274983e-01,  1.81219610e-01])"
      ]
     },
     "execution_count": 77,
     "metadata": {},
     "output_type": "execute_result"
    }
   ],
   "source": [
    "#TESTING-- try using Richardson and AGD to solve the linear system Lx = v\n",
    "np.random.seed(0)\n",
    "v = np.random.rand(n)\n",
    "v -= np.sum(v)/n\n",
    "v"
   ]
  },
  {
   "cell_type": "code",
   "execution_count": 78,
   "metadata": {
    "id": "WPs811ITwSKJ"
   },
   "outputs": [],
   "source": [
    "_,_ = richardson(L,v,T=500)"
   ]
  },
  {
   "cell_type": "code",
   "execution_count": 79,
   "metadata": {
    "id": "RrcQYFzCwSKJ"
   },
   "outputs": [],
   "source": [
    "_,_,_ = agd(L,v,T=500)"
   ]
  },
  {
   "cell_type": "code",
   "execution_count": 214,
   "metadata": {
    "id": "OVun9qRewSKJ"
   },
   "outputs": [
    {
     "data": {
      "text/plain": [
       "(1000,)"
      ]
     },
     "execution_count": 214,
     "metadata": {},
     "output_type": "execute_result"
    }
   ],
   "source": [
    "v.shape"
   ]
  },
  {
   "cell_type": "markdown",
   "metadata": {
    "id": "iV_ETCGNwSKK"
   },
   "source": [
    "If you did this correctly, you will see that the Nesterov acceleration method converges dramatically faster than Richardson iteration. \n",
    "\n",
    "We will now try to quantify this effect. Modify your implementations of `richardson` and `agd` to additionally return an array containing $\\norm{L x_i - b}$ for each $x_i$ encountered during the while loop of the algorithm. Compare these on a semilogy plot, and label your curves appropriately. Save the figure as `qsn6b.png`. "
   ]
  },
  {
   "cell_type": "code",
   "execution_count": 81,
   "metadata": {
    "id": "SrjCzpUfwSKK"
   },
   "outputs": [],
   "source": [
    "#YOUR CODE HERE\n",
    "_,richardson_res=richardson(L,v,T=500)\n",
    "_,_,agd_res=agd(L,v,T=500)"
   ]
  },
  {
   "cell_type": "code",
   "execution_count": 215,
   "metadata": {
    "colab": {
     "base_uri": "https://localhost:8080/",
     "height": 283
    },
    "id": "0VAhJWixwSKK",
    "outputId": "7d4e2fcd-b558-4d26-b049-f2d0229d5eb1"
   },
   "outputs": [
    {
     "data": {
      "image/png": "[encoded data removed]",
      "text/plain": [
       "<Figure size 432x288 with 1 Axes>"
      ]
     },
     "metadata": {
      "needs_background": "light"
     },
     "output_type": "display_data"
    }
   ],
   "source": [
    "plt.semilogy(richardson_res)\n",
    "plt.semilogy(agd_res)\n",
    "plt.legend([\"Richardson\",\"AGD\"])\n",
    "plt.xlabel(\"#Steps\")\n",
    "plt.ylabel(\"Convergence\")\n",
    "plt.savefig(\"HW1/qsn6b.png\")"
   ]
  },
  {
   "cell_type": "markdown",
   "metadata": {
    "id": "fVf_O6v2wSKK"
   },
   "source": [
    "### part (c)\n",
    "\n",
    "\n",
    "We are finally ready to apply our linear system solver to spectral clustering. We do this via a modification of the power method from Lecture 4. We provide the pseudocode for this method below:\n",
    "\n",
    "```\n",
    "    input) L: an n x n Laplacian matrix, iters: number of iterations\n",
    "    outputs) l: the second-smallest eigenvalue of L\n",
    "             v: the corresponding eigenvector\n",
    "\n",
    "    v <- random vector of length n\n",
    "    v <-  v - sum(v)/n \n",
    "    #this ensures v is orthogonal to the all-ones vector (the smallest eigenvalue of L) \n",
    "    for i = 0,1,2...iters-1: \n",
    "        v <- x solving the equation L*x = v\n",
    "        v <-  v - sum(v)/n \n",
    "        #this ensures v is orthogonal to the all-ones vector (the smallest eigenvalue of L) \n",
    "        v <- v / ||v||_2\n",
    "        l <- v^T L v\n",
    "```\n",
    "\n",
    "Here, `||v||_2` denotes the vector $2$-norm (there is a function in numpy to compute this). Write a function `pow_method(L,iters=20)` which implements the above pseudocode and solves the linear systems using your `agd` implementation from part (b). "
   ]
  },
  {
   "cell_type": "code",
   "execution_count": 83,
   "metadata": {
    "id": "qgNfYAxswSKK"
   },
   "outputs": [],
   "source": [
    "def pow_method(L,iters=20):\n",
    "    #v <- random vector of length n\n",
    "    v=np.random.rand(L.shape[0])\n",
    "    #v <-  v - sum(v)/n\n",
    "    v=v-np.sum(v)/L.shape[0]\n",
    "    #this ensures v is orthogonal to the all-ones vector (the smallest eigenvalue of L) \n",
    "    #for i = 0,1,2...iters-1:\n",
    "    for i in range(iters):\n",
    "        #v <- x solving the equation L*x = v\n",
    "        v = np.linalg.solve(L, v)\n",
    "        #v <-  v - sum(v)/n \n",
    "        v=v-np.sum(v)/L.shape[0]\n",
    "        #this ensures v is orthogonal to the all-ones vector (the smallest eigenvalue of L) \n",
    "        #    v <- v / ||v||_2\n",
    "        v=v/np.linalg.norm(v)\n",
    "        #    l <- v^T L v\n",
    "        l=np.dot((np.dot(v.T,L)),v)\n",
    "    return l,v\n",
    "l, v = pow_method(L)"
   ]
  },
  {
   "cell_type": "code",
   "execution_count": 216,
   "metadata": {},
   "outputs": [
    {
     "data": {
      "text/plain": [
       "0.11372337484520767"
      ]
     },
     "execution_count": 216,
     "metadata": {},
     "output_type": "execute_result"
    }
   ],
   "source": [
    "l\n"
   ]
  },
  {
   "cell_type": "markdown",
   "metadata": {
    "id": "gMotwt72wSKL"
   },
   "source": [
    "For the matrix $L$ in the problem, the eigenvalue you obtain should be between $0.1$ and $0.2$. \n",
    "\n",
    "We are finally ready to implement spectral clustering. To do this, use the function `np.argsort` to identify the indices of the largest $500$ entries from $v$. These will (hopefully) correspond to the elements of one of the clusters in our dataset. Additionally, compute the indices of the smallest $500$ entries of $v$: these will give the datapoints belonging to the other cluster. \n",
    "\n",
    "Modify the plotting code from the K-means example from earlier to display the computed spectral clusters of our input data. Label your plot appropriately, and save the figure as `qsn6c.png`."
   ]
  },
  {
   "cell_type": "code",
   "execution_count": 89,
   "metadata": {
    "colab": {
     "base_uri": "https://localhost:8080/",
     "height": 283
    },
    "id": "Oa5QFKVIwSKL",
    "outputId": "844a3435-1eb0-4817-c2e2-d4b26a66a5c0"
   },
   "outputs": [
    {
     "data": {
      "image/png": "[encoded data removed]",
      "text/plain": [
       "<Figure size 432x288 with 1 Axes>"
      ]
     },
     "metadata": {
      "needs_background": "light"
     },
     "output_type": "display_data"
    }
   ],
   "source": [
    "l500i = np.argsort(-v)[:500]\n",
    "s500i = np.argsort(v)[:500]\n",
    "\n",
    "plt.scatter(X[l500i, 0], X[l500i, 1],label=\"K-Means Cluster 1\")\n",
    "plt.scatter(X[s500i, 0], X[s500i, 1],label=\"K-Means Cluster 2\")\n",
    "    \n",
    "\n",
    "\n",
    "plt.legend()\n",
    "plt.savefig(\"HW1/qsn6c.png\")"
   ]
  },
  {
   "cell_type": "markdown",
   "metadata": {
    "id": "bIYeXDf9wSKL"
   },
   "source": [
    "# Submission Instructions\n",
    "\n",
    "You need to submit the following in canvas\n",
    "1. This notebook with the code filled in for each question\n",
    "2. The figures\n",
    "    1. qsn3.png\n",
    "    2. qsn4c.png and qsn4c_semilogy.png\n",
    "    3. qsn5.png\n",
    "    4. qsn6b.png\n",
    "    5. qsn6c.png"
   ]
  },
  {
   "cell_type": "code",
   "execution_count": null,
   "metadata": {
    "id": "zhQ3osTbwSKL"
   },
   "outputs": [],
   "source": []
  }
 ],
 "metadata": {
  "colab": {
   "name": "CME193-Assignment1.ipynb",
   "provenance": []
  },
  "kernelspec": {
   "display_name": "Python 3",
   "language": "python",
   "name": "python3"
  },
  "language_info": {
   "codemirror_mode": {
    "name": "ipython",
    "version": 3
   },
   "file_extension": ".py",
   "mimetype": "text/x-python",
   "name": "python",
   "nbconvert_exporter": "python",
   "pygments_lexer": "ipython3",
   "version": "3.8.8"
  },
  "widgets": {
   "application/vnd.jupyter.widget-state+json": {
    "062b9b6e49e9438ba2ddfe839de7e5de": {
     "model_module": "@jupyter-widgets/controls",
     "model_module_version": "1.5.0",
     "model_name": "ProgressStyleModel",
     "state": {
      "_model_module": "@jupyter-widgets/controls",
      "_model_module_version": "1.5.0",
      "_model_name": "ProgressStyleModel",
      "_view_count": null,
      "_view_module": "@jupyter-widgets/base",
      "_view_module_version": "1.2.0",
      "_view_name": "StyleView",
      "bar_color": null,
      "description_width": ""
     }
    },
    "1750cdf340c644ceaec4659ed70160bc": {
     "model_module": "@jupyter-widgets/base",
     "model_module_version": "1.2.0",
     "model_name": "LayoutModel",
     "state": {
      "_model_module": "@jupyter-widgets/base",
      "_model_module_version": "1.2.0",
      "_model_name": "LayoutModel",
      "_view_count": null,
      "_view_module": "@jupyter-widgets/base",
      "_view_module_version": "1.2.0",
      "_view_name": "LayoutView",
      "align_content": null,
      "align_items": null,
      "align_self": null,
      "border": null,
      "bottom": null,
      "display": null,
      "flex": null,
      "flex_flow": null,
      "grid_area": null,
      "grid_auto_columns": null,
      "grid_auto_flow": null,
      "grid_auto_rows": null,
      "grid_column": null,
      "grid_gap": null,
      "grid_row": null,
      "grid_template_areas": null,
      "grid_template_columns": null,
      "grid_template_rows": null,
      "height": null,
      "justify_content": null,
      "justify_items": null,
      "left": null,
      "margin": null,
      "max_height": null,
      "max_width": null,
      "min_height": null,
      "min_width": null,
      "object_fit": null,
      "object_position": null,
      "order": null,
      "overflow": null,
      "overflow_x": null,
      "overflow_y": null,
      "padding": null,
      "right": null,
      "top": null,
      "visibility": null,
      "width": null
     }
    },
    "1b0e27352f764fae8e383a3dc3e74e5c": {
     "model_module": "@jupyter-widgets/controls",
     "model_module_version": "1.5.0",
     "model_name": "ProgressStyleModel",
     "state": {
      "_model_module": "@jupyter-widgets/controls",
      "_model_module_version": "1.5.0",
      "_model_name": "ProgressStyleModel",
      "_view_count": null,
      "_view_module": "@jupyter-widgets/base",
      "_view_module_version": "1.2.0",
      "_view_name": "StyleView",
      "bar_color": null,
      "description_width": ""
     }
    },
    "2bfe2c70ea2f400aac8217962f07d13f": {
     "model_module": "@jupyter-widgets/controls",
     "model_module_version": "1.5.0",
     "model_name": "FloatProgressModel",
     "state": {
      "_dom_classes": [],
      "_model_module": "@jupyter-widgets/controls",
      "_model_module_version": "1.5.0",
      "_model_name": "FloatProgressModel",
      "_view_count": null,
      "_view_module": "@jupyter-widgets/controls",
      "_view_module_version": "1.5.0",
      "_view_name": "ProgressView",
      "bar_style": "success",
      "description": "",
      "description_tooltip": null,
      "layout": "IPY_MODEL_1750cdf340c644ceaec4659ed70160bc",
      "max": 2000,
      "min": 0,
      "orientation": "horizontal",
      "style": "IPY_MODEL_1b0e27352f764fae8e383a3dc3e74e5c",
      "value": 2000
     }
    },
    "2d1902ff6b014f74b72e140605f647c9": {
     "model_module": "@jupyter-widgets/controls",
     "model_module_version": "1.5.0",
     "model_name": "DescriptionStyleModel",
     "state": {
      "_model_module": "@jupyter-widgets/controls",
      "_model_module_version": "1.5.0",
      "_model_name": "DescriptionStyleModel",
      "_view_count": null,
      "_view_module": "@jupyter-widgets/base",
      "_view_module_version": "1.2.0",
      "_view_name": "StyleView",
      "description_width": ""
     }
    },
    "340264c9ffdb488ba1e7aeea55c207a1": {
     "model_module": "@jupyter-widgets/base",
     "model_module_version": "1.2.0",
     "model_name": "LayoutModel",
     "state": {
      "_model_module": "@jupyter-widgets/base",
      "_model_module_version": "1.2.0",
      "_model_name": "LayoutModel",
      "_view_count": null,
      "_view_module": "@jupyter-widgets/base",
      "_view_module_version": "1.2.0",
      "_view_name": "LayoutView",
      "align_content": null,
      "align_items": null,
      "align_self": null,
      "border": null,
      "bottom": null,
      "display": null,
      "flex": null,
      "flex_flow": null,
      "grid_area": null,
      "grid_auto_columns": null,
      "grid_auto_flow": null,
      "grid_auto_rows": null,
      "grid_column": null,
      "grid_gap": null,
      "grid_row": null,
      "grid_template_areas": null,
      "grid_template_columns": null,
      "grid_template_rows": null,
      "height": null,
      "justify_content": null,
      "justify_items": null,
      "left": null,
      "margin": null,
      "max_height": null,
      "max_width": null,
      "min_height": null,
      "min_width": null,
      "object_fit": null,
      "object_position": null,
      "order": null,
      "overflow": null,
      "overflow_x": null,
      "overflow_y": null,
      "padding": null,
      "right": null,
      "top": null,
      "visibility": null,
      "width": null
     }
    },
    "5bfa3500c1cc4664b1ae538a5cc94ce4": {
     "model_module": "@jupyter-widgets/controls",
     "model_module_version": "1.5.0",
     "model_name": "HTMLModel",
     "state": {
      "_dom_classes": [],
      "_model_module": "@jupyter-widgets/controls",
      "_model_module_version": "1.5.0",
      "_model_name": "HTMLModel",
      "_view_count": null,
      "_view_module": "@jupyter-widgets/controls",
      "_view_module_version": "1.5.0",
      "_view_name": "HTMLView",
      "description": "",
      "description_tooltip": null,
      "layout": "IPY_MODEL_b829337b75ff4f8193f0bd8b6b4eabb5",
      "placeholder": "​",
      "style": "IPY_MODEL_2d1902ff6b014f74b72e140605f647c9",
      "value": " 1000/1000 [00:08&lt;00:00, 113.76it/s]"
     }
    },
    "6ac8bf48908d45568a5bacf78e6b3826": {
     "model_module": "@jupyter-widgets/controls",
     "model_module_version": "1.5.0",
     "model_name": "DescriptionStyleModel",
     "state": {
      "_model_module": "@jupyter-widgets/controls",
      "_model_module_version": "1.5.0",
      "_model_name": "DescriptionStyleModel",
      "_view_count": null,
      "_view_module": "@jupyter-widgets/base",
      "_view_module_version": "1.2.0",
      "_view_name": "StyleView",
      "description_width": ""
     }
    },
    "71b2a6d636fa484bafb6def43c1d2db8": {
     "model_module": "@jupyter-widgets/base",
     "model_module_version": "1.2.0",
     "model_name": "LayoutModel",
     "state": {
      "_model_module": "@jupyter-widgets/base",
      "_model_module_version": "1.2.0",
      "_model_name": "LayoutModel",
      "_view_count": null,
      "_view_module": "@jupyter-widgets/base",
      "_view_module_version": "1.2.0",
      "_view_name": "LayoutView",
      "align_content": null,
      "align_items": null,
      "align_self": null,
      "border": null,
      "bottom": null,
      "display": null,
      "flex": null,
      "flex_flow": null,
      "grid_area": null,
      "grid_auto_columns": null,
      "grid_auto_flow": null,
      "grid_auto_rows": null,
      "grid_column": null,
      "grid_gap": null,
      "grid_row": null,
      "grid_template_areas": null,
      "grid_template_columns": null,
      "grid_template_rows": null,
      "height": null,
      "justify_content": null,
      "justify_items": null,
      "left": null,
      "margin": null,
      "max_height": null,
      "max_width": null,
      "min_height": null,
      "min_width": null,
      "object_fit": null,
      "object_position": null,
      "order": null,
      "overflow": null,
      "overflow_x": null,
      "overflow_y": null,
      "padding": null,
      "right": null,
      "top": null,
      "visibility": null,
      "width": null
     }
    },
    "73583665240f430b8d753fe8ba02c3fb": {
     "model_module": "@jupyter-widgets/base",
     "model_module_version": "1.2.0",
     "model_name": "LayoutModel",
     "state": {
      "_model_module": "@jupyter-widgets/base",
      "_model_module_version": "1.2.0",
      "_model_name": "LayoutModel",
      "_view_count": null,
      "_view_module": "@jupyter-widgets/base",
      "_view_module_version": "1.2.0",
      "_view_name": "LayoutView",
      "align_content": null,
      "align_items": null,
      "align_self": null,
      "border": null,
      "bottom": null,
      "display": null,
      "flex": null,
      "flex_flow": null,
      "grid_area": null,
      "grid_auto_columns": null,
      "grid_auto_flow": null,
      "grid_auto_rows": null,
      "grid_column": null,
      "grid_gap": null,
      "grid_row": null,
      "grid_template_areas": null,
      "grid_template_columns": null,
      "grid_template_rows": null,
      "height": null,
      "justify_content": null,
      "justify_items": null,
      "left": null,
      "margin": null,
      "max_height": null,
      "max_width": null,
      "min_height": null,
      "min_width": null,
      "object_fit": null,
      "object_position": null,
      "order": null,
      "overflow": null,
      "overflow_x": null,
      "overflow_y": null,
      "padding": null,
      "right": null,
      "top": null,
      "visibility": null,
      "width": null
     }
    },
    "812b7f7f03484aad8223daca0c2c5577": {
     "model_module": "@jupyter-widgets/controls",
     "model_module_version": "1.5.0",
     "model_name": "HTMLModel",
     "state": {
      "_dom_classes": [],
      "_model_module": "@jupyter-widgets/controls",
      "_model_module_version": "1.5.0",
      "_model_name": "HTMLModel",
      "_view_count": null,
      "_view_module": "@jupyter-widgets/controls",
      "_view_module_version": "1.5.0",
      "_view_name": "HTMLView",
      "description": "",
      "description_tooltip": null,
      "layout": "IPY_MODEL_340264c9ffdb488ba1e7aeea55c207a1",
      "placeholder": "​",
      "style": "IPY_MODEL_6ac8bf48908d45568a5bacf78e6b3826",
      "value": " 2000/2000 [00:01&lt;00:00, 726.47it/s]"
     }
    },
    "8b3e72f322fe4de692c08a76e199f2ce": {
     "model_module": "@jupyter-widgets/controls",
     "model_module_version": "1.5.0",
     "model_name": "DescriptionStyleModel",
     "state": {
      "_model_module": "@jupyter-widgets/controls",
      "_model_module_version": "1.5.0",
      "_model_name": "DescriptionStyleModel",
      "_view_count": null,
      "_view_module": "@jupyter-widgets/base",
      "_view_module_version": "1.2.0",
      "_view_name": "StyleView",
      "description_width": ""
     }
    },
    "963e85ff5a4d46eb850e5461ec149cfc": {
     "model_module": "@jupyter-widgets/base",
     "model_module_version": "1.2.0",
     "model_name": "LayoutModel",
     "state": {
      "_model_module": "@jupyter-widgets/base",
      "_model_module_version": "1.2.0",
      "_model_name": "LayoutModel",
      "_view_count": null,
      "_view_module": "@jupyter-widgets/base",
      "_view_module_version": "1.2.0",
      "_view_name": "LayoutView",
      "align_content": null,
      "align_items": null,
      "align_self": null,
      "border": null,
      "bottom": null,
      "display": null,
      "flex": null,
      "flex_flow": null,
      "grid_area": null,
      "grid_auto_columns": null,
      "grid_auto_flow": null,
      "grid_auto_rows": null,
      "grid_column": null,
      "grid_gap": null,
      "grid_row": null,
      "grid_template_areas": null,
      "grid_template_columns": null,
      "grid_template_rows": null,
      "height": null,
      "justify_content": null,
      "justify_items": null,
      "left": null,
      "margin": null,
      "max_height": null,
      "max_width": null,
      "min_height": null,
      "min_width": null,
      "object_fit": null,
      "object_position": null,
      "order": null,
      "overflow": null,
      "overflow_x": null,
      "overflow_y": null,
      "padding": null,
      "right": null,
      "top": null,
      "visibility": null,
      "width": null
     }
    },
    "9aaf5d0d59ad44f981b5d3913f964e8e": {
     "model_module": "@jupyter-widgets/controls",
     "model_module_version": "1.5.0",
     "model_name": "HTMLModel",
     "state": {
      "_dom_classes": [],
      "_model_module": "@jupyter-widgets/controls",
      "_model_module_version": "1.5.0",
      "_model_name": "HTMLModel",
      "_view_count": null,
      "_view_module": "@jupyter-widgets/controls",
      "_view_module_version": "1.5.0",
      "_view_name": "HTMLView",
      "description": "",
      "description_tooltip": null,
      "layout": "IPY_MODEL_71b2a6d636fa484bafb6def43c1d2db8",
      "placeholder": "​",
      "style": "IPY_MODEL_8b3e72f322fe4de692c08a76e199f2ce",
      "value": "100%"
     }
    },
    "a4078d9893334f4a8bdacee0036b35e1": {
     "model_module": "@jupyter-widgets/controls",
     "model_module_version": "1.5.0",
     "model_name": "FloatProgressModel",
     "state": {
      "_dom_classes": [],
      "_model_module": "@jupyter-widgets/controls",
      "_model_module_version": "1.5.0",
      "_model_name": "FloatProgressModel",
      "_view_count": null,
      "_view_module": "@jupyter-widgets/controls",
      "_view_module_version": "1.5.0",
      "_view_name": "ProgressView",
      "bar_style": "success",
      "description": "",
      "description_tooltip": null,
      "layout": "IPY_MODEL_73583665240f430b8d753fe8ba02c3fb",
      "max": 1000,
      "min": 0,
      "orientation": "horizontal",
      "style": "IPY_MODEL_062b9b6e49e9438ba2ddfe839de7e5de",
      "value": 1000
     }
    },
    "a9beafc9997c403f95b1afab585469da": {
     "model_module": "@jupyter-widgets/base",
     "model_module_version": "1.2.0",
     "model_name": "LayoutModel",
     "state": {
      "_model_module": "@jupyter-widgets/base",
      "_model_module_version": "1.2.0",
      "_model_name": "LayoutModel",
      "_view_count": null,
      "_view_module": "@jupyter-widgets/base",
      "_view_module_version": "1.2.0",
      "_view_name": "LayoutView",
      "align_content": null,
      "align_items": null,
      "align_self": null,
      "border": null,
      "bottom": null,
      "display": null,
      "flex": null,
      "flex_flow": null,
      "grid_area": null,
      "grid_auto_columns": null,
      "grid_auto_flow": null,
      "grid_auto_rows": null,
      "grid_column": null,
      "grid_gap": null,
      "grid_row": null,
      "grid_template_areas": null,
      "grid_template_columns": null,
      "grid_template_rows": null,
      "height": null,
      "justify_content": null,
      "justify_items": null,
      "left": null,
      "margin": null,
      "max_height": null,
      "max_width": null,
      "min_height": null,
      "min_width": null,
      "object_fit": null,
      "object_position": null,
      "order": null,
      "overflow": null,
      "overflow_x": null,
      "overflow_y": null,
      "padding": null,
      "right": null,
      "top": null,
      "visibility": null,
      "width": null
     }
    },
    "ac03befad41a4255ba621c89a24cf01f": {
     "model_module": "@jupyter-widgets/controls",
     "model_module_version": "1.5.0",
     "model_name": "HTMLModel",
     "state": {
      "_dom_classes": [],
      "_model_module": "@jupyter-widgets/controls",
      "_model_module_version": "1.5.0",
      "_model_name": "HTMLModel",
      "_view_count": null,
      "_view_module": "@jupyter-widgets/controls",
      "_view_module_version": "1.5.0",
      "_view_name": "HTMLView",
      "description": "",
      "description_tooltip": null,
      "layout": "IPY_MODEL_963e85ff5a4d46eb850e5461ec149cfc",
      "placeholder": "​",
      "style": "IPY_MODEL_f62901863814468cad81df830d49b764",
      "value": "100%"
     }
    },
    "b829337b75ff4f8193f0bd8b6b4eabb5": {
     "model_module": "@jupyter-widgets/base",
     "model_module_version": "1.2.0",
     "model_name": "LayoutModel",
     "state": {
      "_model_module": "@jupyter-widgets/base",
      "_model_module_version": "1.2.0",
      "_model_name": "LayoutModel",
      "_view_count": null,
      "_view_module": "@jupyter-widgets/base",
      "_view_module_version": "1.2.0",
      "_view_name": "LayoutView",
      "align_content": null,
      "align_items": null,
      "align_self": null,
      "border": null,
      "bottom": null,
      "display": null,
      "flex": null,
      "flex_flow": null,
      "grid_area": null,
      "grid_auto_columns": null,
      "grid_auto_flow": null,
      "grid_auto_rows": null,
      "grid_column": null,
      "grid_gap": null,
      "grid_row": null,
      "grid_template_areas": null,
      "grid_template_columns": null,
      "grid_template_rows": null,
      "height": null,
      "justify_content": null,
      "justify_items": null,
      "left": null,
      "margin": null,
      "max_height": null,
      "max_width": null,
      "min_height": null,
      "min_width": null,
      "object_fit": null,
      "object_position": null,
      "order": null,
      "overflow": null,
      "overflow_x": null,
      "overflow_y": null,
      "padding": null,
      "right": null,
      "top": null,
      "visibility": null,
      "width": null
     }
    },
    "bfde25d53a2f47a4b30cacbd8c68f5c1": {
     "model_module": "@jupyter-widgets/controls",
     "model_module_version": "1.5.0",
     "model_name": "HBoxModel",
     "state": {
      "_dom_classes": [],
      "_model_module": "@jupyter-widgets/controls",
      "_model_module_version": "1.5.0",
      "_model_name": "HBoxModel",
      "_view_count": null,
      "_view_module": "@jupyter-widgets/controls",
      "_view_module_version": "1.5.0",
      "_view_name": "HBoxView",
      "box_style": "",
      "children": [
       "IPY_MODEL_ac03befad41a4255ba621c89a24cf01f",
       "IPY_MODEL_2bfe2c70ea2f400aac8217962f07d13f",
       "IPY_MODEL_812b7f7f03484aad8223daca0c2c5577"
      ],
      "layout": "IPY_MODEL_a9beafc9997c403f95b1afab585469da"
     }
    },
    "c8f98cfc127341a98b9de01ba4b39f46": {
     "model_module": "@jupyter-widgets/controls",
     "model_module_version": "1.5.0",
     "model_name": "HBoxModel",
     "state": {
      "_dom_classes": [],
      "_model_module": "@jupyter-widgets/controls",
      "_model_module_version": "1.5.0",
      "_model_name": "HBoxModel",
      "_view_count": null,
      "_view_module": "@jupyter-widgets/controls",
      "_view_module_version": "1.5.0",
      "_view_name": "HBoxView",
      "box_style": "",
      "children": [
       "IPY_MODEL_9aaf5d0d59ad44f981b5d3913f964e8e",
       "IPY_MODEL_a4078d9893334f4a8bdacee0036b35e1",
       "IPY_MODEL_5bfa3500c1cc4664b1ae538a5cc94ce4"
      ],
      "layout": "IPY_MODEL_d521c8e307a0487b8ee0b8279622e0df"
     }
    },
    "d521c8e307a0487b8ee0b8279622e0df": {
     "model_module": "@jupyter-widgets/base",
     "model_module_version": "1.2.0",
     "model_name": "LayoutModel",
     "state": {
      "_model_module": "@jupyter-widgets/base",
      "_model_module_version": "1.2.0",
      "_model_name": "LayoutModel",
      "_view_count": null,
      "_view_module": "@jupyter-widgets/base",
      "_view_module_version": "1.2.0",
      "_view_name": "LayoutView",
      "align_content": null,
      "align_items": null,
      "align_self": null,
      "border": null,
      "bottom": null,
      "display": null,
      "flex": null,
      "flex_flow": null,
      "grid_area": null,
      "grid_auto_columns": null,
      "grid_auto_flow": null,
      "grid_auto_rows": null,
      "grid_column": null,
      "grid_gap": null,
      "grid_row": null,
      "grid_template_areas": null,
      "grid_template_columns": null,
      "grid_template_rows": null,
      "height": null,
      "justify_content": null,
      "justify_items": null,
      "left": null,
      "margin": null,
      "max_height": null,
      "max_width": null,
      "min_height": null,
      "min_width": null,
      "object_fit": null,
      "object_position": null,
      "order": null,
      "overflow": null,
      "overflow_x": null,
      "overflow_y": null,
      "padding": null,
      "right": null,
      "top": null,
      "visibility": null,
      "width": null
     }
    },
    "f62901863814468cad81df830d49b764": {
     "model_module": "@jupyter-widgets/controls",
     "model_module_version": "1.5.0",
     "model_name": "DescriptionStyleModel",
     "state": {
      "_model_module": "@jupyter-widgets/controls",
      "_model_module_version": "1.5.0",
      "_model_name": "DescriptionStyleModel",
      "_view_count": null,
      "_view_module": "@jupyter-widgets/base",
      "_view_module_version": "1.2.0",
      "_view_name": "StyleView",
      "description_width": ""
     }
    }
   }
  }
 },
 "nbformat": 4,
 "nbformat_minor": 1
}

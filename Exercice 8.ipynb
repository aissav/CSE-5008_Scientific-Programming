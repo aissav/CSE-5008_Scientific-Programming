{
 "cells": [
  {
   "cell_type": "markdown",
   "id": "565a5dc6",
   "metadata": {},
   "source": [
    "## Exercise 8.1: Rational numbers"
   ]
  },
  {
   "cell_type": "code",
   "execution_count": 627,
   "id": "808b902e",
   "metadata": {},
   "outputs": [],
   "source": [
    "class Rational:\n",
    "    p=None\n",
    "    q=None\n",
    "    '''\n",
    "    (a) Create a class Rational which is initialized by two integers, \n",
    "    p and q, the nominator and denominator\n",
    "    '''\n",
    "    def __init__(self, p, q):\n",
    "        #initilaize the elements of the class (objects)\n",
    "        self.p = p\n",
    "        self.q = q\n",
    "        \n",
    "    \n",
    "    '''\n",
    "    (b) Add a method to print the rational number \n",
    "    as p/q (the __str__ or __repr__ method is useful).\n",
    "    '''\n",
    "    def __str__ (self):\n",
    "        gcd=self.SimplifyValues(self.p,self.q)\n",
    "        #check if the values are not initialized or q=0, so we can not divide by 0\n",
    "        if self.p==None or self.q==None or self.q==0:\n",
    "            return 'Error in Entered or Initialized Values'\n",
    "        #else return the results of division   \n",
    "        #simplify the values\n",
    "        \n",
    "        return 'The resutl value of {}/{}))'.format(str(self.p/gcd),str(self.q/gcd))\n",
    "    \n",
    "    '''\n",
    "    (c) We would like to represent \n",
    "    instead, hence write a function that computes the greatest\n",
    "    common divisor, and ensure that every rational number is simplified\n",
    "    '''\n",
    "    def SimplifyValues(self,p,q):\n",
    "        gcd=self.GCD(p,q)    \n",
    "        return gcd\n",
    "\n",
    "    #calculate the GCD\n",
    "    def GCD(self,a,b):\n",
    "        if(b == 0):\n",
    "            return a\n",
    "        else:\n",
    "            return self.GCD(b, a % b)\n",
    "        \n",
    "    '''\n",
    "    (d) Add a method so that we can add two rational numbers with r1 + r2, \n",
    "    here the __add__() method is useful.\n",
    "    '''\n",
    "    def __add__(self, r2):\n",
    "        \n",
    "        #simplify both rational numbers\n",
    "        #calculate their GCDs\n",
    "        p1,q1=self.p,self.q\n",
    "        p2,q2=r2.p,r2.q\n",
    "        #if the nomerators are not equal, then equalize them\n",
    "        if q1 != q2:\n",
    "            q_prime=q1*q2\n",
    "            p_final=(p1*q2)+(p2*q1)\n",
    "        else:\n",
    "            p_final=(p1+p2)\n",
    "            q_prime=q1\n",
    "        #simplify the ratioanl number\n",
    "        gcd3=self.SimplifyValues(p_final,q_prime)\n",
    "        print(self.p,\"/\",self.q , \"+\" ,r2.p,\"/\",r2.q , \" = \" ,(p_final/gcd3),\"/\",(q_prime/gcd3))\n",
    "        \n",
    "        \n",
    "    def __sub__(self, r2):\n",
    "        \n",
    "        #simplify both rational numbers\n",
    "        #calculate their GCDs\n",
    "        p1,q1=self.p,self.q\n",
    "        p2,q2=r2.p,r2.q\n",
    "        #if the nomerators are not equal, then equalize them\n",
    "        if q1 != q2:\n",
    "            q_prime=q1*q2\n",
    "            p_final=(p1*q2)-(p2*q1)\n",
    "        else:\n",
    "            p_final=(p1-p2)\n",
    "            q_prime=q1\n",
    "        #simplify the ratioanl number\n",
    "        gcd3=self.SimplifyValues(p_final,q_prime)\n",
    "        print(self.p,\"/\",self.q , \"-\" ,r2.p,\"/\",r2.q , \" = \" ,(p_final/gcd3),\"/\",(q_prime/gcd3))\n",
    "    \n",
    "    def __mul__(self, r2):\n",
    "        \n",
    "        #simplify both rational numbers\n",
    "        #calculate their GCDs\n",
    "        p1,q1=self.p,self.q\n",
    "        p2,q2=r2.p,r2.q\n",
    "        #if the nomerators are not equal, then equalize them\n",
    "        \n",
    "        p_final=(p1*p2)\n",
    "        q_prime=q1*q2\n",
    "        #simplify the ratioanl number\n",
    "        gcd3=self.SimplifyValues(p_final,q_prime)\n",
    "        print(self.p,\"/\",self.q , \"x\" ,r2.p,\"/\",r2.q , \" = \" ,(p_final/gcd3),\"/\",(q_prime/gcd3))\n",
    "    def __div__(self, r2):\n",
    "        \n",
    "        #simplify both rational numbers\n",
    "        #calculate their GCDs\n",
    "        p1,q1=self.p,self.q\n",
    "        p2,q2=r2.p,r2.q\n",
    "        #if the nomerators are not equal, then equalize them\n",
    "        \n",
    "        p_final=(p1*q2)\n",
    "        q_prime=p2*q1\n",
    "        #simplify the ratioanl number\n",
    "        gcd3=self.SimplifyValues(p_final,q_prime)\n",
    "        print(self.p,\"/\",self.q , \"/\" ,r2.p,\"/\",r2.q , \" = \" ,(p_final/gcd3),\"/\",(q_prime/gcd3))\n",
    "    '''\n",
    "    (h) Add a method that compares whether two rational numbers are equal.\n",
    "    '''\n",
    "    def __equal__(self, r2):\n",
    "        \n",
    "        #simplify both rational numbers\n",
    "        #calculate their GCDs\n",
    "        p1,q1=self.p,self.q\n",
    "        p2,q2=r2.p,r2.q\n",
    "        gcd1=self.SimplifyValues(p1,q1)\n",
    "        gcd2=self.SimplifyValues(p2,q2)\n",
    "        \n",
    "        #if the nomerators are not equal, then equalize them\n",
    "        if p1/gcd1 == p2/gcd2 and q1/gcd1 == q2/gcd2:\n",
    "            return True\n",
    "        \n",
    "        else:\n",
    "            return False\n",
    "    '''\n",
    "    (i) Add a method to convert the rational number to a \n",
    "    floating point (the __float__() method may be handy).\n",
    "    '''\n",
    "    def __float__(self):\n",
    "        return self.p/self.q\n",
    "        \n",
    "        \n",
    "    \n",
    "    "
   ]
  },
  {
   "cell_type": "code",
   "execution_count": 628,
   "id": "a12bf590",
   "metadata": {},
   "outputs": [
    {
     "name": "stdout",
     "output_type": "stream",
     "text": [
      "6 / 12 + 5 / 9  =  19.0 / 18.0\n",
      "6 / 12 - 5 / 9  =  -1.0 / 18.0\n",
      "5 / 9 x 6 / 12  =  5.0 / 18.0\n",
      "6 / 12 / 5 / 9  =  9.0 / 10.0\n",
      "False\n",
      "0.5\n",
      "The resutl value of 1.0/2.0))\n"
     ]
    }
   ],
   "source": [
    "#test\n",
    "RationalObject = Rational(6, 12)\n",
    "RationalObject2 = Rational(5, 9)\n",
    "#simplify the values\n",
    "RationalObject.__add__(RationalObject2)\n",
    "RationalObject.__sub__(RationalObject2)\n",
    "RationalObject2.__mul__(RationalObject)\n",
    "RationalObject.__div__(RationalObject2)\n",
    "print(RationalObject.__equal__(RationalObject2))\n",
    "print(RationalObject.__float__())\n",
    "print(RationalObject.__str__())"
   ]
  },
  {
   "cell_type": "markdown",
   "id": "6c704ada",
   "metadata": {},
   "source": [
    "# Exercise 8.2: Rock Paper Scissors"
   ]
  },
  {
   "cell_type": "code",
   "execution_count": 629,
   "id": "42e691c1",
   "metadata": {},
   "outputs": [],
   "source": [
    "#\"CHECK attached files\""
   ]
  },
  {
   "cell_type": "markdown",
   "id": "3da3bd30",
   "metadata": {},
   "source": [
    "# Exercise 8.3: Hangman agent"
   ]
  },
  {
   "cell_type": "code",
   "execution_count": 7,
   "id": "1d131a12",
   "metadata": {},
   "outputs": [],
   "source": [
    "#\"CHECK attached files\""
   ]
  },
  {
   "cell_type": "markdown",
   "id": "21bae0e4",
   "metadata": {},
   "source": [
    "# Exercise 8.4: Sparse and dense vectors"
   ]
  },
  {
   "cell_type": "code",
   "execution_count": 630,
   "id": "488e0dda",
   "metadata": {},
   "outputs": [],
   "source": [
    "class Sparse:\n",
    "    \n",
    "    def __init__(self, lst):\n",
    "        #initilaize the elements of the class (objects)\n",
    "        self.data = lst\n",
    "    def __print__(self):\n",
    "        print(self.data)\n",
    "        \n",
    "    def toSparse(self,vector):\n",
    "        #convert a dense vector to sparse\n",
    "        return [vector.data.get(i,0) for i in range (max(list(vector.data.keys())))]\n",
    "\n",
    "    def __add__(self,vector):\n",
    "        if type(vector)==Dense:\n",
    "            #convert a dense vector to sparse\n",
    "            vector=[vector.data.get(i,0) for i in range (max(list(vector.data.keys()))+1)]\n",
    "            \n",
    "            \n",
    "        if len(vector)!=len(self.data):\n",
    "            return \"Error, Vectors are not of the same shape.\"\n",
    "        else:\n",
    "            print(vector,\"\\n+\\n\",self.data,\"\\n=\")\n",
    "            \n",
    "            res=[]\n",
    "            #print(len(vector),vector)\n",
    "            #print(len(self.data),self.data)\n",
    "            for i in range (len(vector)):\n",
    "                #print(i)\n",
    "                res.append(vector[i]+self.data[i])\n",
    "            return res\n",
    "        \n",
    "    def __mul__(self,vector):\n",
    "        if type(vector)==Dense:\n",
    "            #convert a dense vector to sparse\n",
    "            vector=[vector.data.get(i,0) for i in range (max(list(vector.data.keys()))+1)]\n",
    "            \n",
    "            \n",
    "        if len(vector)!=len(self.data):\n",
    "            return \"Error, Vectors are not of the same shape.\"\n",
    "        else:\n",
    "            print(vector,\"\\n*\\n\",self.data,\"\\n=\")\n",
    "            \n",
    "            res=0.0\n",
    "            #print(len(vector),vector)\n",
    "            #print(len(self.data),self.data)\n",
    "            for i in range (len(vector)):\n",
    "                #print(i)\n",
    "                res+=(vector[i]*self.data[i])\n",
    "            return res\n",
    "            \n",
    "            \n",
    "        "
   ]
  },
  {
   "cell_type": "code",
   "execution_count": 631,
   "id": "cf039931",
   "metadata": {},
   "outputs": [],
   "source": [
    "class Dense:\n",
    "    \n",
    "\n",
    "    def __init__(self):\n",
    "        self.lst=None\n",
    "        self.data={}\n",
    "        #initilaize the elements of the class (objects)\n",
    "    def toDense(self,lst):\n",
    "        for i in range(len(lst)):\n",
    "            if lst[i]!=0:\n",
    "                self.data[i]=lst[i]\n",
    "    #print the vector\n",
    "    def __print__(self):\n",
    "        print(self.data)\n",
    "        for i in self.data:\n",
    "            print((i),\":\\t\",self.data[i])\n",
    "    def __print__(self,data):\n",
    "\n",
    "        for i in self.data:\n",
    "            print((i),\":\\t\",self.data[i])\n",
    "\n",
    "    #add\n",
    "    def __add__(self,vector):\n",
    "        output={}\n",
    "        if type(vector)==Dense:\n",
    "            for i in set(set(self.data).union(set(vector.data))):\n",
    "                #i used the default value 0 for missing index in the vector\n",
    "                if (self.data.get(i,0)+vector.data.get(i,0))!=0:\n",
    "                    output[i]=self.data.get(i,0)+vector.data.get(i,0)\n",
    "            self.__print__(output)\n",
    "            return (output)\n",
    "        else:\n",
    "            #covert to dense\n",
    "            v=Dense()\n",
    "            v.toDense(vector.data)\n",
    "\n",
    "            return self.__add__(v)\n",
    "    def __mul__(self,vector):\n",
    "        output=0.0\n",
    "        if type(vector)==Dense:\n",
    "            for i in set(set(self.data).union(set(vector.data))):\n",
    "                #i used the default value 0 for missing index in the vector\n",
    "                if (self.data.get(i,0)+vector.data.get(i,0))!=0:\n",
    "                    output+=(self.data.get(i,0)*vector.data.get(i,0))\n",
    "            \n",
    "            return output\n",
    "        else:\n",
    "            #covert to dense\n",
    "            v=Dense()\n",
    "            v.toDense(vector.data)\n",
    "\n",
    "            return self.__mul__(v)\n"
   ]
  },
  {
   "cell_type": "code",
   "execution_count": 618,
   "id": "417a3b8d",
   "metadata": {},
   "outputs": [
    {
     "name": "stdout",
     "output_type": "stream",
     "text": [
      "{0: 1, 1: 2, 2: 4, 4: 4, 5: 9}\n"
     ]
    }
   ],
   "source": [
    "#create first vector\n",
    "vector1=[1,2,4,0,4,9]\n",
    "dense1=Dense()\n",
    "dense1.toDense(vector1)\n",
    "print(dense1.data)"
   ]
  },
  {
   "cell_type": "code",
   "execution_count": 619,
   "id": "361e8dfc",
   "metadata": {},
   "outputs": [
    {
     "name": "stdout",
     "output_type": "stream",
     "text": [
      "{0: 1, 1: 5, 2: 4, 3: 1, 5: 6}\n"
     ]
    }
   ],
   "source": [
    "#create second vector\n",
    "vector2=[1,5,4,1,0,6]\n",
    "dense2=Dense()\n",
    "dense2.toDense(vector2)\n",
    "print(dense2.data)"
   ]
  },
  {
   "cell_type": "code",
   "execution_count": 620,
   "id": "651ac05b",
   "metadata": {},
   "outputs": [
    {
     "name": "stdout",
     "output_type": "stream",
     "text": [
      "0 :\t 1\n",
      "1 :\t 2\n",
      "2 :\t 4\n",
      "4 :\t 4\n",
      "5 :\t 9\n",
      "{0: 2, 1: 7, 2: 8, 3: 1, 4: 4, 5: 15}\n"
     ]
    }
   ],
   "source": [
    "#ADDITION\n",
    "print(dense1.__add__(dense2))"
   ]
  },
  {
   "cell_type": "code",
   "execution_count": 621,
   "id": "a56e6537",
   "metadata": {},
   "outputs": [
    {
     "name": "stdout",
     "output_type": "stream",
     "text": [
      "[1, 5, 4, 1, 0, 6] \n",
      "+\n",
      " [1, 2, 4, 0, 4, 9] \n",
      "=\n",
      "[2, 7, 8, 1, 4, 15]\n"
     ]
    }
   ],
   "source": [
    "#sparse\n",
    "vector3=Sparse(vector1)\n",
    "print(vector3.__add__(dense2))"
   ]
  },
  {
   "cell_type": "code",
   "execution_count": 622,
   "id": "5b2b7970",
   "metadata": {},
   "outputs": [
    {
     "name": "stdout",
     "output_type": "stream",
     "text": [
      "0 :\t 1\n",
      "1 :\t 5\n",
      "2 :\t 4\n",
      "3 :\t 1\n",
      "5 :\t 6\n"
     ]
    },
    {
     "data": {
      "text/plain": [
       "{0: 2, 1: 7, 2: 8, 3: 1, 4: 4, 5: 15}"
      ]
     },
     "execution_count": 622,
     "metadata": {},
     "output_type": "execute_result"
    }
   ],
   "source": [
    "dense2.__add__(vector3)\n"
   ]
  },
  {
   "cell_type": "code",
   "execution_count": 623,
   "id": "895e2fec",
   "metadata": {},
   "outputs": [
    {
     "name": "stdout",
     "output_type": "stream",
     "text": [
      "[1, 5, 4, 1, 0, 6] \n",
      "*\n",
      " [1, 2, 4, 0, 4, 9] \n",
      "=\n"
     ]
    },
    {
     "data": {
      "text/plain": [
       "81.0"
      ]
     },
     "execution_count": 623,
     "metadata": {},
     "output_type": "execute_result"
    }
   ],
   "source": [
    "vector3.__mul__(dense2)"
   ]
  },
  {
   "cell_type": "code",
   "execution_count": 624,
   "id": "f519ca1b",
   "metadata": {},
   "outputs": [
    {
     "data": {
      "text/plain": [
       "81.0"
      ]
     },
     "execution_count": 624,
     "metadata": {},
     "output_type": "execute_result"
    }
   ],
   "source": [
    "dense2.__mul__(vector3)"
   ]
  },
  {
   "cell_type": "markdown",
   "id": "d26fefb5",
   "metadata": {},
   "source": [
    "# Exercise 8.5: Implementing the set class"
   ]
  },
  {
   "cell_type": "code",
   "execution_count": 632,
   "id": "fbad0b3b",
   "metadata": {},
   "outputs": [],
   "source": [
    "class mySet():\n",
    "    #initialize the set\n",
    "    def __init__(self):\n",
    "        self.setlist={}\n",
    "    #add new element to the set\n",
    "    def add(self,v):\n",
    "        self.setlist[v]=None\n",
    "    \n",
    "    #remove element from the set\n",
    "    def remove(self,v):\n",
    "        #check if the element in the set or not\n",
    "        if v not in self.setlist:\n",
    "            return \"Error, Value not exist\"\n",
    "        self.setlist.pop(v)\n",
    "    #function to print the key of the dictionary that shows the elements of the set\n",
    "    def data(self):\n",
    "        return list(self.setlist.keys())\n",
    "    #union function\n",
    "    def union(self,list2):\n",
    "        #dictionary to get union of the keys of bot dictionaries\n",
    "        union_values={}\n",
    "        for k in list2.data():\n",
    "            union_values[k]=None\n",
    "        for k in self.setlist:\n",
    "            union_values[k]=None\n",
    "        \n",
    "        return list(union_values.keys()    )\n",
    "    #dictionary to get intersection of the keys of bot dictionaries\n",
    "    def intersetion(self,list2):\n",
    "        intersection_values={}\n",
    "        #find values that exist in both keys\n",
    "        for k in list2.data():\n",
    "            if k in self.setlist:\n",
    "                intersection_values[k]=None\n",
    "        return list(intersection_values.keys())\n",
    "    #unique funtion that finds only keys that exist in set and do not occure in the second one\n",
    "    def unique(self,list2):\n",
    "        unique_values={}\n",
    "        for k in self.setlist:\n",
    "            if k not in list2.data():\n",
    "                unique_values[k]=None\n",
    "        return list(unique_values.keys())"
   ]
  },
  {
   "cell_type": "code",
   "execution_count": 633,
   "id": "7e051ded",
   "metadata": {},
   "outputs": [
    {
     "data": {
      "text/plain": [
       "[5, 1, 2, 9]"
      ]
     },
     "execution_count": 633,
     "metadata": {},
     "output_type": "execute_result"
    }
   ],
   "source": [
    "set1=mySet()\n",
    "set1.add(5)\n",
    "set1.add(1)\n",
    "set1.add(2)\n",
    "set1.add(9)\n",
    "set1.add(1)\n",
    "set1.add(9)\n",
    "\n",
    "#print the list\n",
    "set1.data()"
   ]
  },
  {
   "cell_type": "code",
   "execution_count": 634,
   "id": "2e9deee9",
   "metadata": {},
   "outputs": [
    {
     "data": {
      "text/plain": [
       "[1, 3, 10, 9]"
      ]
     },
     "execution_count": 634,
     "metadata": {},
     "output_type": "execute_result"
    }
   ],
   "source": [
    "set2=mySet()\n",
    "set2.add(1)\n",
    "set2.add(1)\n",
    "set2.add(3)\n",
    "set2.add(10)\n",
    "set2.add(1)\n",
    "set2.add(9)\n",
    "\n",
    "#print the list\n",
    "set2.data()"
   ]
  },
  {
   "cell_type": "code",
   "execution_count": 635,
   "id": "c7883eea",
   "metadata": {},
   "outputs": [
    {
     "name": "stdout",
     "output_type": "stream",
     "text": [
      "The union of  [5, 1, 2, 9]  and  [1, 3, 10, 9]  is  [5, 1, 2, 9, 3, 10]\n",
      "The intersection of  [5, 1, 2, 9]  and  [1, 3, 10, 9]  is  [1, 9]\n",
      "The function of  [1, 3, 10, 9]  -  [5, 1, 2, 9]  is  [3, 10]\n",
      "The function of  [5, 1, 2, 9]  -  [1, 3, 10, 9]  is  [5, 2]\n"
     ]
    }
   ],
   "source": [
    "print(\"The union of \",set1.data(),\" and \",set2.data(),\" is \",set2.union(set1))\n",
    "print(\"The intersection of \",set1.data(),\" and \",set2.data(),\" is \",set2.intersetion(set1))\n",
    "print(\"The function of \",set2.data(),\" - \",set1.data(),\" is \",set2.unique(set1))\n",
    "print(\"The function of \",set1.data(),\" - \",set2.data(),\" is \",set1.unique(set2))\n",
    "\n"
   ]
  },
  {
   "cell_type": "markdown",
   "id": "d12f366b",
   "metadata": {},
   "source": [
    "# Exercise 8.6: Binary search tree"
   ]
  },
  {
   "cell_type": "code",
   "execution_count": 661,
   "id": "bc4ca0fb",
   "metadata": {},
   "outputs": [],
   "source": [
    "'''\n",
    "(a) Define a class Node, and write the constructor, which takes one argument, value, and initializes\n",
    "the left and right children to None.\n",
    "'''\n",
    "class Node:\n",
    "    \n",
    "    def __init__(self, value):\n",
    "        self.left = None\n",
    "        self.right = None\n",
    "        self.value = value\n",
    "    '''\n",
    "    (b) Write a function to print the tree.\n",
    "    '''\n",
    "    def PrintTree(self):\n",
    "        print(self.value)\n",
    "    \n",
    "    '''\n",
    "    (c) Write a function that inserts a new value in the tree at the right location.\n",
    "    '''\n",
    "\n",
    "    #here i modify the code to make perfect to check both leftand right\n",
    "    def insertValue(self,node, value):\n",
    "        #check if the given node is None (bot deifined)\n",
    "        if node is None:\n",
    "            return Node(value)\n",
    "        else:\n",
    "            if node.value == value:\n",
    "                return node\n",
    "            #insert to the left if the given value is greater then pRENT\n",
    "            elif node.value < value:\n",
    "                #print(\"right\")\n",
    "                node.right = self.insertValue(node.right, value)\n",
    "                \n",
    "            else:\n",
    "                #print(\"left\")\n",
    "                node.left = self.insertValue(node.left, value)\n",
    "\n",
    "        return node\n",
    "        \n",
    "    '''\n",
    "    (d) Write a function that looks up a value in the tree.\n",
    "    '''\n",
    "    def lookup(self, node,value):\n",
    "        current=node\n",
    "        while current!=None:\n",
    "            #print(current.value)\n",
    "            if current.value==value:\n",
    "                return True\n",
    "            if value<node.value:\n",
    "                current=current.left\n",
    "            else:\n",
    "                current=current.right\n",
    "        return False\n",
    "    \n",
    "    '''\n",
    "    (e) Write a function that removes a value from the tree.\n",
    "    '''\n",
    "    def delete_Node(self,node, value):\n",
    "        # if THE root is not defined then return NONE\n",
    "        if node == None: \n",
    "            return node\n",
    "        \n",
    "        \n",
    "        '''\n",
    "        if the given key is greater than the value of the current node\n",
    "        then we branch to the left\n",
    "        '''\n",
    "        if node.value > value: \n",
    "            node.left = self.delete_Node(node.left, value)\n",
    "        \n",
    "        #otherwise we branch to the right\n",
    "        \n",
    "        elif node.value < value: \n",
    "            node.right= self.delete_Node(node.right, value)\n",
    "        else: \n",
    "            # If the right node is null, then assign the left node as a root\n",
    "            if not node.right:\n",
    "                return node.left\n",
    "            #otherwise assign the left\n",
    "            if not node.left:\n",
    "                return node.right\n",
    "            #in the case of the node has both left and right node then\n",
    "            t_value = node.right\n",
    "            m_value = t_value.value\n",
    "            while t_value.left:\n",
    "                t_value = t_value.left\n",
    "                m_value = t_value.value\n",
    "            ndoe.right = deleteNode(node.right,node.value)\n",
    "        return node\n",
    "        \n",
    "            \n"
   ]
  },
  {
   "cell_type": "code",
   "execution_count": 669,
   "id": "a8cf267d",
   "metadata": {},
   "outputs": [
    {
     "data": {
      "text/plain": [
       "True"
      ]
     },
     "execution_count": 669,
     "metadata": {},
     "output_type": "execute_result"
    }
   ],
   "source": [
    "root=Node(5)\n",
    "root.insertValue(root,8)\n",
    "root.insertValue(root,2)\n",
    "root.insertValue(root,3)\n",
    "root.insertValue(root,10)\n",
    "root.lookup(root,10)"
   ]
  },
  {
   "cell_type": "code",
   "execution_count": 670,
   "id": "bd4769f6",
   "metadata": {},
   "outputs": [
    {
     "data": {
      "text/plain": [
       "False"
      ]
     },
     "execution_count": 670,
     "metadata": {},
     "output_type": "execute_result"
    }
   ],
   "source": [
    "#remove node 10\n",
    "root.delete_Node(root,10)\n",
    "#check it the node exist\n",
    "root.lookup(root,10)"
   ]
  },
  {
   "cell_type": "code",
   "execution_count": 672,
   "id": "ee6c964b",
   "metadata": {},
   "outputs": [
    {
     "name": "stdout",
     "output_type": "stream",
     "text": [
      "True\n",
      "False\n"
     ]
    }
   ],
   "source": [
    "#remove node 5\n",
    "print(root.lookup(root,5))\n",
    "root.delete_Node(root,3)\n",
    "#check it the node exist\n",
    "print(root.lookup(root,3))\n"
   ]
  }
 ],
 "metadata": {
  "kernelspec": {
   "display_name": "Python 3",
   "language": "python",
   "name": "python3"
  },
  "language_info": {
   "codemirror_mode": {
    "name": "ipython",
    "version": 3
   },
   "file_extension": ".py",
   "mimetype": "text/x-python",
   "name": "python",
   "nbconvert_exporter": "python",
   "pygments_lexer": "ipython3",
   "version": "3.8.8"
  }
 },
 "nbformat": 4,
 "nbformat_minor": 5
}

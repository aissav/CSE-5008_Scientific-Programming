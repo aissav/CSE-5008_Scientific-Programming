{
 "cells": [
  {
   "cell_type": "markdown",
   "id": "4feaec22",
   "metadata": {},
   "source": [
    "# Question 2 – Numpy: Nearest neighbor"
   ]
  },
  {
   "cell_type": "code",
   "execution_count": 2,
   "id": "aa787fdb",
   "metadata": {},
   "outputs": [
    {
     "name": "stdout",
     "output_type": "stream",
     "text": [
      "The Nearest Value to 6 is 9.\n"
     ]
    }
   ],
   "source": [
    "import numpy as np\n",
    "def NNeighbors(A,z):\n",
    "    if len(A)==0: #check for empty array\n",
    "        return \"Empty List\"\n",
    "    elif len(A)==1: #if only one element return hat element\n",
    "        return A[0]\n",
    "    else: #otherwise\n",
    "        #np.abs(A - z) is uused to calulcate the absolute differences\n",
    "        return A[np.argmin(np.abs(A - z))]\n",
    "        \n",
    "A=np.array([51,21,9,2, 17,12,19,11]) #array A\n",
    "z=6 #value z\n",
    "print(\"The Nearest Value to {} is {}.\".format(z,NNeighbors(A,z)))"
   ]
  },
  {
   "cell_type": "markdown",
   "id": "01a8f212",
   "metadata": {},
   "source": [
    "# Question 3 – Classes: Binary search tree"
   ]
  },
  {
   "cell_type": "code",
   "execution_count": 3,
   "id": "dbaf620a",
   "metadata": {},
   "outputs": [],
   "source": [
    "'''\n",
    "(a) Define a class Node, and write the constructor, which takes one argument, value, and initializes\n",
    "the left and right children to None.\n",
    "'''\n",
    "class Node:\n",
    "    \n",
    "    def __init__(self, value): #constructor to initialize the node data\n",
    "        self.left = None #left node\n",
    "        self.right = None #right node\n",
    "        self.value = value #value defined by the user\n",
    "    '''\n",
    "    (b) Write a function to print the tree.\n",
    "    '''\n",
    "    def PrintTree(self):\n",
    "        print(self.value)\n",
    "    \n",
    "    '''\n",
    "    (c) Write a function that inserts a new value in the tree at the right location.\n",
    "    '''\n",
    "\n",
    "    # to make perfect to check both leftand right ( with recursion)\n",
    "    def insertValue(self,node, value):\n",
    "        \n",
    "        #check if the given node is null (not defined yet)\n",
    "        if node is None:\n",
    "            return Node(value) #initialize it and assign give value to it\n",
    "\n",
    "        else: #if the root is defined and initialized then we check right and left nodes\n",
    "            \n",
    "            \n",
    "            #insert to the left if the given value is greater then current, branch right\n",
    "            if node.value < value:\n",
    "                #print(\"right\")\n",
    "                node.right = self.insertValue(node.right, value)\n",
    "        \n",
    "            elif node.value == value:\n",
    "                return node\n",
    "            #branch left if value is greater than current node\n",
    "            else:\n",
    "                #print(\"left\")\n",
    "                node.left = self.insertValue(node.left, value)\n",
    "\n",
    "        return node\n",
    "        \n",
    "    '''\n",
    "    (d) Write a function that looks up a value in the tree.\n",
    "    '''\n",
    "    def lookup(self, node,value):\n",
    "        # search for the value\n",
    "        current=node\n",
    "        while current!=None:\n",
    "            #print(current.value)\n",
    "            if current.value==value:\n",
    "                return True\n",
    "            #if value less than current, brach to left\n",
    "            if value<node.value:\n",
    "                current=current.left\n",
    "            #if value less than current, brach to right\n",
    "            else:\n",
    "                current=current.right\n",
    "        return False\n",
    "    \n",
    "    '''\n",
    "    (e) Write a function that removes a value from the tree.\n",
    "    '''\n",
    "    def delete_Node(self,node, value):\n",
    "        # if THE root is not defined then return NONE\n",
    "        if node == None: \n",
    "            return node\n",
    "        \n",
    "        \n",
    "        '''\n",
    "        if the given key is greater than the value of the current node\n",
    "        then we branch to the left\n",
    "        '''\n",
    "        if node.value > value: \n",
    "            node.left = self.delete_Node(node.left, value)\n",
    "        \n",
    "        #otherwise we branch to the right\n",
    "        \n",
    "        elif node.value < value: \n",
    "            node.right= self.delete_Node(node.right, value)\n",
    "        else: \n",
    "            # If the right node is null, then assign the left node as a root\n",
    "            if not node.right:\n",
    "                return node.left\n",
    "            #otherwise assign the left\n",
    "            if not node.left: \n",
    "                return node.right\n",
    "            #in the case of the node has both left and right node then\n",
    "            t_value = node.right\n",
    "            m_value = t_value.value\n",
    "            while t_value.left:\n",
    "                t_value = t_value.left\n",
    "                m_value = t_value.value\n",
    "            ndoe.right = deleteNode(node.right,node.value)\n",
    "        return node"
   ]
  },
  {
   "cell_type": "code",
   "execution_count": 4,
   "id": "69fe0bf0",
   "metadata": {},
   "outputs": [
    {
     "data": {
      "text/plain": [
       "False"
      ]
     },
     "execution_count": 4,
     "metadata": {},
     "output_type": "execute_result"
    }
   ],
   "source": [
    "root=Node(9)\n",
    "root.insertValue(root,12)\n",
    "root.insertValue(root,19)\n",
    "root.insertValue(root,18)\n",
    "root.insertValue(root,10)\n",
    "root.delete_Node(root,10) #remove 10\n",
    "root.lookup(root,10) #check if node 10 exists"
   ]
  },
  {
   "cell_type": "markdown",
   "id": "c8b96a7e",
   "metadata": {},
   "source": [
    "# Question 4 – Scipy: Optimization"
   ]
  },
  {
   "cell_type": "code",
   "execution_count": 7,
   "id": "d4496b05",
   "metadata": {},
   "outputs": [
    {
     "name": "stdout",
     "output_type": "stream",
     "text": [
      "The Optimum value is:  0.2162413285869684\n",
      "F(0.2162)=0.9117\n"
     ]
    }
   ],
   "source": [
    "import scipy.optimize as opt\n",
    "import math\n",
    "def Q4(x):  \n",
    "    #$f(x) = sin^2(x − 2)$\n",
    "    first_term=math.pow(np.sin(x-2), 2)\n",
    "    #e^{-x^2}\n",
    "    second_term=np.exp(-1*(math.pow(x,2)))\n",
    "    #here, wea are dealing with the minimum value,\n",
    "    #that why we return the negative value of it\n",
    "    return  (first_term * second_term) * (-1)\n",
    "    \n",
    "optimum_value = opt.minimize_scalar(Q4).x #Minimization of scalar function of one variable.\n",
    "print(\"The Optimum value is: \",optimum_value)\n",
    "#maximum of the function\n",
    "print(\"F({})={}\".format(round(optimum_value,4),round(-Q4(optimum_value),4)))"
   ]
  },
  {
   "cell_type": "markdown",
   "id": "61697cc7",
   "metadata": {},
   "source": [
    "# Question 5 – Scipy: Pairwise distances"
   ]
  },
  {
   "cell_type": "code",
   "execution_count": 12,
   "id": "f6cf018d",
   "metadata": {},
   "outputs": [
    {
     "name": "stdout",
     "output_type": "stream",
     "text": [
      "[[0.1327926  0.49443016 0.34844205]\n",
      " [0.66399272 0.61782695 0.27053055]\n",
      " [0.52880918 0.02180189 0.95892016]]\n",
      "(21,)\n",
      "21.0\n"
     ]
    },
    {
     "data": {
      "text/plain": [
       "array([1.60436011, 1.93556172, 1.65011006, 1.66078181, 2.02305712,\n",
       "       1.86696355, 2.10149169, 1.53744836, 1.85607044, 1.92880241,\n",
       "       1.59907868, 1.80444365, 1.3357771 , 2.05163291, 1.90663017,\n",
       "       1.8178134 , 1.59146955, 1.76403732, 1.92013896, 1.81753652,\n",
       "       1.76989528])"
      ]
     },
     "execution_count": 12,
     "metadata": {},
     "output_type": "execute_result"
    }
   ],
   "source": [
    "\n",
    "n,m=7,19 #n -> #rows, m-> #columns\n",
    "#generate a random matrix\n",
    "x_matrix=np.random.rand(n,m) #generate a random matrix of m by n\n",
    "print(x_matrix[:3,:3])\n",
    "\n",
    "'''\n",
    "Answer: to calculate the pairwise distance between rows\n",
    "we have to use the function {pdist} implemented in scipy.spatial.distance\n",
    "by imporintg scipy.spatial.distance as dis.\n",
    "this function calculates the pairwise distances between observations in\n",
    "n-dimensional space (as described in their repo).\n",
    "\n",
    "'''\n",
    "from scipy.spatial import distance\n",
    "\n",
    "#calculate the pairwise distances\n",
    "pairwise_distance = distance.pdist(x_matrix)\n",
    "#print(\"\\n\")\n",
    "print (pairwise_distance.shape)\n",
    "# to check, i am cacluting the number of pairs and check if we output k distances\n",
    "print((n*(n-1))/2) #10 and 10., so true\n",
    "pairwise_distance"
   ]
  },
  {
   "cell_type": "code",
   "execution_count": 13,
   "id": "cb651a63",
   "metadata": {},
   "outputs": [
    {
     "name": "stdout",
     "output_type": "stream",
     "text": [
      "(0.8169471081492695, 0.8982355859387068)\n",
      "(0.2234114324756057, 0.001499495665799322)\n",
      "(0.07427826294238271, 0.8423895459559019)\n",
      "(0.6406026679930384, 0.05818616131430132)\n",
      "(0.38194076727258675, 0.5707172162624765)\n",
      "(0.6866921696480074, 0.24265260039344327)\n",
      "(0.7236994684462181, 0.7866168214005257)\n",
      "(7, 7)\n",
      "21.0\n",
      "|From|\t\t|To|\t\t|Distance|\n",
      "----------------------------------------------------\n",
      "|City_0|\t|City_1|\t|1.0753698033213193|\n",
      "----------------------------------------------------\n",
      "|City_0|\t|City_2|\t|0.7447655965622283|\n",
      "----------------------------------------------------\n",
      "|City_0|\t|City_3|\t|0.85835913077558|\n",
      "----------------------------------------------------\n",
      "|City_0|\t|City_4|\t|0.5445170328633409|\n",
      "----------------------------------------------------\n",
      "|City_0|\t|City_5|\t|0.6683976360972627|\n",
      "----------------------------------------------------\n",
      "|City_0|\t|City_6|\t|0.14544370356677527|\n",
      "----------------------------------------------------\n",
      "|City_1|\t|City_2|\t|0.8540121655643532|\n",
      "----------------------------------------------------\n",
      "|City_1|\t|City_3|\t|0.4210248271241342|\n",
      "----------------------------------------------------\n",
      "|City_1|\t|City_4|\t|0.5908810061530579|\n",
      "----------------------------------------------------\n",
      "|City_1|\t|City_5|\t|0.5222871445429094|\n",
      "----------------------------------------------------\n",
      "|City_1|\t|City_6|\t|0.9309658071616708|\n",
      "----------------------------------------------------\n",
      "|City_2|\t|City_3|\t|0.967314985017456|\n",
      "----------------------------------------------------\n",
      "|City_2|\t|City_4|\t|0.4104413128472645|\n",
      "----------------------------------------------------\n",
      "|City_2|\t|City_5|\t|0.8571669598153169|\n",
      "----------------------------------------------------\n",
      "|City_2|\t|City_6|\t|0.6518117051437361|\n",
      "----------------------------------------------------\n",
      "|City_3|\t|City_4|\t|0.574102831529863|\n",
      "----------------------------------------------------\n",
      "|City_3|\t|City_5|\t|0.1901370803113958|\n",
      "----------------------------------------------------\n",
      "|City_3|\t|City_6|\t|0.7331550346271981|\n",
      "----------------------------------------------------\n",
      "|City_4|\t|City_5|\t|0.4477720507524804|\n",
      "----------------------------------------------------\n",
      "|City_4|\t|City_6|\t|0.40424206773498106|\n",
      "----------------------------------------------------\n",
      "|City_5|\t|City_6|\t|0.5452216190689636|\n",
      "----------------------------------------------------\n"
     ]
    }
   ],
   "source": [
    "#generate random cordinates\n",
    "cordinates = [(np.random.rand(),np.random.rand()) for i in range(n)]\n",
    "for i in cordinates:\n",
    "    print(i)\n",
    "\n",
    "#calculate distances between the random generated cordinates\n",
    "pairwise_distance=distance.cdist(cordinates,cordinates, 'euclidean')\n",
    "print (pairwise_distance.shape)\n",
    "# to check, i am cacluting the number of pairs and check if we output k distances\n",
    "print((n*(n-1))/2) #10 and 10., so true\n",
    "#printing the table\n",
    "print(\"|From|\\t\\t|To|\\t\\t|Distance|\")\n",
    "print(\"----------------------------------------------------\")\n",
    "for i in range (n):\n",
    "    for j in range (i+1,n):\n",
    "        \n",
    "        print(\"|City_{}|\\t|City_{}|\\t|{}|\".format(i,j,pairwise_distance[i,j]))\n",
    "        print(\"----------------------------------------------------\")\n",
    "        "
   ]
  },
  {
   "cell_type": "code",
   "execution_count": null,
   "id": "c8b20ec9",
   "metadata": {},
   "outputs": [],
   "source": []
  },
  {
   "cell_type": "markdown",
   "id": "ef00ba04",
   "metadata": {},
   "source": [
    "# Question 6 – Matplotlib: Data"
   ]
  },
  {
   "cell_type": "code",
   "execution_count": 59,
   "id": "0308bf06",
   "metadata": {},
   "outputs": [],
   "source": [
    "n,m=10,20\n",
    "x_values = np.random.randn(m, n)\n",
    "# Generate a vector b with parameters (normally distributed both b and z)\n",
    "b_values =  np.random.normal(size=(n)) #parameters\n",
    "z_values = np.random.normal(size=(m)) #z values\n",
    "#y = Xb+z \n",
    "y = np.dot(x_values, b_values) + z_values"
   ]
  },
  {
   "cell_type": "code",
   "execution_count": 76,
   "id": "35b6e80e",
   "metadata": {},
   "outputs": [],
   "source": [
    "def Q6(x, y):\n",
    "    return np.linalg.lstsq(x_values, y)[0]\n"
   ]
  },
  {
   "cell_type": "code",
   "execution_count": 83,
   "id": "0caf48b9",
   "metadata": {},
   "outputs": [
    {
     "name": "stderr",
     "output_type": "stream",
     "text": [
      "<ipython-input-76-201be4821341>:2: FutureWarning: `rcond` parameter will change to the default of machine precision times ``max(M, N)`` where M and N are the input matrix dimensions.\n",
      "To use the future default and silence this warning we advise to pass `rcond=None`, to keep using the old, explicitly pass `rcond=-1`.\n",
      "  return np.linalg.lstsq(x_values, y)[0]\n"
     ]
    },
    {
     "data": {
      "text/plain": [
       "array([ 2.463681  ,  0.62452575,  0.51228993, -1.9918112 , -1.63502039,\n",
       "        0.22574723,  0.9666914 , -2.1919086 , -1.60270337, -3.94669831])"
      ]
     },
     "execution_count": 83,
     "metadata": {},
     "output_type": "execute_result"
    }
   ],
   "source": [
    "x_est=Q6(x_values,y)\n",
    "x_est"
   ]
  },
  {
   "cell_type": "code",
   "execution_count": 84,
   "id": "37a26645",
   "metadata": {},
   "outputs": [
    {
     "data": {
      "text/plain": [
       "array([ 1.74210785,  1.15566778,  0.55499369, -1.57437574, -1.10613525,\n",
       "       -0.34347049,  1.70805345, -2.27161622, -1.03306872, -3.56234182])"
      ]
     },
     "execution_count": 84,
     "metadata": {},
     "output_type": "execute_result"
    }
   ],
   "source": [
    "b_values"
   ]
  },
  {
   "cell_type": "code",
   "execution_count": 98,
   "id": "5a8ee7e2",
   "metadata": {},
   "outputs": [
    {
     "data": {
      "image/png": "[encoded data removed]",
      "text/plain": [
       "<Figure size 432x288 with 1 Axes>"
      ]
     },
     "metadata": {
      "needs_background": "light"
     },
     "output_type": "display_data"
    }
   ],
   "source": [
    "import matplotlib.pyplot as plt\n",
    "\n",
    "#plot\n",
    "#plot the function\n",
    "plt.scatter([i for i in range (n)], b_values,marker=\"o\",label=\"True coeffeicents\")\n",
    "plt.scatter([i for i in range (n)],x_est,marker='x',label=\"Estimated coeffeicents\")\n",
    "plt.axhline(y=0, color='r', linestyle='-')\n",
    "\n",
    "plt.xlabel('Index')\n",
    "plt.ylabel('Value')\n",
    "plt.legend(loc=0)\n",
    "plt.show()"
   ]
  },
  {
   "cell_type": "markdown",
   "id": "97032c7e",
   "metadata": {},
   "source": [
    "# Question 1 – Functions: Root finding"
   ]
  },
  {
   "cell_type": "code",
   "execution_count": 7,
   "id": "733bd20a",
   "metadata": {},
   "outputs": [],
   "source": [
    "import numpy as np"
   ]
  },
  {
   "cell_type": "code",
   "execution_count": 99,
   "id": "865cae18",
   "metadata": {},
   "outputs": [],
   "source": [
    "'''\n",
    "(a) \n",
    "'''\n",
    "\n",
    "#in this implementation i will be using the bisection method\n",
    "def root(f,a,b): \n",
    "    \n",
    "    s=a #starting\n",
    "    b=b #bound\n",
    "    \n",
    "    \n",
    "    #defined threshold \n",
    "    threshold=0.001 #threshold for convergence\n",
    "    while abs(s-b)>= threshold:\n",
    "        mid=(s+b)/2.0 #calculate the nmid interval\n",
    "        \n",
    "        #check the function results\n",
    "        res=f(mid)*f(s)\n",
    "        \n",
    "        #if the result is greater than the threshold\n",
    "        if res>threshold:\n",
    "            s=mid\n",
    "        else:\n",
    "            if threshold>res:\n",
    "                b=mid\n",
    "    \n",
    "    return mid\n"
   ]
  },
  {
   "cell_type": "code",
   "execution_count": 100,
   "id": "15ad18f2",
   "metadata": {},
   "outputs": [
    {
     "data": {
      "text/plain": [
       "1.4882564544677734"
      ]
     },
     "execution_count": 100,
     "metadata": {},
     "output_type": "execute_result"
    }
   ],
   "source": [
    "# i used the function defined in question 4\n",
    "root(Q4,1,500)"
   ]
  },
  {
   "cell_type": "code",
   "execution_count": 101,
   "id": "52012cf2",
   "metadata": {},
   "outputs": [],
   "source": [
    "'''\n",
    "(b) \n",
    "'''\n",
    "#in this implementation i will be using the bisection method\n",
    "def root(f,a,b): \n",
    "    \n",
    "    #now, we need to check which one is greater and which is smaller before calculating\n",
    "    s=min(a,b) #starting\n",
    "    b=max(a,b) #bound\n",
    "    \n",
    "    if f(s)*f(b)>0:\n",
    "        s=-900#random value i am assigning mimumum value for s\n",
    "    #defined threshold\n",
    "    threshold=0.001 #threshold for convergence\n",
    "    while abs(s-b)>= threshold:\n",
    "        mid=(s+b)/2.0 #calculate the nmid interval\n",
    "        \n",
    "        #check the function results\n",
    "        res=f(mid)*f(s)\n",
    "        \n",
    "        #if the result is greater than the threshold\n",
    "        if res>threshold:\n",
    "            s=mid\n",
    "        else:\n",
    "            if threshold>res:\n",
    "                b=mid\n",
    "    \n",
    "    return mid\n"
   ]
  },
  {
   "cell_type": "code",
   "execution_count": 102,
   "id": "ea2c0596",
   "metadata": {},
   "outputs": [
    {
     "data": {
      "text/plain": [
       "1.4882564544677734"
      ]
     },
     "execution_count": 102,
     "metadata": {},
     "output_type": "execute_result"
    }
   ],
   "source": [
    "# i used the function defined in question 4\n",
    "root(Q4,1,500)"
   ]
  },
  {
   "cell_type": "code",
   "execution_count": 64,
   "id": "fff963a3",
   "metadata": {},
   "outputs": [],
   "source": [
    "'''\n",
    "c\n",
    "'''\n",
    "'''\n",
    "Add a check that prints\n",
    "’function evals have same sign’\n",
    "if f(a) > 0 and f(b) > 0 or if f(a) < 0 and f(b) < 0.\n",
    "'''\n",
    "#in this implementation i will be using the bisection method\n",
    "def root(f,a,b): \n",
    "    \n",
    "    s=min(a,b) #starting\n",
    "    b=max(a,b) #bound\n",
    "    \n",
    "    if f(s)*f(b)>0:\n",
    "        s=-900#random value\n",
    "    #defined threshold\n",
    "    threshold=0.001 #threshold for convergence\n",
    "    while abs(s-b)>= threshold:\n",
    "        mid=(s+b)/2.0 #calculate the nmid interval\n",
    "        \n",
    "        #check the function results\n",
    "        res=f(mid)*f(s)\n",
    "        \n",
    "        #if the result is greater than the threshold \n",
    "        if res>threshold:\n",
    "            s=mid\n",
    "        else:\n",
    "            if threshold>res:\n",
    "                b=mid\n",
    "        \n",
    "        if f(s)>0 and f(b)>0:\n",
    "            print(\"functions have the same sign\")\n",
    "        elif f(s)<0 and f(b)<0:\n",
    "             print(\"functions have the same sign\")\n",
    "    \n",
    "    return mid\n"
   ]
  },
  {
   "cell_type": "code",
   "execution_count": 66,
   "id": "1e5ffe5d",
   "metadata": {},
   "outputs": [
    {
     "name": "stdout",
     "output_type": "stream",
     "text": [
      "functions have the same sign\n",
      "functions have the same sign\n",
      "functions have the same sign\n",
      "functions have the same sign\n",
      "functions have the same sign\n",
      "functions have the same sign\n",
      "functions have the same sign\n",
      "functions have the same sign\n",
      "functions have the same sign\n",
      "functions have the same sign\n",
      "functions have the same sign\n",
      "functions have the same sign\n",
      "functions have the same sign\n",
      "functions have the same sign\n",
      "functions have the same sign\n"
     ]
    },
    {
     "data": {
      "text/plain": [
       "1.4882564544677734"
      ]
     },
     "execution_count": 66,
     "metadata": {},
     "output_type": "execute_result"
    }
   ],
   "source": [
    "# i used the function defined in question 4\n",
    "root(Q4,1,500)"
   ]
  }
 ],
 "metadata": {
  "kernelspec": {
   "display_name": "Python 3",
   "language": "python",
   "name": "python3"
  },
  "language_info": {
   "codemirror_mode": {
    "name": "ipython",
    "version": 3
   },
   "file_extension": ".py",
   "mimetype": "text/x-python",
   "name": "python",
   "nbconvert_exporter": "python",
   "pygments_lexer": "ipython3",
   "version": "3.8.8"
  }
 },
 "nbformat": 4,
 "nbformat_minor": 5
}

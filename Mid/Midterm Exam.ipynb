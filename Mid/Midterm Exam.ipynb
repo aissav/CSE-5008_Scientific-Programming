{
 "cells": [
  {
   "cell_type": "markdown",
   "id": "785a6c1e",
   "metadata": {},
   "source": [
    "# Question 2 – Numpy: Nearest neighbor"
   ]
  },
  {
   "cell_type": "code",
   "execution_count": null,
   "id": "c5c00a33",
   "metadata": {},
   "outputs": [],
   "source": []
  },
  {
   "cell_type": "code",
   "execution_count": 2,
   "id": "947c11a0",
   "metadata": {},
   "outputs": [
    {
     "name": "stdout",
     "output_type": "stream",
     "text": [
      "The Nearest Value to 6 is 9.\n"
     ]
    }
   ],
   "source": [
    "import numpy as np\n",
    "def NNeighbors(A,z):\n",
    "    if len(A)==0: #check for empty array\n",
    "        return \"Empty List\"\n",
    "    elif len(A)==1: #if only one element return hat element\n",
    "        return A[0]\n",
    "    else: #otherwise\n",
    "        #np.abs(A - z) is uused to calulcate the absolute differences\n",
    "        return A[np.argmin(np.abs(A - z))]\n",
    "        \n",
    "A=np.array([51,21,9,2, 17,12,19,11]) #array A\n",
    "z=6 #value z\n",
    "print(\"The Nearest Value to {} is {}.\".format(z,NNeighbors(A,z)))"
   ]
  },
  {
   "cell_type": "markdown",
   "id": "f4df4530",
   "metadata": {},
   "source": [
    "# Question 3 – Classes: Binary search tree"
   ]
  },
  {
   "cell_type": "code",
   "execution_count": 43,
   "id": "b3f2d6f0",
   "metadata": {},
   "outputs": [],
   "source": [
    "'''\n",
    "(a) Define a class Node, and write the constructor, which takes one argument, value, and initializes\n",
    "the left and right children to None.\n",
    "'''\n",
    "class Node:\n",
    "    \n",
    "    def __init__(self, value): #constructor to initialize the node data\n",
    "        self.left = None #left node\n",
    "        self.right = None #right node\n",
    "        self.value = value #value defined by the user\n",
    "    '''\n",
    "    (b) Write a function to print the tree.\n",
    "    '''\n",
    "    def PrintTree(self,node):\n",
    "        if (node != None) :\n",
    "     \n",
    "            self.PrintTree(node.left)\n",
    "            if (node.right != None:\n",
    "                if node.left != None) :\n",
    "                    print(node.data)\n",
    "            self.PrintTree(node.right)\n",
    "    \n",
    "    '''\n",
    "    (c) Write a function that inserts a new value in the tree at the right location.\n",
    "    '''\n",
    "\n",
    "    # to make perfect to check both leftand right ( with recursion)\n",
    "    def insertValue(self,node, value):\n",
    "        \n",
    "        #check if the given node is null (not defined yet)\n",
    "        if node is None:\n",
    "            return Node(value) #initialize it and assign give value to it\n",
    "\n",
    "        else: #if the root is defined and initialized then we check right and left nodes\n",
    "            \n",
    "            \n",
    "            #insert to the left if the given value is greater then current, branch right\n",
    "            if node.value < value:\n",
    "                #print(\"right\")\n",
    "                node.right = self.insertValue(node.right, value)\n",
    "        \n",
    "            elif node.value == value:\n",
    "                return node\n",
    "            #branch left if value is greater than current node\n",
    "            else:\n",
    "                #print(\"left\")\n",
    "                node.left = self.insertValue(node.left, value)\n",
    "\n",
    "        return node\n",
    "        \n",
    "    '''\n",
    "    (d) Write a function that looks up a value in the tree.\n",
    "    '''\n",
    "    def lookup(self, node,value):\n",
    "        # search for the value\n",
    "        current=node\n",
    "        while current!=None:\n",
    "            #print(current.value)\n",
    "            if current.value==value:\n",
    "                return True\n",
    "            #if value less than current, brach to left\n",
    "            if value<node.value:\n",
    "                current=current.left\n",
    "            #if value less than current, brach to right\n",
    "            else:\n",
    "                current=current.right\n",
    "        return False\n",
    "    \n",
    "    '''\n",
    "    (e) Write a function that removes a value from the tree.\n",
    "    '''\n",
    "    def delete_Node(self,node, value):\n",
    "        # if THE root is not defined then return NONE\n",
    "        if node == None: \n",
    "            return node\n",
    "        \n",
    "        \n",
    "        '''\n",
    "        if the given key is greater than the value of the current node\n",
    "        then we branch to the left\n",
    "        '''\n",
    "        if node.value > value: \n",
    "            node.left = self.delete_Node(node.left, value)\n",
    "        \n",
    "        #otherwise we branch to the right\n",
    "        \n",
    "        elif node.value < value: \n",
    "            node.right= self.delete_Node(node.right, value)\n",
    "        else: \n",
    "            # If the right node is null, then assign the left node as a root\n",
    "            if not node.right:\n",
    "                return node.left\n",
    "            #otherwise assign the left\n",
    "            if not node.left: \n",
    "                return node.right\n",
    "            #in the case of the node has both left and right node then\n",
    "            t_value = node.right\n",
    "            m_value = t_value.value\n",
    "            while t_value.left:\n",
    "                t_value = t_value.left\n",
    "                m_value = t_value.value\n",
    "            ndoe.right = deleteNode(node.right,node.value)\n",
    "        return node"
   ]
  },
  {
   "cell_type": "code",
   "execution_count": 46,
   "id": "5dfb8deb",
   "metadata": {},
   "outputs": [
    {
     "data": {
      "text/plain": [
       "False"
      ]
     },
     "execution_count": 46,
     "metadata": {},
     "output_type": "execute_result"
    }
   ],
   "source": [
    "root=Node(9)\n",
    "root.insertValue(root,12)\n",
    "root.insertValue(root,19)\n",
    "root.insertValue(root,18)\n",
    "root.insertValue(root,10)\n",
    "root.delete_Node(root,10) #remove 10\n",
    "root.lookup(root,10) #check if node 10 exists"
   ]
  },
  {
   "cell_type": "markdown",
   "id": "29a51cce",
   "metadata": {},
   "source": [
    "# Question 4 – Scipy: Optimization"
   ]
  },
  {
   "cell_type": "code",
   "execution_count": 7,
   "id": "9fe77d85",
   "metadata": {},
   "outputs": [
    {
     "name": "stdout",
     "output_type": "stream",
     "text": [
      "The Optimum value is:  0.2162413285869684\n",
      "F(0.2162)=0.9117\n"
     ]
    }
   ],
   "source": [
    "import scipy.optimize as opt\n",
    "import math\n",
    "def Q4(x):  \n",
    "    #$f(x) = sin^2(x − 2)$\n",
    "    first_term=math.pow(np.sin(x-2), 2)\n",
    "    #e^{-x^2}\n",
    "    second_term=np.exp(-1*(math.pow(x,2)))\n",
    "    #here, wea are dealing with the minimum value,\n",
    "    #that why we return the negative value of it\n",
    "    return  (first_term * second_term) * (-1)\n",
    "    \n",
    "optimum_value = opt.minimize_scalar(Q4).x #Minimization of scalar function of one variable.\n",
    "print(\"The Optimum value is: \",optimum_value)\n",
    "#maximum of the function\n",
    "print(\"F({})={}\".format(round(optimum_value,4),round(-Q4(optimum_value),4)))"
   ]
  },
  {
   "cell_type": "markdown",
   "id": "b52c0ded",
   "metadata": {},
   "source": [
    "# Question 5 – Scipy: Pairwise distances"
   ]
  },
  {
   "cell_type": "code",
   "execution_count": 16,
   "id": "2a410d13",
   "metadata": {},
   "outputs": [
    {
     "name": "stdout",
     "output_type": "stream",
     "text": [
      "[[0.7644567  0.10887543 0.64208373]\n",
      " [0.81760762 0.49742506 0.1987905 ]\n",
      " [0.73114665 0.0302186  0.02813358]]\n",
      "\n",
      "\n",
      "Checking Shapes\n",
      "(21,)\n",
      "21.0\n"
     ]
    },
    {
     "data": {
      "text/plain": [
       "array([1.4534068 , 1.66527939, 1.29855125, 1.62175618, 1.7406981 ,\n",
       "       1.97503284, 1.43508975, 1.42714234, 1.42781937, 1.69298847,\n",
       "       1.76599505, 1.60887494, 1.85849272, 1.91867921, 1.79761337,\n",
       "       1.80171702, 1.93604363, 1.44985002, 1.83365354, 2.12736665,\n",
       "       1.96503915])"
      ]
     },
     "execution_count": 16,
     "metadata": {},
     "output_type": "execute_result"
    }
   ],
   "source": [
    "\n",
    "n,m=7,19 #n -> #rows, m-> #columns\n",
    "#generate a random matrix\n",
    "x_matrix=np.random.rand(n,m) #generate a random matrix of m by n\n",
    "print(x_matrix[:3,:3])\n",
    "\n",
    "'''\n",
    "Answer: to calculate the pairwise distance between rows\n",
    "we have to use the function {pdist} implemented in scipy.spatial.distance\n",
    "by imporintg scipy.spatial.distance as dis.\n",
    "this function calculates the pairwise distances between observations in\n",
    "n-dimensional space (as described in their repo).\n",
    "\n",
    "'''\n",
    "from scipy.spatial import distance\n",
    "\n",
    "#calculate the pairwise distances\n",
    "pairwise_distance = distance.pdist(x_matrix)\n",
    "print(\"\\n\\nChecking Shapes\")\n",
    "print (pairwise_distance.shape)\n",
    "# to check, i am cacluting the number of pairs and check if we output k distances\n",
    "print((n*(n-1))/2) #10 and 10., so true\n",
    "pairwise_distance"
   ]
  },
  {
   "cell_type": "code",
   "execution_count": 17,
   "id": "6b3ff3d3",
   "metadata": {},
   "outputs": [
    {
     "name": "stdout",
     "output_type": "stream",
     "text": [
      "(0.11850251643626186, 0.595639026280855)\n",
      "(0.5583491157614379, 0.13449426441337708)\n",
      "(0.6831580717935837, 0.7677496955287982)\n",
      "(0.9618027087938052, 0.5352425990217529)\n",
      "(0.7771760165638452, 0.28374287481001437)\n",
      "(0.6027896990956837, 0.5578634387189153)\n",
      "(0.6085259261076792, 0.09667716532078319)\n",
      "(7, 7)\n",
      "21.0\n",
      "|From|\t\t|To|\t\t|Distance|\n",
      "----------------------------------------------------\n",
      "|City_0|\t|City_1|\t|0.6372750758783328|\n",
      "----------------------------------------------------\n",
      "|City_0|\t|City_2|\t|0.5903032937946903|\n",
      "----------------------------------------------------\n",
      "|City_0|\t|City_3|\t|0.8454601959027601|\n",
      "----------------------------------------------------\n",
      "|City_0|\t|City_4|\t|0.7287866553886968|\n",
      "----------------------------------------------------\n",
      "|City_0|\t|City_5|\t|0.4857582426514757|\n",
      "----------------------------------------------------\n",
      "|City_0|\t|City_6|\t|0.6993467528477841|\n",
      "----------------------------------------------------\n",
      "|City_1|\t|City_2|\t|0.6454376163061865|\n",
      "----------------------------------------------------\n",
      "|City_1|\t|City_3|\t|0.5686598538864106|\n",
      "----------------------------------------------------\n",
      "|City_1|\t|City_4|\t|0.2648780100727764|\n",
      "----------------------------------------------------\n",
      "|City_1|\t|City_5|\t|0.4256952233690686|\n",
      "----------------------------------------------------\n",
      "|City_1|\t|City_6|\t|0.06283188108199321|\n",
      "----------------------------------------------------\n",
      "|City_2|\t|City_3|\t|0.36290823034910874|\n",
      "----------------------------------------------------\n",
      "|City_2|\t|City_4|\t|0.4930537257146821|\n",
      "----------------------------------------------------\n",
      "|City_2|\t|City_5|\t|0.22474722718594925|\n",
      "----------------------------------------------------\n",
      "|City_2|\t|City_6|\t|0.6752098177377676|\n",
      "----------------------------------------------------\n",
      "|City_3|\t|City_4|\t|0.31199219022654545|\n",
      "----------------------------------------------------\n",
      "|City_3|\t|City_5|\t|0.3597249553771718|\n",
      "----------------------------------------------------\n",
      "|City_3|\t|City_6|\t|0.5631555067850975|\n",
      "----------------------------------------------------\n",
      "|City_4|\t|City_5|\t|0.32488870598689673|\n",
      "----------------------------------------------------\n",
      "|City_4|\t|City_6|\t|0.25186590217332394|\n",
      "----------------------------------------------------\n",
      "|City_5|\t|City_6|\t|0.4612219455654618|\n",
      "----------------------------------------------------\n"
     ]
    }
   ],
   "source": [
    "#generate random cordinates\n",
    "cordinates = [(np.random.rand(),np.random.rand()) for i in range(n)]\n",
    "for i in cordinates:\n",
    "    print(i)\n",
    "\n",
    "#calculate distances between the random generated cordinates\n",
    "pairwise_distance=distance.cdist(cordinates,cordinates, 'euclidean')\n",
    "print (pairwise_distance.shape)\n",
    "# to check, i am cacluting the number of pairs and check if we output k distances\n",
    "print((n*(n-1))/2) #10 and 10., so true\n",
    "#printing the table\n",
    "print(\"|From|\\t\\t|To|\\t\\t|Distance|\")\n",
    "print(\"----------------------------------------------------\")\n",
    "for i in range (n):\n",
    "    for j in range (i+1,n):\n",
    "        \n",
    "        print(\"|City_{}|\\t|City_{}|\\t|{}|\".format(i,j,pairwise_distance[i,j]))\n",
    "        print(\"----------------------------------------------------\")\n",
    "        "
   ]
  },
  {
   "cell_type": "code",
   "execution_count": null,
   "id": "2eeae87f",
   "metadata": {},
   "outputs": [],
   "source": []
  },
  {
   "cell_type": "markdown",
   "id": "3e725c61",
   "metadata": {},
   "source": [
    "# Question 6 – Matplotlib: Data"
   ]
  },
  {
   "cell_type": "code",
   "execution_count": 18,
   "id": "cb6da172",
   "metadata": {},
   "outputs": [],
   "source": [
    "n,m=10,20\n",
    "x_values = np.random.randn(m, n)\n",
    "# Generate a vector b with parameters (normally distributed both b and z)\n",
    "b_values =  np.random.normal(size=(n)) #parameters\n",
    "z_values = np.random.normal(size=(m)) #z values\n",
    "#y = Xb+z \n",
    "y = np.dot(x_values, b_values) + z_values"
   ]
  },
  {
   "cell_type": "code",
   "execution_count": 20,
   "id": "14528ce9",
   "metadata": {},
   "outputs": [],
   "source": [
    "def Q6(x, y):\n",
    "    # solution to a linear matrix equation\n",
    "    return np.linalg.lstsq(x_values, y)[0]\n"
   ]
  },
  {
   "cell_type": "code",
   "execution_count": 21,
   "id": "c903969c",
   "metadata": {},
   "outputs": [
    {
     "name": "stderr",
     "output_type": "stream",
     "text": [
      "<ipython-input-20-725352aedebc>:3: FutureWarning: `rcond` parameter will change to the default of machine precision times ``max(M, N)`` where M and N are the input matrix dimensions.\n",
      "To use the future default and silence this warning we advise to pass `rcond=None`, to keep using the old, explicitly pass `rcond=-1`.\n",
      "  return np.linalg.lstsq(x_values, y)[0]\n"
     ]
    },
    {
     "data": {
      "text/plain": [
       "array([ 1.42971763,  1.15195585, -0.47477856, -0.43158536,  0.80905552,\n",
       "        0.31879073, -1.45285326,  1.08201995,  0.04781375,  0.43728963])"
      ]
     },
     "execution_count": 21,
     "metadata": {},
     "output_type": "execute_result"
    }
   ],
   "source": [
    "x_est=Q6(x_values,y)\n",
    "x_est"
   ]
  },
  {
   "cell_type": "code",
   "execution_count": 22,
   "id": "5339b556",
   "metadata": {},
   "outputs": [
    {
     "data": {
      "text/plain": [
       "array([ 0.99951417,  1.06039379, -0.45716867, -0.53151811,  0.85810516,\n",
       "        0.14592809, -1.15619756,  1.05973162, -0.07578735,  0.30536134])"
      ]
     },
     "execution_count": 22,
     "metadata": {},
     "output_type": "execute_result"
    }
   ],
   "source": [
    "b_values"
   ]
  },
  {
   "cell_type": "code",
   "execution_count": 23,
   "id": "4731b0b7",
   "metadata": {},
   "outputs": [
    {
     "data": {
      "image/png": "[encoded data removed]",
      "text/plain": [
       "<Figure size 432x288 with 1 Axes>"
      ]
     },
     "metadata": {
      "needs_background": "light"
     },
     "output_type": "display_data"
    }
   ],
   "source": [
    "import matplotlib.pyplot as plt\n",
    "\n",
    "#plot\n",
    "#plot the function\n",
    "plt.scatter([i for i in range (n)], b_values,marker=\"o\",label=\"True coeffeicents\")\n",
    "plt.scatter([i for i in range (n)],x_est,marker='x',label=\"Estimated coeffeicents\")\n",
    "plt.axhline(y=0, color='r', linestyle='-')\n",
    "\n",
    "plt.xlabel('Index')\n",
    "plt.ylabel('Value')\n",
    "plt.legend(loc=0)\n",
    "plt.show()"
   ]
  },
  {
   "cell_type": "markdown",
   "id": "fa09f408",
   "metadata": {},
   "source": [
    "# Question 1 – Functions: Root finding"
   ]
  },
  {
   "cell_type": "code",
   "execution_count": 24,
   "id": "3525f8bf",
   "metadata": {},
   "outputs": [],
   "source": [
    "import numpy as np"
   ]
  },
  {
   "cell_type": "code",
   "execution_count": 25,
   "id": "a4bfe6f7",
   "metadata": {},
   "outputs": [],
   "source": [
    "'''\n",
    "(a) \n",
    "'''\n",
    "\n",
    "#in this implementation i will be using the bisection method\n",
    "def root(f,a,b): \n",
    "    \n",
    "    s=a #starting\n",
    "    b=b #bound\n",
    "    \n",
    "    \n",
    "    #defined threshold \n",
    "    threshold=0.001 #threshold for convergence\n",
    "    while abs(s-b)>= threshold:\n",
    "        mid=(s+b)/2.0 #calculate the nmid interval\n",
    "        \n",
    "        #check the function results\n",
    "        res=f(mid)*f(s)\n",
    "        \n",
    "        #if the result is greater than the threshold\n",
    "        if res>threshold:\n",
    "            s=mid\n",
    "        else:\n",
    "            if threshold>res:\n",
    "                b=mid\n",
    "    \n",
    "    return mid\n"
   ]
  },
  {
   "cell_type": "code",
   "execution_count": 26,
   "id": "6e3bfbad",
   "metadata": {},
   "outputs": [
    {
     "data": {
      "text/plain": [
       "1.4882564544677734"
      ]
     },
     "execution_count": 26,
     "metadata": {},
     "output_type": "execute_result"
    }
   ],
   "source": [
    "# i used the function defined in question 4\n",
    "root(Q4,1,500)"
   ]
  },
  {
   "cell_type": "code",
   "execution_count": 27,
   "id": "47b7dc4c",
   "metadata": {},
   "outputs": [],
   "source": [
    "'''\n",
    "(b) \n",
    "'''\n",
    "#in this implementation i will be using the bisection method\n",
    "def root(f,a,b): \n",
    "    \n",
    "    #now, we need to check which one is greater and which is smaller before calculating\n",
    "    s=min(a,b) #starting\n",
    "    b=max(a,b) #bound\n",
    "    \n",
    "    if f(s)*f(b)>0:\n",
    "        s=-900#random value i am assigning mimumum value for s\n",
    "    #defined threshold\n",
    "    threshold=0.001 #threshold for convergence\n",
    "    while abs(s-b)>= threshold:\n",
    "        mid=(s+b)/2.0 #calculate the nmid interval\n",
    "        \n",
    "        #check the function results\n",
    "        res=f(mid)*f(s)\n",
    "        \n",
    "        #if the result is greater than the threshold\n",
    "        if res>threshold:\n",
    "            s=mid\n",
    "        else:\n",
    "            if threshold>res:\n",
    "                b=mid\n",
    "    \n",
    "    return mid\n"
   ]
  },
  {
   "cell_type": "code",
   "execution_count": 28,
   "id": "f30563ce",
   "metadata": {},
   "outputs": [
    {
     "data": {
      "text/plain": [
       "1.4882564544677734"
      ]
     },
     "execution_count": 28,
     "metadata": {},
     "output_type": "execute_result"
    }
   ],
   "source": [
    "# i used the function defined in question 4\n",
    "root(Q4,1,500)"
   ]
  },
  {
   "cell_type": "code",
   "execution_count": 29,
   "id": "272cdbc4",
   "metadata": {},
   "outputs": [],
   "source": [
    "'''\n",
    "c\n",
    "'''\n",
    "'''\n",
    "Add a check that prints\n",
    "’function evals have same sign’\n",
    "if f(a) > 0 and f(b) > 0 or if f(a) < 0 and f(b) < 0.\n",
    "'''\n",
    "#in this implementation i will be using the bisection method\n",
    "def root(f,a,b): \n",
    "    \n",
    "    s=min(a,b) #starting\n",
    "    b=max(a,b) #bound\n",
    "    \n",
    "    if f(s)*f(b)>0:\n",
    "        s=-900#random value\n",
    "    #defined threshold\n",
    "    threshold=0.001 #threshold for convergence\n",
    "    while abs(s-b)>= threshold:\n",
    "        mid=(s+b)/2.0 #calculate the nmid interval\n",
    "        \n",
    "        #check the function results\n",
    "        res=f(mid)*f(s)\n",
    "        \n",
    "        #if the result is greater than the threshold \n",
    "        if res>threshold:\n",
    "            s=mid\n",
    "        else:\n",
    "            if threshold>res:\n",
    "                b=mid\n",
    "        \n",
    "        if f(s)>0 and f(b)>0:\n",
    "            print(\"functions have the same sign\")\n",
    "        elif f(s)<0 and f(b)<0:\n",
    "             print(\"functions have the same sign\")\n",
    "    \n",
    "    return mid\n"
   ]
  },
  {
   "cell_type": "code",
   "execution_count": 30,
   "id": "41c9ec6f",
   "metadata": {},
   "outputs": [
    {
     "name": "stdout",
     "output_type": "stream",
     "text": [
      "functions have the same sign\n",
      "functions have the same sign\n",
      "functions have the same sign\n",
      "functions have the same sign\n",
      "functions have the same sign\n",
      "functions have the same sign\n",
      "functions have the same sign\n",
      "functions have the same sign\n",
      "functions have the same sign\n",
      "functions have the same sign\n",
      "functions have the same sign\n",
      "functions have the same sign\n",
      "functions have the same sign\n",
      "functions have the same sign\n",
      "functions have the same sign\n"
     ]
    },
    {
     "data": {
      "text/plain": [
       "1.4882564544677734"
      ]
     },
     "execution_count": 30,
     "metadata": {},
     "output_type": "execute_result"
    }
   ],
   "source": [
    "# i used the function defined in question 4\n",
    "root(Q4,1,500)"
   ]
  },
  {
   "cell_type": "code",
   "execution_count": null,
   "id": "583e69ad",
   "metadata": {},
   "outputs": [],
   "source": []
  }
 ],
 "metadata": {
  "kernelspec": {
   "display_name": "Python 3",
   "language": "python",
   "name": "python3"
  },
  "language_info": {
   "codemirror_mode": {
    "name": "ipython",
    "version": 3
   },
   "file_extension": ".py",
   "mimetype": "text/x-python",
   "name": "python",
   "nbconvert_exporter": "python",
   "pygments_lexer": "ipython3",
   "version": "3.8.8"
  }
 },
 "nbformat": 4,
 "nbformat_minor": 5
}

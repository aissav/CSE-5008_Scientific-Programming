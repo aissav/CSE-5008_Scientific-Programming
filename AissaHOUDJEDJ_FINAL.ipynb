{
 "cells": [
  {
   "cell_type": "code",
   "execution_count": 1,
   "id": "2d4ad22c",
   "metadata": {},
   "outputs": [],
   "source": [
    "import pandas as pd\n",
    "import numpy as np"
   ]
  },
  {
   "attachments": {},
   "cell_type": "markdown",
   "id": "055eb7aa",
   "metadata": {},
   "source": [
    "# Question 1 (15pts)"
   ]
  },
  {
   "cell_type": "code",
   "execution_count": 112,
   "id": "82e9a03b",
   "metadata": {},
   "outputs": [],
   "source": [
    "data={'Area':['Array','Stack','Queue'],'Student1':[20,6,19],'Student2':[4,20,14]}\n",
    "df = pd.DataFrame(data, index =['Cat_1', 'Cat_2', 'Cat_3'])"
   ]
  },
  {
   "cell_type": "code",
   "execution_count": 113,
   "id": "f45255c9",
   "metadata": {},
   "outputs": [
    {
     "data": {
      "text/html": [
       "<div>\n",
       "<style scoped>\n",
       "    .dataframe tbody tr th:only-of-type {\n",
       "        vertical-align: middle;\n",
       "    }\n",
       "\n",
       "    .dataframe tbody tr th {\n",
       "        vertical-align: top;\n",
       "    }\n",
       "\n",
       "    .dataframe thead th {\n",
       "        text-align: right;\n",
       "    }\n",
       "</style>\n",
       "<table border=\"1\" class=\"dataframe\">\n",
       "  <thead>\n",
       "    <tr style=\"text-align: right;\">\n",
       "      <th></th>\n",
       "      <th>Area</th>\n",
       "      <th>Student1</th>\n",
       "      <th>Student2</th>\n",
       "    </tr>\n",
       "  </thead>\n",
       "  <tbody>\n",
       "    <tr>\n",
       "      <th>Cat_1</th>\n",
       "      <td>Array</td>\n",
       "      <td>20</td>\n",
       "      <td>4</td>\n",
       "    </tr>\n",
       "    <tr>\n",
       "      <th>Cat_2</th>\n",
       "      <td>Stack</td>\n",
       "      <td>6</td>\n",
       "      <td>20</td>\n",
       "    </tr>\n",
       "    <tr>\n",
       "      <th>Cat_3</th>\n",
       "      <td>Queue</td>\n",
       "      <td>19</td>\n",
       "      <td>14</td>\n",
       "    </tr>\n",
       "  </tbody>\n",
       "</table>\n",
       "</div>"
      ],
      "text/plain": [
       "        Area  Student1  Student2\n",
       "Cat_1  Array        20         4\n",
       "Cat_2  Stack         6        20\n",
       "Cat_3  Queue        19        14"
      ]
     },
     "execution_count": 113,
     "metadata": {},
     "output_type": "execute_result"
    }
   ],
   "source": [
    "df"
   ]
  },
  {
   "cell_type": "code",
   "execution_count": 114,
   "id": "3dbef89e",
   "metadata": {
    "scrolled": true
   },
   "outputs": [
    {
     "name": "stdout",
     "output_type": "stream",
     "text": [
      "[['Array', 20, 4], ['Stack', 6, 20], ['Queue', 19, 14]]\n"
     ]
    },
    {
     "data": {
      "text/html": [
       "<div>\n",
       "<style scoped>\n",
       "    .dataframe tbody tr th:only-of-type {\n",
       "        vertical-align: middle;\n",
       "    }\n",
       "\n",
       "    .dataframe tbody tr th {\n",
       "        vertical-align: top;\n",
       "    }\n",
       "\n",
       "    .dataframe thead th {\n",
       "        text-align: right;\n",
       "    }\n",
       "</style>\n",
       "<table border=\"1\" class=\"dataframe\">\n",
       "  <thead>\n",
       "    <tr style=\"text-align: right;\">\n",
       "      <th></th>\n",
       "      <th>Area</th>\n",
       "      <th>Student1</th>\n",
       "      <th>Student2</th>\n",
       "    </tr>\n",
       "  </thead>\n",
       "  <tbody>\n",
       "    <tr>\n",
       "      <th>Cat_1</th>\n",
       "      <td>Array</td>\n",
       "      <td>20</td>\n",
       "      <td>4</td>\n",
       "    </tr>\n",
       "    <tr>\n",
       "      <th>Cat_2</th>\n",
       "      <td>Stack</td>\n",
       "      <td>6</td>\n",
       "      <td>20</td>\n",
       "    </tr>\n",
       "    <tr>\n",
       "      <th>Cat_3</th>\n",
       "      <td>Queue</td>\n",
       "      <td>19</td>\n",
       "      <td>14</td>\n",
       "    </tr>\n",
       "  </tbody>\n",
       "</table>\n",
       "</div>"
      ],
      "text/plain": [
       "        Area  Student1  Student2\n",
       "Cat_1  Array        20         4\n",
       "Cat_2  Stack         6        20\n",
       "Cat_3  Queue        19        14"
      ]
     },
     "execution_count": 114,
     "metadata": {},
     "output_type": "execute_result"
    }
   ],
   "source": [
    "'''\n",
    "Above is a code segment that creates a DataFrame from a dict of lists.\n",
    "Write a code segment to create the same dataframe from a list of lists (i.e. appropriately \n",
    "create the variables data and df).\n",
    "'''\n",
    "\n",
    "\n",
    "data=[[],[],[]]\n",
    "index_=df.index\n",
    "columns_=df.columns\n",
    "k=0\n",
    "for i in df.index:\n",
    "    \n",
    "    data[k].append(df[\"Area\"][i])\n",
    "    data[k].append(df[\"Student1\"][i])\n",
    "    data[k].append(df[\"Student2\"][i])\n",
    "    k+=1\n",
    "print(data)\n",
    "#final output\n",
    "data_lists=pd.DataFrame(data,index=index_,columns=columns_)\n",
    "data_lists"
   ]
  },
  {
   "cell_type": "code",
   "execution_count": 115,
   "id": "fe48587c",
   "metadata": {},
   "outputs": [
    {
     "data": {
      "text/html": [
       "<div>\n",
       "<style scoped>\n",
       "    .dataframe tbody tr th:only-of-type {\n",
       "        vertical-align: middle;\n",
       "    }\n",
       "\n",
       "    .dataframe tbody tr th {\n",
       "        vertical-align: top;\n",
       "    }\n",
       "\n",
       "    .dataframe thead th {\n",
       "        text-align: right;\n",
       "    }\n",
       "</style>\n",
       "<table border=\"1\" class=\"dataframe\">\n",
       "  <thead>\n",
       "    <tr style=\"text-align: right;\">\n",
       "      <th></th>\n",
       "      <th>Area</th>\n",
       "      <th>Student1</th>\n",
       "      <th>Student2</th>\n",
       "    </tr>\n",
       "  </thead>\n",
       "  <tbody>\n",
       "    <tr>\n",
       "      <th>Cat_1</th>\n",
       "      <td>True</td>\n",
       "      <td>True</td>\n",
       "      <td>True</td>\n",
       "    </tr>\n",
       "    <tr>\n",
       "      <th>Cat_2</th>\n",
       "      <td>True</td>\n",
       "      <td>True</td>\n",
       "      <td>True</td>\n",
       "    </tr>\n",
       "    <tr>\n",
       "      <th>Cat_3</th>\n",
       "      <td>True</td>\n",
       "      <td>True</td>\n",
       "      <td>True</td>\n",
       "    </tr>\n",
       "  </tbody>\n",
       "</table>\n",
       "</div>"
      ],
      "text/plain": [
       "       Area  Student1  Student2\n",
       "Cat_1  True      True      True\n",
       "Cat_2  True      True      True\n",
       "Cat_3  True      True      True"
      ]
     },
     "execution_count": 115,
     "metadata": {},
     "output_type": "execute_result"
    }
   ],
   "source": [
    "#to check\n",
    "data_lists==df"
   ]
  },
  {
   "attachments": {},
   "cell_type": "markdown",
   "id": "f8eecb48",
   "metadata": {},
   "source": [
    "# Question 2 (10pts) What is the output of the code segment below?!"
   ]
  },
  {
   "cell_type": "code",
   "execution_count": 117,
   "id": "62cce8d2",
   "metadata": {},
   "outputs": [
    {
     "data": {
      "text/html": [
       "<div>\n",
       "<style scoped>\n",
       "    .dataframe tbody tr th:only-of-type {\n",
       "        vertical-align: middle;\n",
       "    }\n",
       "\n",
       "    .dataframe tbody tr th {\n",
       "        vertical-align: top;\n",
       "    }\n",
       "\n",
       "    .dataframe thead th {\n",
       "        text-align: right;\n",
       "    }\n",
       "</style>\n",
       "<table border=\"1\" class=\"dataframe\">\n",
       "  <thead>\n",
       "    <tr style=\"text-align: right;\">\n",
       "      <th></th>\n",
       "      <th>one</th>\n",
       "      <th>two</th>\n",
       "    </tr>\n",
       "  </thead>\n",
       "  <tbody>\n",
       "    <tr>\n",
       "      <th>d</th>\n",
       "      <td>NaN</td>\n",
       "      <td>3</td>\n",
       "    </tr>\n",
       "    <tr>\n",
       "      <th>b</th>\n",
       "      <td>NaN</td>\n",
       "      <td>1</td>\n",
       "    </tr>\n",
       "    <tr>\n",
       "      <th>a</th>\n",
       "      <td>1.0</td>\n",
       "      <td>0</td>\n",
       "    </tr>\n",
       "  </tbody>\n",
       "</table>\n",
       "</div>"
      ],
      "text/plain": [
       "   one  two\n",
       "d  NaN    3\n",
       "b  NaN    1\n",
       "a  1.0    0"
      ]
     },
     "execution_count": 117,
     "metadata": {},
     "output_type": "execute_result"
    }
   ],
   "source": [
    "d = {'one': pd.Series([1,2], index  = ['a','e']), \n",
    "     'two': pd.Series(list(range(4)), index = ['a','b', 'c', 'd'])}\n",
    "df = pd.DataFrame(d, index = ['d', 'b', 'a'])\n",
    "df\n"
   ]
  },
  {
   "cell_type": "code",
   "execution_count": null,
   "id": "70192e95",
   "metadata": {},
   "outputs": [],
   "source": [
    "'''\n",
    "The output is the following:\n",
    "First we created a data frame from dictionary \"d\", that contains some index a and e for one,\n",
    "'a','b', 'c', and  'd' for two,\n",
    "but while creating the dataframe, we assigned some specific index values, d,b, and a,\n",
    "so here, we going to assign the specific index values to the new dataframe, \n",
    "and use the content of dictionaty d to fill the dataframe, \n",
    "if there exist an index from the selected specific ones in d, then we assign the data from the dictionary,\n",
    "otherwise it will be assigned a null pointer.\n",
    "\n",
    "Even, when converting the d to dataframe, since we have two coulmns in one, we miss some rows (missmatch or not exist)\n",
    "so, automatically will be filled by Nan\n",
    "for rexample b does not exit in column one, but in two, so Nan will be assigned to one.\n",
    "Anothier thing, the generated dataframe, will be ordered via the order of the selected index.\n",
    "\n",
    "'''"
   ]
  },
  {
   "attachments": {},
   "cell_type": "markdown",
   "id": "fdfeb260",
   "metadata": {},
   "source": [
    "# Question 3 (10pts)"
   ]
  },
  {
   "cell_type": "code",
   "execution_count": 86,
   "id": "ea5490e4",
   "metadata": {},
   "outputs": [
    {
     "data": {
      "text/html": [
       "<div>\n",
       "<style scoped>\n",
       "    .dataframe tbody tr th:only-of-type {\n",
       "        vertical-align: middle;\n",
       "    }\n",
       "\n",
       "    .dataframe tbody tr th {\n",
       "        vertical-align: top;\n",
       "    }\n",
       "\n",
       "    .dataframe thead th {\n",
       "        text-align: right;\n",
       "    }\n",
       "</style>\n",
       "<table border=\"1\" class=\"dataframe\">\n",
       "  <thead>\n",
       "    <tr style=\"text-align: right;\">\n",
       "      <th></th>\n",
       "      <th>A</th>\n",
       "      <th>B</th>\n",
       "      <th>C</th>\n",
       "      <th>D</th>\n",
       "    </tr>\n",
       "  </thead>\n",
       "  <tbody>\n",
       "    <tr>\n",
       "      <th>2000-01-05</th>\n",
       "      <td>0.591796</td>\n",
       "      <td>-1.225009</td>\n",
       "      <td>-1.258568</td>\n",
       "      <td>-0.753578</td>\n",
       "    </tr>\n",
       "    <tr>\n",
       "      <th>2000-01-08</th>\n",
       "      <td>-0.855037</td>\n",
       "      <td>0.252539</td>\n",
       "      <td>-0.659923</td>\n",
       "      <td>-0.464025</td>\n",
       "    </tr>\n",
       "  </tbody>\n",
       "</table>\n",
       "</div>"
      ],
      "text/plain": [
       "                   A         B         C         D\n",
       "2000-01-05  0.591796 -1.225009 -1.258568 -0.753578\n",
       "2000-01-08 -0.855037  0.252539 -0.659923 -0.464025"
      ]
     },
     "execution_count": 86,
     "metadata": {},
     "output_type": "execute_result"
    }
   ],
   "source": [
    "dates = pd.date_range('1/1/2000', periods=8)\n",
    "df = pd.DataFrame(np.random.randn(8, 4), index=dates, columns=['A', 'B', 'C','D'])\n",
    "'''\n",
    "Write a code segment that prints last two rows of df that statisfy column A+column B>Column C.\n",
    "'''\n",
    "df.loc[(df.A +df.B) > df.C,:].iloc[-2:,:]"
   ]
  },
  {
   "cell_type": "code",
   "execution_count": 89,
   "id": "49605a45",
   "metadata": {},
   "outputs": [
    {
     "data": {
      "text/plain": [
       "2000-01-01    False\n",
       "2000-01-02     True\n",
       "2000-01-03     True\n",
       "2000-01-04    False\n",
       "2000-01-05     True\n",
       "2000-01-06    False\n",
       "2000-01-07    False\n",
       "2000-01-08     True\n",
       "Freq: D, dtype: bool"
      ]
     },
     "execution_count": 89,
     "metadata": {},
     "output_type": "execute_result"
    }
   ],
   "source": [
    "#to check\n",
    "df.A+df.B>df.C"
   ]
  },
  {
   "cell_type": "markdown",
   "id": "a7a2a28c",
   "metadata": {},
   "source": [
    "# Question 4 (15pts)"
   ]
  },
  {
   "cell_type": "code",
   "execution_count": 84,
   "id": "39b9313b",
   "metadata": {},
   "outputs": [
    {
     "data": {
      "text/html": [
       "<div>\n",
       "<style scoped>\n",
       "    .dataframe tbody tr th:only-of-type {\n",
       "        vertical-align: middle;\n",
       "    }\n",
       "\n",
       "    .dataframe tbody tr th {\n",
       "        vertical-align: top;\n",
       "    }\n",
       "\n",
       "    .dataframe thead th {\n",
       "        text-align: right;\n",
       "    }\n",
       "</style>\n",
       "<table border=\"1\" class=\"dataframe\">\n",
       "  <thead>\n",
       "    <tr style=\"text-align: right;\">\n",
       "      <th></th>\n",
       "      <th>Date</th>\n",
       "      <th>Event</th>\n",
       "      <th>Price</th>\n",
       "    </tr>\n",
       "  </thead>\n",
       "  <tbody>\n",
       "    <tr>\n",
       "      <th>0</th>\n",
       "      <td>1/2/2011</td>\n",
       "      <td>Music</td>\n",
       "      <td>1500</td>\n",
       "    </tr>\n",
       "    <tr>\n",
       "      <th>1</th>\n",
       "      <td>1/3/2011</td>\n",
       "      <td>Poetry</td>\n",
       "      <td>800</td>\n",
       "    </tr>\n",
       "    <tr>\n",
       "      <th>2</th>\n",
       "      <td>1/4/2011</td>\n",
       "      <td>Music</td>\n",
       "      <td>1500</td>\n",
       "    </tr>\n",
       "    <tr>\n",
       "      <th>3</th>\n",
       "      <td>1/5/2011</td>\n",
       "      <td>Music</td>\n",
       "      <td>1500</td>\n",
       "    </tr>\n",
       "    <tr>\n",
       "      <th>4</th>\n",
       "      <td>1/6/2011</td>\n",
       "      <td>Poetry</td>\n",
       "      <td>800</td>\n",
       "    </tr>\n",
       "  </tbody>\n",
       "</table>\n",
       "</div>"
      ],
      "text/plain": [
       "       Date   Event  Price\n",
       "0  1/2/2011   Music   1500\n",
       "1  1/3/2011  Poetry    800\n",
       "2  1/4/2011   Music   1500\n",
       "3  1/5/2011   Music   1500\n",
       "4  1/6/2011  Poetry    800"
      ]
     },
     "execution_count": 84,
     "metadata": {},
     "output_type": "execute_result"
    }
   ],
   "source": [
    "df=pd.DataFrame({'Date':['1/2/2011','1/3/2011','1/4/2011','1/5/2011', '1/6/2011'],\n",
    "                 'Event': ['Music', 'Poetry', 'Music', 'Music', 'Poetry']})\n",
    "'''\n",
    "Write a single line of code to add a new column called ‘Price’ to the dataframe df. Set the price \n",
    "to 1500 if the ‘Event’ is ‘Music’ else 800. \n",
    "'''\n",
    "df[\"Price\"]=[1500 if EVENT =='Music' else 800 for EVENT in df['Event']]\n",
    "df"
   ]
  },
  {
   "attachments": {},
   "cell_type": "markdown",
   "id": "6cfabe01",
   "metadata": {},
   "source": [
    "# Question 5 (15pts)"
   ]
  },
  {
   "cell_type": "code",
   "execution_count": 65,
   "id": "f3c84368",
   "metadata": {},
   "outputs": [
    {
     "data": {
      "text/html": [
       "<div>\n",
       "<style scoped>\n",
       "    .dataframe tbody tr th:only-of-type {\n",
       "        vertical-align: middle;\n",
       "    }\n",
       "\n",
       "    .dataframe tbody tr th {\n",
       "        vertical-align: top;\n",
       "    }\n",
       "\n",
       "    .dataframe thead th {\n",
       "        text-align: right;\n",
       "    }\n",
       "</style>\n",
       "<table border=\"1\" class=\"dataframe\">\n",
       "  <thead>\n",
       "    <tr style=\"text-align: right;\">\n",
       "      <th></th>\n",
       "      <th>Name</th>\n",
       "      <th>Age</th>\n",
       "      <th>Stream</th>\n",
       "      <th>Percent</th>\n",
       "    </tr>\n",
       "  </thead>\n",
       "  <tbody>\n",
       "    <tr>\n",
       "      <th>0</th>\n",
       "      <td>Ankit</td>\n",
       "      <td>21</td>\n",
       "      <td>Math</td>\n",
       "      <td>88</td>\n",
       "    </tr>\n",
       "    <tr>\n",
       "      <th>5</th>\n",
       "      <td>Shaurya</td>\n",
       "      <td>21</td>\n",
       "      <td>Science</td>\n",
       "      <td>78</td>\n",
       "    </tr>\n",
       "  </tbody>\n",
       "</table>\n",
       "</div>"
      ],
      "text/plain": [
       "      Name  Age   Stream  Percent\n",
       "0    Ankit   21     Math       88\n",
       "5  Shaurya   21  Science       78"
      ]
     },
     "execution_count": 65,
     "metadata": {},
     "output_type": "execute_result"
    }
   ],
   "source": [
    "record = {'Name': ['Ankit', 'Amit', 'Aishwarya', 'Priyanka', 'Priya', 'Shaurya' ],\n",
    "  \t    'Age': [21, 19, 20, 18, 17, 21], 'Percent': [88, 92, 95, 70, 65, 78],\n",
    "  \t    'Stream': ['Math', 'Commerce', 'Science', 'Math', 'Math', 'Science']}\n",
    "dataframe = pd.DataFrame(record,columns=['Name','Age','Stream','Percent'])\n",
    "'''\n",
    "Write a code segment to select all the rows from the given dataframe in which\n",
    "‘Age’ is equal to 21 and ‘Stream’ is either Science or Math using .loc[].\n",
    "'''\n",
    "dataframe.loc[(dataframe.Age==21) & (dataframe.Stream.isin([\"Math\",\"Science\"]))]"
   ]
  },
  {
   "cell_type": "markdown",
   "id": "ef5bfa3d",
   "metadata": {},
   "source": [
    "# Question 6 (20pts)"
   ]
  },
  {
   "cell_type": "code",
   "execution_count": 101,
   "id": "3567e287",
   "metadata": {
    "scrolled": true
   },
   "outputs": [
    {
     "data": {
      "text/plain": [
       "\"\\nAbove is an example of training a regression model predicting \\nthe age of an abalone given its length feature. Modify this code segment \\nto train a new regression model using 'diameter', 'viscera_weight' and 'diameter'^2/'viscera_weight' \\n(i.e. 'diameter' squared divided by 'viscera_weight') as additional features.\\n\""
      ]
     },
     "execution_count": 101,
     "metadata": {},
     "output_type": "execute_result"
    }
   ],
   "source": [
    "\n",
    "#df = pd.read_csv('link_to_abalone.data',header=None,names=['sex','length','diameter','height','weight','shucked_weight','viscera_weight','shell_weight','rings'])\n",
    "df = pd.read_csv('http://archive.ics.uci.edu/ml/machine-learning-databases/abalone/abalone.data',\n",
    " header=None, names=['sex', 'length', 'diameter', 'height', 'weight', 'shucked_weight',\n",
    " 'viscera_weight', 'shell_weight', 'rings'])\n",
    "X = df[['length']].to_numpy()\n",
    "y = df['rings'].to_numpy()\n",
    "from sklearn import linear_model\n",
    "model = linear_model.LinearRegression()\n",
    "model.fit(X, y)\n",
    "'''\n",
    "Above is an example of training a regression model predicting \n",
    "the age of an abalone given its length feature. Modify this code segment \n",
    "to train a new regression model using 'diameter', 'viscera_weight' and 'diameter'^2/'viscera_weight' \n",
    "(i.e. 'diameter' squared divided by 'viscera_weight') as additional features.\n",
    "'''"
   ]
  },
  {
   "cell_type": "markdown",
   "id": "88e00ece",
   "metadata": {},
   "source": [
    "# The updated code is"
   ]
  },
  {
   "cell_type": "markdown",
   "id": "9a1235e7",
   "metadata": {},
   "source": [
    "### !!!!!!!! Note: Since i don't have the dataset, i just wrote the code here."
   ]
  },
  {
   "cell_type": "code",
   "execution_count": 104,
   "id": "0d508d05",
   "metadata": {},
   "outputs": [
    {
     "data": {
      "text/plain": [
       "LinearRegression()"
      ]
     },
     "execution_count": 104,
     "metadata": {},
     "output_type": "execute_result"
    }
   ],
   "source": [
    "df_new=df.copy() #create a copy of original data\n",
    "df_new[\"New_Diameter\"]=df.diameter**2/df.viscera_weight #create the new diameter column\n",
    "X = df_new[['diameter', 'viscera_weight','New_Diameter']].to_numpy() #convery to numpy\n",
    "y = df_new['rings'].to_numpy()\n",
    "from sklearn import linear_model\n",
    "#train the mpdel\n",
    "model = linear_model.LinearRegression()\n",
    "model.fit(X, y)"
   ]
  },
  {
   "cell_type": "code",
   "execution_count": 106,
   "id": "5d282460",
   "metadata": {},
   "outputs": [
    {
     "data": {
      "text/html": [
       "<div>\n",
       "<style scoped>\n",
       "    .dataframe tbody tr th:only-of-type {\n",
       "        vertical-align: middle;\n",
       "    }\n",
       "\n",
       "    .dataframe tbody tr th {\n",
       "        vertical-align: top;\n",
       "    }\n",
       "\n",
       "    .dataframe thead th {\n",
       "        text-align: right;\n",
       "    }\n",
       "</style>\n",
       "<table border=\"1\" class=\"dataframe\">\n",
       "  <thead>\n",
       "    <tr style=\"text-align: right;\">\n",
       "      <th></th>\n",
       "      <th>diameter</th>\n",
       "      <th>viscera_weight</th>\n",
       "      <th>New_Diameter</th>\n",
       "    </tr>\n",
       "  </thead>\n",
       "  <tbody>\n",
       "    <tr>\n",
       "      <th>0</th>\n",
       "      <td>0.365</td>\n",
       "      <td>0.1010</td>\n",
       "      <td>1.319059</td>\n",
       "    </tr>\n",
       "    <tr>\n",
       "      <th>1</th>\n",
       "      <td>0.265</td>\n",
       "      <td>0.0485</td>\n",
       "      <td>1.447938</td>\n",
       "    </tr>\n",
       "    <tr>\n",
       "      <th>2</th>\n",
       "      <td>0.420</td>\n",
       "      <td>0.1415</td>\n",
       "      <td>1.246643</td>\n",
       "    </tr>\n",
       "    <tr>\n",
       "      <th>3</th>\n",
       "      <td>0.365</td>\n",
       "      <td>0.1140</td>\n",
       "      <td>1.168640</td>\n",
       "    </tr>\n",
       "    <tr>\n",
       "      <th>4</th>\n",
       "      <td>0.255</td>\n",
       "      <td>0.0395</td>\n",
       "      <td>1.646203</td>\n",
       "    </tr>\n",
       "    <tr>\n",
       "      <th>...</th>\n",
       "      <td>...</td>\n",
       "      <td>...</td>\n",
       "      <td>...</td>\n",
       "    </tr>\n",
       "    <tr>\n",
       "      <th>4172</th>\n",
       "      <td>0.450</td>\n",
       "      <td>0.2390</td>\n",
       "      <td>0.847280</td>\n",
       "    </tr>\n",
       "    <tr>\n",
       "      <th>4173</th>\n",
       "      <td>0.440</td>\n",
       "      <td>0.2145</td>\n",
       "      <td>0.902564</td>\n",
       "    </tr>\n",
       "    <tr>\n",
       "      <th>4174</th>\n",
       "      <td>0.475</td>\n",
       "      <td>0.2875</td>\n",
       "      <td>0.784783</td>\n",
       "    </tr>\n",
       "    <tr>\n",
       "      <th>4175</th>\n",
       "      <td>0.485</td>\n",
       "      <td>0.2610</td>\n",
       "      <td>0.901245</td>\n",
       "    </tr>\n",
       "    <tr>\n",
       "      <th>4176</th>\n",
       "      <td>0.555</td>\n",
       "      <td>0.3765</td>\n",
       "      <td>0.818127</td>\n",
       "    </tr>\n",
       "  </tbody>\n",
       "</table>\n",
       "<p>4177 rows × 3 columns</p>\n",
       "</div>"
      ],
      "text/plain": [
       "      diameter  viscera_weight  New_Diameter\n",
       "0        0.365          0.1010      1.319059\n",
       "1        0.265          0.0485      1.447938\n",
       "2        0.420          0.1415      1.246643\n",
       "3        0.365          0.1140      1.168640\n",
       "4        0.255          0.0395      1.646203\n",
       "...        ...             ...           ...\n",
       "4172     0.450          0.2390      0.847280\n",
       "4173     0.440          0.2145      0.902564\n",
       "4174     0.475          0.2875      0.784783\n",
       "4175     0.485          0.2610      0.901245\n",
       "4176     0.555          0.3765      0.818127\n",
       "\n",
       "[4177 rows x 3 columns]"
      ]
     },
     "execution_count": 106,
     "metadata": {},
     "output_type": "execute_result"
    }
   ],
   "source": [
    "df_new[['diameter', 'viscera_weight','New_Diameter']]"
   ]
  },
  {
   "attachments": {},
   "cell_type": "markdown",
   "id": "7b4c88fb",
   "metadata": {},
   "source": [
    "# Question 7 (15pts)"
   ]
  },
  {
   "cell_type": "code",
   "execution_count": null,
   "id": "82452f80",
   "metadata": {},
   "outputs": [],
   "source": [
    "import torch\n",
    "# Features are 3 random normal variables\n",
    "features = torch.randn((1, 3))\n",
    "# Define the size of each layer in our network\n",
    "# Number of input units, must match number of input features\n",
    "n_input = features.shape[1]     \n",
    "n_hidden = 2                # Number of hidden units \n",
    "\n",
    "##########\n",
    "n_hidden_new = 5               # Number of hidden units \n",
    "##########\n",
    "\n",
    "n_output = 1                # Number of output units\n",
    "\n",
    "# Weights for inputs to hidden layer\n",
    "W1 = torch.randn(n_input, n_hidden) \n",
    "\n",
    "#new layer\n",
    "Wn=torch.randn(n_hidden, n_hidden_new) \n",
    "\n",
    "# Weights for hidden layer to output layer\n",
    "W2 = torch.randn(n_hidden_new, n_output)\n",
    "\n",
    "'''\n",
    "Add biases\n",
    "'''\n",
    "B1=torch.randn(W1.shape[1]) \n",
    "B2=torch.randn(Wn.shape[1]) \n",
    "B3=torch.randn(W2.shape[1]) \n",
    "\n",
    "# calculate the output for this multi-layer network using the weights W1 & W2. \n",
    "h = activation(torch.mm(features, W1))+B1\n",
    "h_2 = activation(torch.mm(h, Wn))+B2\n",
    "output = activation(torch.mm(h_2, W2))+B3\n",
    "print(output)\n",
    "'''\n",
    "Above is a code segment for constructing a neural network with a\n",
    "single hidden layer with 2 hidden units and an output layer with a single unit is\n",
    "given below. The parameters (Wi) are initialized randomly. Modify this code segment to add \n",
    "another hidden layer with 5 hidden units and also, to supply random biases (Bi) to the \n",
    "output computation for every unit. \n",
    "'''\n",
    "DONE=100"
   ]
  },
  {
   "cell_type": "code",
   "execution_count": 108,
   "id": "d7080be2",
   "metadata": {},
   "outputs": [
    {
     "data": {
      "text/plain": [
       "tensor([0.9475, 1.6669])"
      ]
     },
     "execution_count": 108,
     "metadata": {},
     "output_type": "execute_result"
    }
   ],
   "source": [
    "torch.randn() "
   ]
  }
 ],
 "metadata": {
  "kernelspec": {
   "display_name": "Python 3",
   "language": "python",
   "name": "python3"
  },
  "language_info": {
   "codemirror_mode": {
    "name": "ipython",
    "version": 3
   },
   "file_extension": ".py",
   "mimetype": "text/x-python",
   "name": "python",
   "nbconvert_exporter": "python",
   "pygments_lexer": "ipython3",
   "version": "3.8.8"
  }
 },
 "nbformat": 4,
 "nbformat_minor": 5
}

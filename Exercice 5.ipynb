{
 "cells": [
  {
   "cell_type": "markdown",
   "id": "d3230767",
   "metadata": {},
   "source": [
    "## Exercise 5.1: Swapping two values"
   ]
  },
  {
   "cell_type": "code",
   "execution_count": 109,
   "id": "1fb30001",
   "metadata": {},
   "outputs": [
    {
     "name": "stdout",
     "output_type": "stream",
     "text": [
      "6\n",
      "5\n"
     ]
    }
   ],
   "source": [
    "'''\n",
    "Suppose you have two variables: a and b. Now you want to set a equal to the value of b and at the\n",
    "same time set b equal to the value of a.\n",
    "The following obviously does not work\n",
    "a = b\n",
    "b = a\n",
    "so in some languages, you need to define a third variable like this\n",
    "t = a\n",
    "a = b\n",
    "b = t\n",
    "However, in Python you don’t need to do this. How can you swap a and b in one line?\n",
    "'''\n",
    "#the easiest way is as shown below\n",
    "a=5\n",
    "b=6\n",
    "a,b=b,a\n",
    "print(a)\n",
    "print(b)"
   ]
  },
  {
   "cell_type": "markdown",
   "id": "1dae421f",
   "metadata": {},
   "source": [
    "## Exercise 5.2: Zip"
   ]
  },
  {
   "cell_type": "code",
   "execution_count": 110,
   "id": "8530d467",
   "metadata": {},
   "outputs": [
    {
     "name": "stdout",
     "output_type": "stream",
     "text": [
      "[1, 2, 3, 4, 5]\n",
      "[10, 11, 12, 13, 14]\n"
     ]
    }
   ],
   "source": [
    "'''\n",
    "Suppose we have two lists, x and y that give the x and y coordinates of a set of points. Create a list\n",
    "with the coordinates (x,y) as a tuple. Hint: Find out about the zip function.\n",
    "You have decided that actually, you need the two seperate lists, but unfortunately, you have thrown\n",
    "them away. How can we use zip to unzip the list of tuples to get two lists again?\n",
    "'''\n",
    "#initialize the lists\n",
    "listA=[(1,10),(2,11),(3,12),(4,13),(5,14)]\n",
    "listX,listY=list(list(zip(*listA))[0]),list(list(zip(*listA))[1])\n",
    "print(listX)\n",
    "print(listY)"
   ]
  },
  {
   "cell_type": "markdown",
   "id": "57f4b60a",
   "metadata": {},
   "source": [
    "## Exercise 5.3: Distances\n"
   ]
  },
  {
   "cell_type": "code",
   "execution_count": 112,
   "id": "406ddd44",
   "metadata": {},
   "outputs": [
    {
     "name": "stdout",
     "output_type": "stream",
     "text": [
      "l1:  86 \tl2:  23.108440016582687\n"
     ]
    }
   ],
   "source": [
    "'''\n",
    "Suppose we have two vectors, x and y, stored as tuples with n elements. Implement functions that\n",
    "compute the l1 and l2 distances between x and y. Note that n is not explicitly given.\n",
    "'''\n",
    "import math\n",
    "def Ex5_3(vector):\n",
    "    #calculate l1\n",
    "    l1=sum([vector[0][j]+vector[1][j] for j in range (len(vector[0]))])\n",
    "    #calculate l2\n",
    "    l2=math.sqrt(sum([math.pow((vector[1][j]-vector[0][j]),2) for j in range (len(vector[0]))]))\n",
    "    return l1,l2\n",
    "vector=[(1,2,4,6,12,9,1),(11,4,19,1,0,9,7)]\n",
    "l1,l2=Ex5_3(vector)\n",
    "print(\"l1: \",l1,\"\\tl2: \",l2)"
   ]
  },
  {
   "cell_type": "code",
   "execution_count": null,
   "id": "2137df35",
   "metadata": {},
   "outputs": [],
   "source": []
  }
 ],
 "metadata": {
  "kernelspec": {
   "display_name": "Python 3",
   "language": "python",
   "name": "python3"
  },
  "language_info": {
   "codemirror_mode": {
    "name": "ipython",
    "version": 3
   },
   "file_extension": ".py",
   "mimetype": "text/x-python",
   "name": "python",
   "nbconvert_exporter": "python",
   "pygments_lexer": "ipython3",
   "version": "3.8.8"
  }
 },
 "nbformat": 4,
 "nbformat_minor": 5
}

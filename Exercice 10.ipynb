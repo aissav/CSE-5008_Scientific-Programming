{
 "cells": [
  {
   "cell_type": "markdown",
   "id": "ec456e43",
   "metadata": {},
   "source": [
    "# 10 Scipy"
   ]
  },
  {
   "cell_type": "markdown",
   "id": "5637e6f0",
   "metadata": {},
   "source": [
    "# Exercise 10.1: Least squares"
   ]
  },
  {
   "cell_type": "markdown",
   "id": "1c917861",
   "metadata": {},
   "source": [
    "Generate matrix A ∈ Rm×n with m > n. Also generate some vector b ∈ Rm.\n",
    "\n",
    "*Now find x = arg minx kAx − bk2.\n",
    "\n",
    "*Print the norm of the residual."
   ]
  },
  {
   "cell_type": "code",
   "execution_count": 101,
   "id": "1e0e737d",
   "metadata": {},
   "outputs": [],
   "source": [
    "import numpy as np\n",
    "import scipy.optimize as opt\n",
    "import math\n",
    "import scipy.spatial.distance as dis"
   ]
  },
  {
   "cell_type": "code",
   "execution_count": 112,
   "id": "89c09a17",
   "metadata": {},
   "outputs": [
    {
     "name": "stdout",
     "output_type": "stream",
     "text": [
      "Shape of A:\t (100, 50)\n",
      "Shape of B:\t (100,)\n",
      "The norm of risidual is:\t 2.07618\n"
     ]
    }
   ],
   "source": [
    "m, n = 100, 50\n",
    "\n",
    "def generate_matrix(m,n):\n",
    "    if n>m:\n",
    "     return \"ERROR: Please assign a correct value for n and m where: m>n!!\"\n",
    "    #generate a random matrix of size n by m\n",
    "    return np.random.rand(m, n)  \n",
    "\n",
    "def generate_vector(size):\n",
    "    #if o is passed, then error. \n",
    "    if m==0:\n",
    "     return \"ERROR: Please assign a correct value for m where: m!!\"\n",
    "    #return a vector of size \"size\"\n",
    "    return np.random.random(size) \n",
    "\n",
    "# generete the matrix A\n",
    "A = generate_matrix(m,n)\n",
    "print(\"Shape of A:\\t\",A.shape)\n",
    "# generete the vecotr B\n",
    "B = np.random.random(m)\n",
    "print(\"Shape of B:\\t\",B.shape)\n",
    "\n",
    "#finding X\n",
    "x = opt.lsq_linear(A, B).x\n",
    "\n",
    "#norm of the residual.\n",
    "print (\"The norm of risidual is:\\t\",round(np.linalg.norm(B - np.dot(A, x)),5)) "
   ]
  },
  {
   "cell_type": "markdown",
   "id": "d2576bb5",
   "metadata": {},
   "source": [
    "# Exercise 10.2: Optimization"
   ]
  },
  {
   "cell_type": "markdown",
   "id": "ab6d255f",
   "metadata": {},
   "source": [
    "Find the maximum of the function\n",
    "\n",
    "$f(x) = sin^2(x − 2)e^{-x^2}$"
   ]
  },
  {
   "cell_type": "code",
   "execution_count": 113,
   "id": "5f0e98ed",
   "metadata": {},
   "outputs": [
    {
     "name": "stdout",
     "output_type": "stream",
     "text": [
      "The optiomized value is:  0.2162413285869684\n",
      "0.9116854118471548\n"
     ]
    }
   ],
   "source": [
    "\n",
    "def EX10_2(x):  \n",
    "    #$f(x) = sin^2(x − 2)$\n",
    "    sin_square=math.pow(np.sin(x-2), 2)\n",
    "    #e^{-x^2}\n",
    "    exp=np.exp(-1*(math.pow(x,2)))\n",
    "    #since it is the minimum value, then i must return the negative value of it\n",
    "    return  (sin_square * exp) * -1\n",
    "    \n",
    "optiomized_value = opt.minimize_scalar(EX10_2).x\n",
    "print(\"The optiomized value is: \",optiomized_value)\n",
    "#maximum of the function\n",
    "print(-EX10_2(optiomized_value))"
   ]
  },
  {
   "cell_type": "markdown",
   "id": "42b74a0b",
   "metadata": {},
   "source": [
    "# Exercise 10.3: Pairwise distances"
   ]
  },
  {
   "cell_type": "markdown",
   "id": "1ca34a35",
   "metadata": {},
   "source": [
    "Let X be a matrix with n rows and m columns. How can you compute the pairwise distances between\n",
    "every two rows?\n",
    "\n",
    "As an example application, consider n cities, and we are given their coordinates in two columns. Now\n",
    "we want a nice table that tells us for each two cities, how far they are apart.\n",
    "\n",
    "Again, make sure you make use of Scipy’s functionality instead of writing your own routine"
   ]
  },
  {
   "cell_type": "code",
   "execution_count": 98,
   "id": "7bc49750",
   "metadata": {},
   "outputs": [
    {
     "name": "stdout",
     "output_type": "stream",
     "text": [
      "[[0.19042085 0.6803735  0.95981037 0.47737756 0.23754203]\n",
      " [0.43643521 0.50349795 0.49370054 0.78739389 0.81393388]\n",
      " [0.96729358 0.10436777 0.6138975  0.64874161 0.16463101]\n",
      " [0.72651907 0.28549231 0.93035412 0.61458372 0.89854851]]\n",
      "\n",
      "\n",
      "Pairwise Distance:  [0.85872237 1.0438636  0.9486597  0.94677426 0.59947014 0.8548245 ]\n",
      "\n",
      "\n",
      "Pairwise Distances Are: \n",
      "Distance $Elem_01$ 0.8587223654425081\n",
      "Distance $Elem_02$ 1.0438636027676598\n",
      "Distance $Elem_03$ 0.9486597033580835\n",
      "Distance $Elem_12$ 0.9467742612051379\n",
      "Distance $Elem_13$ 0.5994701405449785\n",
      "Distance $Elem_23$ 0.85482449870572\n"
     ]
    }
   ],
   "source": [
    "'''\n",
    "Let X be a matrix with n rows and m columns. How can you compute the pairwise distances between\n",
    "every two rows?\n",
    "'''\n",
    "n,m=4,5\n",
    "#generate a random matrix\n",
    "x_matrix=np.random.rand(n,m)\n",
    "print(x_matrix)\n",
    "#calculate the pairwise distances\n",
    "pairwise_distance = dis.pdist(x_matrix)\n",
    "print(\"\\n\\nPairwise Distance: \",pairwise_distance)\n",
    "print(\"\\n\\nPairwise Distances Are: \")\n",
    "k=0\n",
    "#print the pairwise distances\n",
    "for i in range (n):\n",
    "    for j in range (i+1,n):\n",
    "        print(\"Distance $Elem_{}{}$\".format(i,j),pairwise_distance[k])\n",
    "        k+=1\n"
   ]
  },
  {
   "cell_type": "code",
   "execution_count": 99,
   "id": "27dacc78",
   "metadata": {},
   "outputs": [
    {
     "name": "stdout",
     "output_type": "stream",
     "text": [
      "[(0.6180212567359202, 0.018648225050173717), (0.059965253487682446, 0.6604732090566215), (0.28666703225537926, 0.7408266786642339), (0.014984715436499374, 0.4237992819183781)]\n",
      "|From|\t\t|To|\t\t|Distance|\n",
      "----------------------------------------------------\n",
      "|City_0|\t|City_1|\t|0.8505091491902212|\n",
      "----------------------------------------------------\n",
      "|City_0|\t|City_2|\t|0.7945673923245882|\n",
      "----------------------------------------------------\n",
      "|City_0|\t|City_3|\t|0.726498760510843|\n",
      "----------------------------------------------------\n",
      "|City_1|\t|City_2|\t|0.24052105224786297|\n",
      "----------------------------------------------------\n",
      "|City_1|\t|City_3|\t|0.24091034969550912|\n",
      "----------------------------------------------------\n",
      "|City_2|\t|City_3|\t|0.417513654339027|\n",
      "----------------------------------------------------\n"
     ]
    }
   ],
   "source": [
    "from scipy.spatial import distance\n",
    "#generate random cordinates\n",
    "cordinates = [(np.random.rand(),np.random.rand()) for i in range(n)]\n",
    "print(cordinates)\n",
    "\n",
    "#calculate distances between the random generated cordinates\n",
    "distances=distance.cdist(cordinates,cordinates, 'euclidean')\n",
    "\n",
    "#printing the table\n",
    "print(\"|From|\\t\\t|To|\\t\\t|Distance|\")\n",
    "print(\"----------------------------------------------------\")\n",
    "for i in range (n):\n",
    "    for j in range (i+1,n):\n",
    "        \n",
    "        print(\"|City_{}|\\t|City_{}|\\t|{}|\".format(i,j,distances[i,j]))\n",
    "        print(\"----------------------------------------------------\")\n",
    "        "
   ]
  },
  {
   "cell_type": "code",
   "execution_count": null,
   "id": "e088b9e0",
   "metadata": {},
   "outputs": [],
   "source": []
  }
 ],
 "metadata": {
  "kernelspec": {
   "display_name": "Python 3",
   "language": "python",
   "name": "python3"
  },
  "language_info": {
   "codemirror_mode": {
    "name": "ipython",
    "version": 3
   },
   "file_extension": ".py",
   "mimetype": "text/x-python",
   "name": "python",
   "nbconvert_exporter": "python",
   "pygments_lexer": "ipython3",
   "version": "3.8.8"
  }
 },
 "nbformat": 4,
 "nbformat_minor": 5
}
